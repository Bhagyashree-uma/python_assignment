{
  "nbformat": 4,
  "nbformat_minor": 0,
  "metadata": {
    "colab": {
      "provenance": []
    },
    "kernelspec": {
      "name": "python3",
      "display_name": "Python 3"
    },
    "language_info": {
      "name": "python"
    }
  },
  "cells": [
    {
      "cell_type": "markdown",
      "source": [
        "Difference between interpreted and compiled languages:\n",
        "\n",
        "Interpreted Languages: These languages are executed line-by-line by an interpreter at runtime. Examples include Python and JavaScript. They are generally easier to debug and more flexible but can be slower in execution.\n",
        "Compiled Languages: These languages are transformed into machine code by a compiler before execution. This results in faster execution times. Examples include C and C++. However, they require a separate compilation step before running the program.\n",
        "\n",
        "Exception handling in Python:\n",
        "Exception handling in Python is a mechanism to handle runtime errors gracefully. It allows a program to continue execution or to terminate gracefully when an error occurs. The main keywords used are try, except, else, and finally.\n",
        "\n",
        "Purpose of the finally block in exception handling:\n",
        "The finally block is used to execute code that must run regardless of whether an exception occurred or not. It is typically used for cleanup actions, such as closing files or releasing resources.\n",
        "\n",
        "Logging in Python:\n",
        "Logging in Python is a way to track events that happen when the software runs. The logging module provides a flexible framework for emitting log messages from Python programs. It helps in debugging and monitoring the application.\n",
        "\n",
        "Significance of the del method in Python:\n",
        "The __del__ method is a destructor in Python, called when an object is about to be destroyed. It can be used to release resources or perform cleanup actions. However, its use is generally discouraged due to potential issues with circular references and the unpredictability of its execution timing.\n",
        "\n",
        "Difference between import and from ... import in Python:\n",
        "import module_name: This imports the entire module, and you need to use the module name to access its functions or classes (e.g., module_name.function()).\n",
        "from module_name import function_name: This imports a specific function or class directly, allowing you to use it without the module prefix (e.g., function_name()).\n",
        "\n",
        "Handling multiple exceptions in Python:\n",
        "You can handle multiple exceptions by specifying them as a tuple in a single except block:\n"
      ],
      "metadata": {
        "id": "2J1JnsZ0y4AL"
      }
    },
    {
      "cell_type": "code",
      "source": [
        "try:\n",
        "    # code that may raise exceptions\n",
        "except (ExceptionType1, ExceptionType2) as e:\n",
        "    # handle exceptions"
      ],
      "metadata": {
        "id": "aVOXy8Bxzy04"
      },
      "execution_count": null,
      "outputs": []
    },
    {
      "cell_type": "markdown",
      "source": [
        "Purpose of the with statement when handling files in Python:\n",
        "\n",
        "The with statement simplifies file handling by automatically managing resources. It ensures that the file is properly closed after its suite finishes, even if an exception is raised, thus preventing resource leaks.\n",
        "Difference between multithreading and multiprocessing:\n",
        "\n",
        "Multithreading: Involves multiple threads within a single process sharing the same memory space. It is useful for I/O-bound tasks but can be limited by the Global Interpreter Lock (GIL) in Python.\n",
        "Multiprocessing: Involves multiple processes, each with its own memory space. It is suitable for CPU-bound tasks and can take full advantage of multiple CPU cores.\n",
        "Advantages of using logging in a program:\n",
        "\n",
        "Logging provides a way to track events, errors, and application behavior. It helps in debugging, monitoring application performance, and maintaining a record of operations, which is useful for troubleshooting.\n",
        "Memory management in Python:\n",
        "\n",
        "Memory management in Python involves the allocation and deallocation of memory for objects. Python uses a private heap space for memory management and has an automatic garbage collection system to reclaim memory from objects that are no longer in use.\n",
        "Basic steps involved in exception handling in Python:\n",
        "\n",
        "The basic steps are:\n",
        "Use the try block to write code that may raise an exception.\n",
        "Use the except block to handle the exception.\n",
        "Optionally, use else to execute code if no exceptions occur.\n",
        "Use finally to execute cleanup code regardless of whether an exception occurred.\n",
        "Importance of memory management in Python:\n",
        "\n",
        "Memory management is crucial to ensure efficient use of memory, prevent memory leaks, and optimize performance. It helps in maintaining the stability and reliability of applications.\n",
        "Role of try and except in exception handling:\n",
        "\n",
        "The try block contains code that may raise an exception, while the except block contains code that handles the exception if it occurs. This allows the program to continue running or to handle errors gracefully.\n",
        "How Python's garbage collection system works:\n",
        "\n",
        "Python uses reference counting and a cyclic garbage collector to manage memory. When an object's reference count drops to zero, it is automatically deallocated. The garbage collector periodically checks for and collects objects that are no longer reachable, even if they are part of a reference cycle.\n",
        "Purpose of the else block in exception handling:\n",
        "\n",
        "The else block is executed if the code in the try block does not raise an exception. It is useful for code that should run only when no errors occur, allowing for clearer separation of error handling and normal execution.\n",
        "\n",
        "Common logging levels in Python:\n",
        "The common logging levels in Python are:\n",
        "DEBUG: Detailed information, typically of interest only when diagnosing problems.\n",
        "INFO: Confirmation that things are working as expected.\n",
        "WARNING: An indication that something unexpected happened, or indicative of some problem in the near future (e.g., ‘disk space low’).\n",
        "ERROR: Due to a more serious problem, the software has not been able to perform some function.\n",
        "CRITICAL: A very serious error, indicating that the program itself may be unable to continue running.\n",
        "Difference between os.fork() and multiprocessing in Python:\n",
        "os.fork(): This creates a new process by duplicating the current process. It is a low-level operation and is specific to Unix-like operating systems. The child process is a copy of the parent process.\n",
        "multiprocessing: This is a higher-level module that allows you to create and manage separate processes in a more Pythonic way. It provides a simple interface for spawning processes and sharing data between them, making it more portable and easier to use than os.fork().\n",
        "\n",
        "Importance of closing a file in Python:\n",
        "Closing a file is important to free up system resources and ensure that all data is properly written to disk. Failing to close a file can lead to memory leaks and data corruption, especially in applications that open many files.\n",
        "Difference between file.read() and file.readline() in Python:\n",
        "file.read(): Reads the entire content of the file as a single string. It is useful when you want to process the whole file at once.\n",
        "file.readline(): Reads a single line from the file at a time. It is useful for processing large files line by line without loading the entire file into memory.\n",
        "\n",
        "Logging module in Python:\n",
        "The logging module in Python is used for tracking events that happen during program execution. It provides a way to configure different log levels, output formats, and destinations (such as console or file), making it a powerful tool for debugging and monitoring applications.\n",
        "\n",
        "os module in Python for file handling:\n",
        "The os module provides a way to interact with the operating system. In file handling, it allows you to perform operations such as creating, removing, and changing directories, as well as manipulating file paths and checking file properties.\n",
        "\n",
        "Challenges associated with memory management in Python:\n",
        "Some challenges include managing memory leaks, handling circular references, and optimizing memory usage for large data structures. Developers must be aware of how Python's garbage collection works to avoid performance issues.\n",
        "\n",
        "Raising an exception manually in Python:\n",
        "You can raise an exception manually using the raise statement. For example"
      ],
      "metadata": {
        "id": "qE2mmgjbz5I8"
      }
    },
    {
      "cell_type": "markdown",
      "source": [
        "raise ValueError(\"A custom error message\")"
      ],
      "metadata": {
        "id": "18mno-Nk00By"
      }
    },
    {
      "cell_type": "markdown",
      "source": [
        "Importance of using multithreading in certain applications:\n",
        "Multithreading is important in applications that require concurrent operations, such as I/O-bound tasks (e.g., web servers, file downloads) where waiting for external resources can be time-consuming. It allows for better resource utilization and improved responsiveness in applications."
      ],
      "metadata": {
        "id": "QB2CeJdd05ZG"
      }
    },
    {
      "cell_type": "markdown",
      "source": [
        "Open a file for writing in Python and write a string to it:"
      ],
      "metadata": {
        "id": "j7EDqweW1-Wv"
      }
    },
    {
      "cell_type": "code",
      "source": [
        "with open('output.txt', 'w') as file:\n",
        "    file.write(\"Hello, World!\")"
      ],
      "metadata": {
        "id": "aZKzGNR72G8_"
      },
      "execution_count": 2,
      "outputs": []
    },
    {
      "cell_type": "markdown",
      "source": [
        "Python program to read the contents of a file and print each line:"
      ],
      "metadata": {
        "id": "G3rXo2Rh2eTu"
      }
    },
    {
      "cell_type": "code",
      "source": [
        "with open('input.txt', 'r') as file:\n",
        "    for line in file:\n",
        "        print(line.strip())"
      ],
      "metadata": {
        "id": "3tqCi1Mw2ZQK"
      },
      "execution_count": null,
      "outputs": []
    },
    {
      "cell_type": "markdown",
      "source": [
        "Handle a case where the file doesn't exist while trying to open it for reading:"
      ],
      "metadata": {
        "id": "hL-s3l6T2fQt"
      }
    },
    {
      "cell_type": "code",
      "source": [
        "try:\n",
        "    with open('non_existent_file.txt', 'r') as file:\n",
        "        content = file.read()\n",
        "except FileNotFoundError:\n",
        "    print(\"The file does not exist.\")"
      ],
      "metadata": {
        "id": "lKx9BpyW2jHE"
      },
      "execution_count": null,
      "outputs": []
    },
    {
      "cell_type": "markdown",
      "source": [
        "Python script that reads from one file and writes its content to another file:"
      ],
      "metadata": {
        "id": "vVmsiMtQ2l0a"
      }
    },
    {
      "cell_type": "code",
      "source": [
        "with open('source.txt', 'r') as source_file:\n",
        "    content = source_file.read()\n",
        "\n",
        "with open('destination.txt', 'w') as dest_file:\n",
        "    dest_file.write(content)"
      ],
      "metadata": {
        "id": "RmIkDfxK2oGI"
      },
      "execution_count": null,
      "outputs": []
    },
    {
      "cell_type": "markdown",
      "source": [
        "Catch and handle division by zero error in Python:"
      ],
      "metadata": {
        "id": "y9sCGdWA2q6v"
      }
    },
    {
      "cell_type": "code",
      "source": [
        "try:\n",
        "    result = 10 / 0\n",
        "except ZeroDivisionError:\n",
        "    print(\"Error: Division by zero.\")"
      ],
      "metadata": {
        "id": "EpbPOeq12svY"
      },
      "execution_count": null,
      "outputs": []
    },
    {
      "cell_type": "markdown",
      "source": [
        "Python program that logs an error message to a log file when a division by zero exception occurs:\n"
      ],
      "metadata": {
        "id": "VyU-chW-2vUe"
      }
    },
    {
      "cell_type": "code",
      "source": [
        "import logging\n",
        "\n",
        "logging.basicConfig(filename='error.log', level=logging.ERROR)\n",
        "\n",
        "try:\n",
        "    result = 10 / 0\n",
        "except ZeroDivisionError as e:\n",
        "    logging.error(\"Division by zero error: %s\", e)"
      ],
      "metadata": {
        "id": "1eeRblaz2yU6"
      },
      "execution_count": null,
      "outputs": []
    },
    {
      "cell_type": "markdown",
      "source": [
        "Log information at different levels (INFO, ERROR, WARNING) in Python using the logging module:"
      ],
      "metadata": {
        "id": "LKHlbhSp8loB"
      }
    },
    {
      "cell_type": "code",
      "source": [
        "import logging\n",
        "\n",
        "logging.basicConfig(level=logging.DEBUG)\n",
        "\n",
        "logging.info(\"This is an info message.\")\n",
        "logging.warning(\"This is a warning message.\")\n",
        "logging.error(\"This is an error message.\")"
      ],
      "metadata": {
        "id": "L3PVY0Uf87Vh"
      },
      "execution_count": null,
      "outputs": []
    },
    {
      "cell_type": "markdown",
      "source": [
        "Program to handle a file opening error using exception handling:"
      ],
      "metadata": {
        "id": "qczRcqiS9F09"
      }
    },
    {
      "cell_type": "code",
      "source": [
        "try:\n",
        "    with open('file.txt', 'r') as file:\n",
        "        content = file.read()\n",
        "except FileNotFoundError:\n",
        "    print(\"File not found. Please check the file name.\")"
      ],
      "metadata": {
        "id": "H7pua0z59HYq"
      },
      "execution_count": null,
      "outputs": []
    },
    {
      "cell_type": "markdown",
      "source": [
        "Read a file line by line and store its content in a list in Python:"
      ],
      "metadata": {
        "id": "3WdQMrp39Kjp"
      }
    },
    {
      "cell_type": "code",
      "source": [
        "lines = []\n",
        "with open('input.txt', 'r') as file:\n",
        "    for line in file:\n",
        "        lines.append(line.strip())\n",
        "print(lines)"
      ],
      "metadata": {
        "id": "V6L0OKSb9MZz"
      },
      "execution_count": null,
      "outputs": []
    },
    {
      "cell_type": "markdown",
      "source": [
        "Append data to an existing file in Python:"
      ],
      "metadata": {
        "id": "j3_Rz0kq9OqH"
      }
    },
    {
      "cell_type": "code",
      "source": [
        "with open('output.txt', 'a') as file:\n",
        "    file.write(\"Appending this line.\\n\")"
      ],
      "metadata": {
        "id": "wDllQ_s79QiY"
      },
      "execution_count": null,
      "outputs": []
    },
    {
      "cell_type": "markdown",
      "source": [
        "Python program that uses a try-except block to handle an error when attempting to access a dictionary key that doesn't exist:"
      ],
      "metadata": {
        "id": "VYoucMob9TIt"
      }
    },
    {
      "cell_type": "code",
      "source": [
        "my_dict = {'a': 1, 'b': 2}\n",
        "\n",
        "try:\n",
        "    value = my_dict['c']\n",
        "except KeyError:\n",
        "    print(\"Key does not exist in the dictionary.\")"
      ],
      "metadata": {
        "id": "MWzWfW2i9UrC"
      },
      "execution_count": null,
      "outputs": []
    },
    {
      "cell_type": "markdown",
      "source": [
        "Program that demonstrates using multiple except blocks to handle different types of exceptions:"
      ],
      "metadata": {
        "id": "G3d3oF_Q9XVa"
      }
    },
    {
      "cell_type": "code",
      "source": [
        "try:\n",
        "    result = 10 / 0\n",
        "    value = my_dict['c']\n",
        "except ZeroDivisionError:\n",
        "    print(\"Error: Division by zero.\")\n",
        "except KeyError:\n",
        "    print(\"Error: Key does not exist.\")"
      ],
      "metadata": {
        "id": "_i9mOx-f9Y4N"
      },
      "execution_count": null,
      "outputs": []
    },
    {
      "cell_type": "markdown",
      "source": [
        "Check if a file exists before attempting to read it in Python:"
      ],
      "metadata": {
        "id": "osBF0Zq89bha"
      }
    },
    {
      "cell_type": "code",
      "source": [
        "import os\n",
        "\n",
        "if os.path.exists('file.txt'):\n",
        "    with open('file.txt', 'r') as file:\n",
        "        content = file.read()\n",
        "else:\n",
        "    print(\"File does not exist.\")"
      ],
      "metadata": {
        "id": "q0_iCbsb9dOh"
      },
      "execution_count": null,
      "outputs": []
    },
    {
      "cell_type": "markdown",
      "source": [
        "Program that uses the logging module to log both informational and error messages:\n"
      ],
      "metadata": {
        "id": "Gb6rtEAP9nyD"
      }
    },
    {
      "cell_type": "code",
      "source": [
        "import logging\n",
        "\n",
        "logging.basicConfig(filename='app.log', level=logging.DEBUG)\n",
        "\n",
        "logging.info(\"This is an informational message.\")\n",
        "\n",
        "try:\n",
        "    result = 10 / 0\n",
        "except ZeroDivisionError:\n",
        "    logging.error(\"Error occurred: Division by zero.\")"
      ],
      "metadata": {
        "id": "vnb1ycDV9qMW"
      },
      "execution_count": null,
      "outputs": []
    },
    {
      "cell_type": "markdown",
      "source": [
        "Python program that prints the content of a file and handles the case when the file is empty:"
      ],
      "metadata": {
        "id": "WwjYTj8F9tJZ"
      }
    },
    {
      "cell_type": "code",
      "source": [
        "try:\n",
        "    with open('input.txt', 'r') as file:\n",
        "        content = file.read()\n",
        "        if not content:\n",
        "            print(\"The file is empty.\")\n",
        "        else:\n",
        "            print(content)\n",
        "except FileNotFoundError:\n",
        "    print(\"The file does not exist.\")"
      ],
      "metadata": {
        "id": "ZM5QlCJS9wn-"
      },
      "execution_count": null,
      "outputs": []
    },
    {
      "cell_type": "markdown",
      "source": [
        "**Demonstrate how to use memory profiling to check the memory usage of a small program ```python import memory_profiler\n",
        "\n",
        "@memory_profiler.profile def my_function(): a = [i for i in range(10000)] return a\n",
        "\n",
        "if name == \"main\": my_function()\n",
        "\n",
        "\n"
      ],
      "metadata": {
        "id": "RAfsWdSX91f_"
      }
    },
    {
      "cell_type": "code",
      "source": [
        "\n",
        "17. **Python program to create and write a list of numbers to a file, one number per line**:\n",
        "```python\n",
        "numbers = [1, 2, 3, 4, 5]\n",
        "with open('numbers.txt', 'w') as file:\n",
        "    for number in numbers:\n",
        "        file.write(f\"{number}\\n\")"
      ],
      "metadata": {
        "id": "iEtpACnL93NP"
      },
      "execution_count": null,
      "outputs": []
    },
    {
      "cell_type": "markdown",
      "source": [
        "Implement a basic logging setup that logs to a file with rotation after 1MB:"
      ],
      "metadata": {
        "id": "e6qdUuAk954B"
      }
    },
    {
      "cell_type": "code",
      "source": [
        "import logging\n",
        "from logging.handlers import RotatingFileHandler\n",
        "\n",
        "handler = RotatingFileHandler('app.log', maxBytes=1e6, backupCount=5)\n",
        "logging.basicConfig(level=logging.INFO, handlers=[handler])\n",
        "\n",
        "logging.info(\"This is a log message.\")"
      ],
      "metadata": {
        "id": "PL-ndCvN97Tx"
      },
      "execution_count": null,
      "outputs": []
    },
    {
      "cell_type": "markdown",
      "source": [
        "Program that handles both IndexError and KeyError using a try-except block"
      ],
      "metadata": {
        "id": "c5muIvLY9-YT"
      }
    },
    {
      "cell_type": "code",
      "source": [
        "my_list = [1, 2, 3]\n",
        "my_dict = {'a': 1, 'b': 2}\n",
        "\n",
        "try:\n",
        "    print(my_list[5])\n",
        "    print(my_dict['c'])\n",
        "except IndexError:\n",
        "    print(\"IndexError: List index out of range.\")\n",
        "except KeyError:\n",
        "    print(\"KeyError: Key does not exist in the dictionary.\")"
      ],
      "metadata": {
        "id": "zRco5LqC9_x5"
      },
      "execution_count": null,
      "outputs": []
    },
    {
      "cell_type": "markdown",
      "source": [
        "Open a file and read its contents using a context manager in Python:"
      ],
      "metadata": {
        "id": "0bZSJ0O--C5n"
      }
    },
    {
      "cell_type": "code",
      "source": [
        "with open('file.txt', 'r') as file:\n",
        "    content = file.read()\n",
        "    print(content)"
      ],
      "metadata": {
        "id": "fYRdfchD-EXB"
      },
      "execution_count": null,
      "outputs": []
    },
    {
      "cell_type": "markdown",
      "source": [
        "Python program that reads a file and prints the number of occurrences of a specific word:"
      ],
      "metadata": {
        "id": "2nwQ6abY-Hs8"
      }
    },
    {
      "cell_type": "code",
      "source": [
        "word_to_count = \"example\"\n",
        "count = 0\n",
        "\n",
        "with open('input.txt', 'r') as file:\n",
        "    for line in file:\n",
        "        count += line.lower().count(word_to_count.lower())\n",
        "\n",
        "print(f\"The word '{word_to_count}' occurs {count} times.\")"
      ],
      "metadata": {
        "id": "yszfYRxW-JWf"
      },
      "execution_count": null,
      "outputs": []
    },
    {
      "cell_type": "markdown",
      "source": [
        "Check if a file is empty before attempting to read its contents:"
      ],
      "metadata": {
        "id": "BZyC-xDe-Lr9"
      }
    },
    {
      "cell_type": "code",
      "source": [
        "import os\n",
        "\n",
        "if os.path.exists('file.txt') and os.path.getsize('file.txt') > 0:\n",
        "    with open('file.txt', 'r') as file:\n",
        "        content = file.read()\n",
        "else:\n",
        "    print(\"The file is either empty or does not exist.\")"
      ],
      "metadata": {
        "id": "dTAy0P3H-NTz"
      },
      "execution_count": null,
      "outputs": []
    },
    {
      "cell_type": "markdown",
      "source": [
        "Python program that writes to a log file when an error occurs during file handling:"
      ],
      "metadata": {
        "id": "8XC2Y1A8-Xsd"
      }
    },
    {
      "cell_type": "code",
      "source": [
        "import logging\n",
        "\n",
        "logging.basicConfig(filename='file_errors.log', level=logging.ERROR)\n",
        "\n",
        "try:\n",
        "    with open('non_existent_file.txt', 'r') as file:\n",
        "        content = file.read()\n",
        "except FileNotFoundError as e:\n",
        "    logging.error(\"File handling error: %s\", e)"
      ],
      "metadata": {
        "id": "6TWYifyS-UC9"
      },
      "execution_count": null,
      "outputs": []
    },
    {
      "cell_type": "markdown",
      "source": [],
      "metadata": {
        "id": "M-PFtfui-Txz"
      }
    }
  ]
}