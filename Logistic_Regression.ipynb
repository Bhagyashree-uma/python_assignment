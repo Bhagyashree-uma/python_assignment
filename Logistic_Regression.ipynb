{
  "nbformat": 4,
  "nbformat_minor": 0,
  "metadata": {
    "colab": {
      "provenance": []
    },
    "kernelspec": {
      "name": "python3",
      "display_name": "Python 3"
    },
    "language_info": {
      "name": "python"
    }
  },
  "cells": [
    {
      "cell_type": "markdown",
      "source": [
        "1.What is the mathematical equation of Logistic Regression?\n",
        "\n",
        "The mathematical equation of Logistic Regression is given by:\n",
        "\n",
        "[ P(Y=1|X) = \\frac{1}{1 + e^{-(\\beta_0 + \\beta_1X_1 + \\beta_2X_2 + ... + \\beta_nX_n)}} ]\n",
        "\n",
        "Where:\n",
        "\n",
        "( P(Y=1|X) ) is the probability that the output ( Y ) is 1 given input features ( X ).\n",
        "( \\beta_0 ) is the intercept.\n",
        "( \\beta_1, \\beta_2, ..., \\beta_n ) are the coefficients for the features ( X_1, X_2, ..., X_n ).\n",
        "\n",
        "2. Why do we use the Sigmoid function in Logistic Regression?\n",
        "\n",
        "The Sigmoid function is used in Logistic Regression because it maps any real-valued number into the range (0, 1), making it suitable for modeling probabilities. It ensures that the predicted probabilities are bounded between 0 and 1, which is essential for binary classification.\n",
        "\n",
        "3. What is the cost function of Logistic Regression?\n",
        "\n",
        "The cost function for Logistic Regression is the Log Loss (or Binary Cross-Entropy Loss), defined as:\n",
        "\n",
        "[ J(\\beta) = -\\frac{1}{m} \\sum_{i=1}^{m} [y^{(i)} \\log(h_\\beta(x^{(i)})) + (1 - y^{(i)}) \\log(1 - h_\\beta(x^{(i)}))] ]\n",
        "\n",
        "Where:\n",
        "\n",
        "( m ) is the number of training examples.\n",
        "( y^{(i)} ) is the actual label (0 or 1).\n",
        "( h_\\beta(x^{(i)}) ) is the predicted probability for the ( i )-th example.\n",
        "\n",
        "4, What is Regularization in Logistic Regression? Why is it needed?\n",
        "\n",
        "Regularization in Logistic Regression is a technique used to prevent overfitting by adding a penalty term to the cost function. It helps to constrain the model complexity by discouraging large coefficients. Regularization is needed to improve the model's generalization to unseen data.\n",
        "\n",
        "5. Explain the difference between Lasso, Ridge, and Elastic Net regression.\n",
        "\n",
        "Lasso Regression (L1 Regularization): Adds a penalty equal to the absolute value of the magnitude of coefficients. It can shrink some coefficients to zero, effectively performing variable selection.\n",
        "Ridge Regression (L2 Regularization): Adds a penalty equal to the square of the magnitude of coefficients. It shrinks coefficients but does not set them to zero, thus retaining all features.\n",
        "Elastic Net: Combines both L1 and L2 penalties. It is useful when there are multiple features correlated with each other.\n",
        "\n",
        "6. When should we use Elastic Net instead of Lasso or Ridge?\n",
        "\n",
        "Elastic Net should be used when there are multiple features that are correlated with each other, as it can select groups of correlated features. It is also beneficial when the number of predictors is much larger than the number of observations, as it can provide a more stable solution than Lasso or Ridge alone.\n",
        "\n",
        "7. What is the impact of the regularization parameter (λ) in Logistic Regression?\n",
        "\n",
        "The regularization parameter ( \\lambda ) controls the strength of the penalty applied to the coefficients. A larger ( \\lambda ) increases the penalty, leading to smaller coefficients and potentially higher bias but lower variance. Conversely, a smaller ( \\lambda ) allows for larger coefficients, which can lead to overfitting.\n",
        "\n",
        "8. What are the key assumptions of Logistic Regression?\n",
        "\n",
        "The key assumptions of Logistic Regression include:\n",
        "The dependent variable is binary.\n",
        "The observations are independent.\n",
        "There is a linear relationship between the logit of the outcome and the independent variables.\n",
        "No multicollinearity among the independent variables.\n",
        "\n",
        "9. What are some alternatives to Logistic Regression for classification tasks?\n",
        "\n",
        "Some alternatives to Logistic Regression include:\n",
        "Decision Trees\n",
        "Random Forests\n",
        "Support Vector Machines (SVM)\n",
        "Gradient Boosting Machines (GBM)\n",
        "Neural Networks\n",
        "\n",
        "10. What are Classification Evaluation Metrics?\n",
        "Classification evaluation metrics include:\n",
        "Accuracy\n",
        "Precision\n",
        "Recall (Sensitivity)\n",
        "F1 Score\n",
        "ROC-AUC (Receiver Operating Characteristic - Area Under Curve)\n",
        "Confusion Matrix\n",
        "\n",
        "11. How does class imbalance affect Logistic Regression?\n",
        "\n",
        "Class imbalance can lead to biased predictions, where the model may favor the majority class , resulting in poor performance on the minority class. This can cause the model to achieve high accuracy while failing to correctly classify instances of the minority class. Techniques such as resampling, using different evaluation metrics, or applying cost-sensitive learning can help address this issue.\n",
        "\n",
        "12. What is Hyperparameter Tuning in Logistic Regression?\n",
        "\n",
        "Hyperparameter tuning in Logistic Regression involves optimizing the parameters that are not learned from the data during training, such as the regularization parameter ( \\lambda ) and the choice of solver. This process aims to improve the model's performance by finding the best combination of hyperparameters through techniques like grid search or random search.\n",
        "\n",
        "13. What are different solvers in Logistic Regression? Which one should be used?\n",
        "Different solvers for Logistic Regression include:\n",
        "\n",
        "Liblinear: Good for small datasets and supports L1 regularization.\n",
        "Newton's Method: Fast convergence but may not work well with large datasets.\n",
        "LBFGS: A quasi-Newton method that is efficient for large datasets.\n",
        "SGD (Stochastic Gradient Descent): Suitable for large datasets and online learning.\n",
        "The choice of solver depends on the dataset size and the need for regularization.\n",
        "\n",
        "14. How is Logistic Regression extended for multiclass classification?\n",
        "\n",
        "Logistic Regression can be extended for multiclass classification using techniques like One-vs-Rest (OvR) or Softmax Regression. In OvR, a separate binary classifier is trained for each class, while Softmax Regression generalizes the logistic function to multiple classes by using the softmax function to output probabilities for each class.\n",
        "\n",
        "15. What are the advantages and disadvantages of Logistic Regression?\n",
        "Advantages:\n",
        "\n",
        "Simple and easy to implement.\n",
        "Interpretable coefficients.\n",
        "Works well with linearly separable data.\n",
        "Disadvantages:\n",
        "\n",
        "Assumes a linear relationship between the independent variables and the logit of the outcome.\n",
        "Sensitive to outliers.\n",
        "Limited to binary outcomes unless extended for multiclass.\n",
        "\n",
        "16. What are some use cases of Logistic Regression?\n",
        "\n",
        "Use cases of Logistic Regression include:\n",
        "Medical diagnosis (e.g., predicting the presence of a disease).\n",
        "Credit scoring (e.g., determining the likelihood of default).\n",
        "Marketing response prediction (e.g., whether a customer will respond to a campaign).\n",
        "\n",
        "17.  What is the difference between Softmax Regression and Logistic Regression?\n",
        "\n",
        "Softmax Regression is an extension of Logistic Regression for multiclass classification. While Logistic Regression predicts probabilities for two classes, Softmax Regression predicts probabilities for multiple classes by normalizing the output scores across all classes, ensuring that they sum to one.\n",
        "\n",
        "18. How do we choose between One-vs-Rest (OvR) and Softmax for multiclass classification?\n",
        "\n",
        "The choice between OvR and Softmax depends on the problem context. OvR is often preferred when the classes are imbalanced or when interpretability of individual binary classifiers is desired. Softmax is more suitable when the classes are mutually exclusive and when a single model is preferred for efficiency.\n",
        "\n",
        "19. How do we interpret coefficients in Logistic Regression?\n",
        "In Logistic Regression, the coefficients represent the change in the log odds of the outcome for a one-unit increase in the predictor variable, holding all other variables constant. A positive coefficient indicates an increase in the probability of the outcome, while a negative coefficient indicates a decrease.\n",
        "\n",
        "20. What is Logistic Regression, and how does it differ from Linear Regression.\n",
        "\n",
        "Logistic Regression is a statistical method used for binary classification problems, where the outcome variable is categorical, typically taking on two values (e.g., 0 or 1, yes or no). It models the probability that a given input point belongs to a certain class. The output of Logistic Regression is a probability value between 0 and 1, which can be interpreted as the likelihood of the positive class.\n",
        "\n",
        "Key Differences between Logistic Regression and Linear Regression:\n",
        "\n",
        "Nature of the Dependent Variable:\n",
        "\n",
        "Logistic Regression: Used for binary or categorical outcomes. The dependent variable is categorical (e.g., success/failure, yes/no).\n",
        "Linear Regression: Used for continuous outcomes. The dependent variable is continuous (e.g., height, weight, price).\n",
        "Output:\n",
        "\n",
        "Logistic Regression: Outputs probabilities that are transformed using the logistic (sigmoid) function, ensuring that the predicted values lie between 0 and 1.\n",
        "Linear Regression: Outputs a continuous value, which can take any real number.\n",
        "Mathematical Model:\n",
        "\n",
        "Logistic Regression: Uses the logistic function to model the relationship between the independent variables and the probability of the dependent variable being 1. The model is expressed as: [ P(Y=1|X) = \\frac{1}{1 + e^{-(\\beta_0 + \\beta_1X_1 + \\beta_2X_2 + ... + \\beta_nX_n)}} ]\n",
        "Linear Regression: Models the relationship as a linear equation: [ Y = \\beta_0 + \\beta_1X_1 + \\beta_2X_2 + ... + \\beta_nX_n + \\epsilon ] where ( \\epsilon ) is the error term.\n",
        "Cost Function:\n",
        "\n",
        "Logistic Regression: Uses the Log Loss (or Binary Cross-Entropy Loss) as the cost function to measure the performance of the model.\n",
        "Linear Regression: Uses Mean Squared Error (MSE) as the cost function.\n",
        "Assumptions:\n",
        "\n",
        "Logistic Regression: Assumes a linear relationship between the log odds of the outcome and the independent variables.\n",
        "Linear Regression: Assumes a linear relationship between the independent and dependent variables."
      ],
      "metadata": {
        "id": "PukM6BhdzjRA"
      }
    },
    {
      "cell_type": "markdown",
      "source": [
        "1. Load a dataset, split it into training and testing sets, apply Logistic Regression, and print the model accuracy"
      ],
      "metadata": {
        "id": "X9N3GUkV13MU"
      }
    },
    {
      "cell_type": "code",
      "source": [
        "import pandas as pd\n",
        "from sklearn.model_selection import train_test_split\n",
        "from sklearn.linear_model import LogisticRegression\n",
        "from sklearn.metrics import accuracy_score\n",
        "\n",
        "# Load dataset (using the Iris dataset as an example)\n",
        "try:\n",
        "\n",
        "  !wget https://raw.githubusercontent.com/uiuc-cse/data-fa14/gh-pages/data/iris.csv\n",
        "  data = pd.read_csv('iris.csv')  # Replace with your dataset\n",
        "  print(data.head())  # Print the first few rows of the dataset\n",
        "except FileNotFoundError:\n",
        "    print(\"The file 'iris.csv' was not found. Please check the file path.\")\n",
        "    data = pd.DataFrame()\n",
        "\n",
        "\n",
        "# Check for missing values\n",
        "if data.isnull().sum().any():\n",
        "    print(\"The dataset contains missing values. Please handle them before proceeding.\")\n",
        "    exit()\n",
        "\n",
        "# Ensure the target variable exists\n",
        "if 'species' not in data.columns:\n",
        "    print(\"The target variable 'species' does not exist in the dataset. Please check the column names.\")\n",
        "    exit()\n",
        "\n",
        "X = data.drop('species', axis=1)  # Features\n",
        "y = data['species']  # Target variable\n",
        "\n",
        "# Split the dataset\n",
        "X_train, X_test, y_train, y_test = train_test_split(X, y, test_size=0.2, random_state=42)\n",
        "\n",
        "# Apply Logistic Regression\n",
        "model = LogisticRegression()\n",
        "model.fit(X_train, y_train)\n",
        "\n",
        "# Predict and calculate accuracy\n",
        "y_pred = model.predict(X_test)\n",
        "accuracy = accuracy_score(y_test, y_pred)\n",
        "print(f'Model Accuracy: {accuracy:.2f}')"
      ],
      "metadata": {
        "colab": {
          "base_uri": "https://localhost:8080/"
        },
        "id": "81oZSs8u3Pil",
        "outputId": "835c59b5-6ba0-432a-d7c9-5285a2cf852e"
      },
      "execution_count": 2,
      "outputs": [
        {
          "output_type": "stream",
          "name": "stdout",
          "text": [
            "--2025-03-09 12:24:26--  https://raw.githubusercontent.com/uiuc-cse/data-fa14/gh-pages/data/iris.csv\n",
            "Resolving raw.githubusercontent.com (raw.githubusercontent.com)... 185.199.108.133, 185.199.109.133, 185.199.110.133, ...\n",
            "Connecting to raw.githubusercontent.com (raw.githubusercontent.com)|185.199.108.133|:443... connected.\n",
            "HTTP request sent, awaiting response... 200 OK\n",
            "Length: 3716 (3.6K) [text/plain]\n",
            "Saving to: ‘iris.csv’\n",
            "\n",
            "iris.csv            100%[===================>]   3.63K  --.-KB/s    in 0s      \n",
            "\n",
            "2025-03-09 12:24:26 (35.8 MB/s) - ‘iris.csv’ saved [3716/3716]\n",
            "\n",
            "   sepal_length  sepal_width  petal_length  petal_width species\n",
            "0           5.1          3.5           1.4          0.2  setosa\n",
            "1           4.9          3.0           1.4          0.2  setosa\n",
            "2           4.7          3.2           1.3          0.2  setosa\n",
            "3           4.6          3.1           1.5          0.2  setosa\n",
            "4           5.0          3.6           1.4          0.2  setosa\n",
            "Model Accuracy: 1.00\n"
          ]
        }
      ]
    },
    {
      "cell_type": "markdown",
      "source": [
        "2. Apply L1 regularization (Lasso) on a dataset using LogisticRegression(penalty='l1') and print the model accuracy"
      ],
      "metadata": {
        "id": "OV7hgU4w2BuG"
      }
    },
    {
      "cell_type": "code",
      "source": [
        "# Apply L1 regularization\n",
        "model_l1 = LogisticRegression(penalty='l1', solver='liblinear')  # 'liblinear' is required for L1\n",
        "model_l1.fit(X_train, y_train)\n",
        "\n",
        "# Predict and calculate accuracy\n",
        "y_pred_l1 = model_l1.predict(X_test)\n",
        "accuracy_l1 = accuracy_score(y_test, y_pred_l1)\n",
        "print(f'Model Accuracy with L1 Regularization: {accuracy_l1:.2f}')"
      ],
      "metadata": {
        "colab": {
          "base_uri": "https://localhost:8080/"
        },
        "id": "oPmcQGLa1_dL",
        "outputId": "e9a25f42-20a4-4657-8bf7-026590755fdf"
      },
      "execution_count": 3,
      "outputs": [
        {
          "output_type": "stream",
          "name": "stdout",
          "text": [
            "Model Accuracy with L1 Regularization: 1.00\n"
          ]
        }
      ]
    },
    {
      "cell_type": "markdown",
      "source": [
        "3. Train Logistic Regression with L2 regularization (Ridge) using LogisticRegression(penalty='l2'). Print model accuracy and coefficients"
      ],
      "metadata": {
        "id": "UQ-GgWaF3b2w"
      }
    },
    {
      "cell_type": "code",
      "source": [
        "# Apply L2 regularization\n",
        "model_l2 = LogisticRegression(penalty='l2')\n",
        "model_l2.fit(X_train, y_train)\n",
        "\n",
        "# Predict and calculate accuracy\n",
        "y_pred_l2 = model_l2.predict(X_test)\n",
        "accuracy_l2 = accuracy_score(y_test, y_pred_l2)\n",
        "print(f'Model Accuracy with L2 Regularization: {accuracy_l2:.2f}')\n",
        "print(f'Coefficients: {model_l2.coef_}')"
      ],
      "metadata": {
        "colab": {
          "base_uri": "https://localhost:8080/"
        },
        "id": "y42DcEk83cXF",
        "outputId": "f9c99ed8-e0b0-485a-b8e1-fa56240d8e94"
      },
      "execution_count": 4,
      "outputs": [
        {
          "output_type": "stream",
          "name": "stdout",
          "text": [
            "Model Accuracy with L2 Regularization: 1.00\n",
            "Coefficients: [[-0.39634076  0.9523916  -2.37629048 -1.01351596]\n",
            " [ 0.51221741 -0.24809347 -0.21455322 -0.76203024]\n",
            " [-0.11587664 -0.70429814  2.5908437   1.7755462 ]]\n"
          ]
        }
      ]
    },
    {
      "cell_type": "markdown",
      "source": [
        "4. Train Logistic Regression with Elastic Net Regularization (penalty='elasticnet')"
      ],
      "metadata": {
        "id": "OjexhZ_Z3gjJ"
      }
    },
    {
      "cell_type": "code",
      "source": [
        "# Elastic Net requires a specific solver\n",
        "model_en = LogisticRegression(penalty='elasticnet', solver='saga', l1_ratio=0.5)  # l1_ratio controls the mix\n",
        "model_en.fit(X_train, y_train)\n",
        "\n",
        "# Predict and calculate accuracy\n",
        "y_pred_en = model_en.predict(X_test)\n",
        "accuracy_en = accuracy_score(y_test, y_pred_en)\n",
        "print(f'Model Accuracy with Elastic Net Regularization: {accuracy_en:.2f}')"
      ],
      "metadata": {
        "colab": {
          "base_uri": "https://localhost:8080/"
        },
        "id": "y9DQefYH3h8G",
        "outputId": "85f9f3c8-a4a7-4d67-e903-121ea187c77b"
      },
      "execution_count": 5,
      "outputs": [
        {
          "output_type": "stream",
          "name": "stdout",
          "text": [
            "Model Accuracy with Elastic Net Regularization: 1.00\n"
          ]
        },
        {
          "output_type": "stream",
          "name": "stderr",
          "text": [
            "/usr/local/lib/python3.11/dist-packages/sklearn/linear_model/_sag.py:348: ConvergenceWarning: The max_iter was reached which means the coef_ did not converge\n",
            "  warnings.warn(\n"
          ]
        }
      ]
    },
    {
      "cell_type": "markdown",
      "source": [
        "5. Train a Logistic Regression model for multiclass classification using multi_class='ovr'"
      ],
      "metadata": {
        "id": "BprP0Db93lnd"
      }
    },
    {
      "cell_type": "code",
      "source": [
        "# Using the same dataset, assuming 'species' has multiple classes\n",
        "model_multiclass = LogisticRegression(multi_class='ovr')\n",
        "model_multiclass.fit(X_train, y_train)\n",
        "\n",
        "# Predict and calculate accuracy\n",
        "y_pred_multiclass = model_multiclass.predict(X_test)\n",
        "accuracy_multiclass = accuracy_score(y_test, y_pred_multiclass)\n",
        "print(f'Model Accuracy for Multiclass Classification: {accuracy_multiclass:.2f}')"
      ],
      "metadata": {
        "colab": {
          "base_uri": "https://localhost:8080/"
        },
        "id": "nAK4jhX43mbp",
        "outputId": "74e8bacd-d283-46a9-93df-ba2433f85c12"
      },
      "execution_count": 6,
      "outputs": [
        {
          "output_type": "stream",
          "name": "stdout",
          "text": [
            "Model Accuracy for Multiclass Classification: 0.97\n"
          ]
        },
        {
          "output_type": "stream",
          "name": "stderr",
          "text": [
            "/usr/local/lib/python3.11/dist-packages/sklearn/linear_model/_logistic.py:1256: FutureWarning: 'multi_class' was deprecated in version 1.5 and will be removed in 1.7. Use OneVsRestClassifier(LogisticRegression(..)) instead. Leave it to its default value to avoid this warning.\n",
            "  warnings.warn(\n"
          ]
        }
      ]
    },
    {
      "cell_type": "markdown",
      "source": [
        "6. Apply GridSearchCV to tune the hyperparameters (C and penalty) of Logistic Regression. Print the best parameters and accuracy"
      ],
      "metadata": {
        "id": "yWNH6Qgm3rBt"
      }
    },
    {
      "cell_type": "code",
      "source": [
        "from sklearn.model_selection import GridSearchCV\n",
        "\n",
        "# Define the parameter grid\n",
        "param_grid = {\n",
        "    'C': [0.1, 1, 10],\n",
        "    'penalty': ['l1', 'l2']\n",
        "}\n",
        "\n",
        "grid_search = GridSearchCV(LogisticRegression(solver='liblinear'), param_grid, cv=5)\n",
        "grid_search.fit(X_train, y_train)\n",
        "\n",
        "# Best parameters and accuracy\n",
        "best_params = grid_search.best_params_\n",
        "best_accuracy = grid_search.best_score_\n",
        "print(f'Best Parameters: {best_params}')\n",
        "print(f'Best Cross-Validation Accuracy: {best_accuracy:.2f}')"
      ],
      "metadata": {
        "colab": {
          "base_uri": "https://localhost:8080/"
        },
        "id": "9EmWiQFb3ti7",
        "outputId": "3bec66bd-2920-4f5d-9087-ef33f90478a2"
      },
      "execution_count": 7,
      "outputs": [
        {
          "output_type": "stream",
          "name": "stdout",
          "text": [
            "Best Parameters: {'C': 10, 'penalty': 'l1'}\n",
            "Best Cross-Validation Accuracy: 0.96\n"
          ]
        }
      ]
    },
    {
      "cell_type": "markdown",
      "source": [
        "7. Evaluate Logistic Regression using Stratified K-Fold Cross-Validation. Print the average accuracy"
      ],
      "metadata": {
        "id": "_p6t56AA3xZA"
      }
    },
    {
      "cell_type": "code",
      "source": [
        "import pandas as pd\n",
        "from sklearn.model_selection import StratifiedKFold\n",
        "from sklearn.linear_model import LogisticRegression\n",
        "from sklearn.metrics import accuracy_score\n",
        "\n",
        "# Load dataset (using the Iris dataset as an example)\n",
        "data = pd.read_csv('iris.csv')  # Replace with your dataset\n",
        "X = data.drop('species', axis=1)  # Features\n",
        "y = data['species']  # Target variable\n",
        "\n",
        "# Stratified K-Fold Cross-Validation\n",
        "skf = StratifiedKFold(n_splits=5)\n",
        "accuracies = []\n",
        "\n",
        "for train_index, test_index in skf.split(X, y):\n",
        "    X_train, X_test = X.iloc[train_index], X.iloc[test_index]\n",
        "    y_train, y_test = y.iloc[train_index], y.iloc[test_index]\n",
        "\n",
        "    model = LogisticRegression()\n",
        "    model.fit(X_train, y_train)\n",
        "\n",
        "    y_pred = model.predict(X_test)\n",
        "    accuracy = accuracy_score(y_test, y_pred)\n",
        "    accuracies.append(accuracy)\n",
        "\n",
        "average_accuracy = sum(accuracies) / len(accuracies)\n",
        "print(f'Average Accuracy from Stratified K-Fold: {average_accuracy:.2f}')"
      ],
      "metadata": {
        "colab": {
          "base_uri": "https://localhost:8080/"
        },
        "id": "r4_rf_yr5pRp",
        "outputId": "83ea517d-c5db-4a8c-8190-612382a460d7"
      },
      "execution_count": 10,
      "outputs": [
        {
          "output_type": "stream",
          "name": "stderr",
          "text": [
            "/usr/local/lib/python3.11/dist-packages/sklearn/linear_model/_logistic.py:465: ConvergenceWarning: lbfgs failed to converge (status=1):\n",
            "STOP: TOTAL NO. of ITERATIONS REACHED LIMIT.\n",
            "\n",
            "Increase the number of iterations (max_iter) or scale the data as shown in:\n",
            "    https://scikit-learn.org/stable/modules/preprocessing.html\n",
            "Please also refer to the documentation for alternative solver options:\n",
            "    https://scikit-learn.org/stable/modules/linear_model.html#logistic-regression\n",
            "  n_iter_i = _check_optimize_result(\n"
          ]
        },
        {
          "output_type": "stream",
          "name": "stdout",
          "text": [
            "Average Accuracy from Stratified K-Fold: 0.97\n"
          ]
        }
      ]
    },
    {
      "cell_type": "markdown",
      "source": [
        "8. Load a dataset from a CSV file, apply Logistic Regression, and evaluate its accuracy"
      ],
      "metadata": {
        "id": "FLBnM0qe5vto"
      }
    },
    {
      "cell_type": "code",
      "source": [
        "import pandas as pd\n",
        "from sklearn.model_selection import train_test_split\n",
        "from sklearn.linear_model import LogisticRegression\n",
        "from sklearn.metrics import accuracy_score\n",
        "\n",
        "# Load dataset - Replace 'your_dataset.csv' with the actual file path\n",
        "data = pd.read_csv('iris.csv')  # Example: Using 'iris.csv' which was previously loaded\n",
        "\n",
        "# If your dataset has different feature and target columns, update accordingly:\n",
        "X = data.drop('species', axis=1)  # Features\n",
        "y = data['species']  # Target variable\n",
        "\n",
        "# Split the dataset\n",
        "X_train, X_test, y_train, y_test = train_test_split(X, y, test_size=0.2, random_state=42)\n",
        "\n",
        "# Apply Logistic Regression\n",
        "model = LogisticRegression()\n",
        "model.fit(X_train, y_train)\n",
        "\n",
        "# Predict and calculate accuracy\n",
        "y_pred = model.predict(X_test)\n",
        "accuracy = accuracy_score(y_test, y_pred)\n",
        "print(f'Model Accuracy: {accuracy:.2f}')"
      ],
      "metadata": {
        "colab": {
          "base_uri": "https://localhost:8080/"
        },
        "id": "bk0rZqqL56US",
        "outputId": "30bd4cd7-91bd-4543-9c94-8a25ed16e8c3"
      },
      "execution_count": 12,
      "outputs": [
        {
          "output_type": "stream",
          "name": "stdout",
          "text": [
            "Model Accuracy: 1.00\n"
          ]
        }
      ]
    },
    {
      "cell_type": "markdown",
      "source": [
        "9. Apply RandomizedSearchCV for tuning hyperparameters (C, penalty, solver) in Logistic Regression. Print the best parameters and accuracy"
      ],
      "metadata": {
        "id": "roherhTO6EC7"
      }
    },
    {
      "cell_type": "code",
      "source": [
        "from sklearn.model_selection import RandomizedSearchCV\n",
        "\n",
        "# Define the parameter grid\n",
        "param_distributions = {\n",
        "    'C': [0.1, 1, 10, 100],\n",
        "    'penalty': ['l1', 'l2'],\n",
        "    'solver': ['liblinear', 'saga']\n",
        "}\n",
        "\n",
        "# Randomized Search\n",
        "random_search = RandomizedSearchCV(LogisticRegression(), param_distributions, n_iter=10, cv=5, random_state=42)\n",
        "random_search.fit(X_train, y_train)\n",
        "\n",
        "# Best parameters and accuracy\n",
        "best_params = random_search.best_params_\n",
        "best_accuracy = random_search.best_score_\n",
        "print(f'Best Parameters: {best_params}')\n",
        "print(f'Best Cross-Validation Accuracy: {best_accuracy:.2f}')"
      ],
      "metadata": {
        "colab": {
          "base_uri": "https://localhost:8080/"
        },
        "id": "AY3akaYK6MGT",
        "outputId": "f21b35e7-29e2-45b8-87ff-44218011a8e6"
      },
      "execution_count": 13,
      "outputs": [
        {
          "output_type": "stream",
          "name": "stderr",
          "text": [
            "/usr/local/lib/python3.11/dist-packages/sklearn/linear_model/_sag.py:348: ConvergenceWarning: The max_iter was reached which means the coef_ did not converge\n",
            "  warnings.warn(\n",
            "/usr/local/lib/python3.11/dist-packages/sklearn/linear_model/_sag.py:348: ConvergenceWarning: The max_iter was reached which means the coef_ did not converge\n",
            "  warnings.warn(\n",
            "/usr/local/lib/python3.11/dist-packages/sklearn/linear_model/_sag.py:348: ConvergenceWarning: The max_iter was reached which means the coef_ did not converge\n",
            "  warnings.warn(\n",
            "/usr/local/lib/python3.11/dist-packages/sklearn/linear_model/_sag.py:348: ConvergenceWarning: The max_iter was reached which means the coef_ did not converge\n",
            "  warnings.warn(\n",
            "/usr/local/lib/python3.11/dist-packages/sklearn/linear_model/_sag.py:348: ConvergenceWarning: The max_iter was reached which means the coef_ did not converge\n",
            "  warnings.warn(\n",
            "/usr/local/lib/python3.11/dist-packages/sklearn/linear_model/_sag.py:348: ConvergenceWarning: The max_iter was reached which means the coef_ did not converge\n",
            "  warnings.warn(\n",
            "/usr/local/lib/python3.11/dist-packages/sklearn/linear_model/_sag.py:348: ConvergenceWarning: The max_iter was reached which means the coef_ did not converge\n",
            "  warnings.warn(\n",
            "/usr/local/lib/python3.11/dist-packages/sklearn/linear_model/_sag.py:348: ConvergenceWarning: The max_iter was reached which means the coef_ did not converge\n",
            "  warnings.warn(\n",
            "/usr/local/lib/python3.11/dist-packages/sklearn/linear_model/_sag.py:348: ConvergenceWarning: The max_iter was reached which means the coef_ did not converge\n",
            "  warnings.warn(\n",
            "/usr/local/lib/python3.11/dist-packages/sklearn/linear_model/_sag.py:348: ConvergenceWarning: The max_iter was reached which means the coef_ did not converge\n",
            "  warnings.warn(\n",
            "/usr/local/lib/python3.11/dist-packages/sklearn/linear_model/_sag.py:348: ConvergenceWarning: The max_iter was reached which means the coef_ did not converge\n",
            "  warnings.warn(\n",
            "/usr/local/lib/python3.11/dist-packages/sklearn/linear_model/_sag.py:348: ConvergenceWarning: The max_iter was reached which means the coef_ did not converge\n",
            "  warnings.warn(\n",
            "/usr/local/lib/python3.11/dist-packages/sklearn/linear_model/_sag.py:348: ConvergenceWarning: The max_iter was reached which means the coef_ did not converge\n",
            "  warnings.warn(\n",
            "/usr/local/lib/python3.11/dist-packages/sklearn/linear_model/_sag.py:348: ConvergenceWarning: The max_iter was reached which means the coef_ did not converge\n",
            "  warnings.warn(\n",
            "/usr/local/lib/python3.11/dist-packages/sklearn/linear_model/_sag.py:348: ConvergenceWarning: The max_iter was reached which means the coef_ did not converge\n",
            "  warnings.warn(\n",
            "/usr/local/lib/python3.11/dist-packages/sklearn/linear_model/_sag.py:348: ConvergenceWarning: The max_iter was reached which means the coef_ did not converge\n",
            "  warnings.warn(\n",
            "/usr/local/lib/python3.11/dist-packages/sklearn/linear_model/_sag.py:348: ConvergenceWarning: The max_iter was reached which means the coef_ did not converge\n",
            "  warnings.warn(\n",
            "/usr/local/lib/python3.11/dist-packages/sklearn/linear_model/_sag.py:348: ConvergenceWarning: The max_iter was reached which means the coef_ did not converge\n",
            "  warnings.warn(\n",
            "/usr/local/lib/python3.11/dist-packages/sklearn/linear_model/_sag.py:348: ConvergenceWarning: The max_iter was reached which means the coef_ did not converge\n",
            "  warnings.warn(\n",
            "/usr/local/lib/python3.11/dist-packages/sklearn/linear_model/_sag.py:348: ConvergenceWarning: The max_iter was reached which means the coef_ did not converge\n",
            "  warnings.warn(\n",
            "/usr/local/lib/python3.11/dist-packages/sklearn/linear_model/_sag.py:348: ConvergenceWarning: The max_iter was reached which means the coef_ did not converge\n",
            "  warnings.warn(\n",
            "/usr/local/lib/python3.11/dist-packages/sklearn/linear_model/_sag.py:348: ConvergenceWarning: The max_iter was reached which means the coef_ did not converge\n",
            "  warnings.warn(\n",
            "/usr/local/lib/python3.11/dist-packages/sklearn/linear_model/_sag.py:348: ConvergenceWarning: The max_iter was reached which means the coef_ did not converge\n",
            "  warnings.warn(\n",
            "/usr/local/lib/python3.11/dist-packages/sklearn/linear_model/_sag.py:348: ConvergenceWarning: The max_iter was reached which means the coef_ did not converge\n",
            "  warnings.warn(\n",
            "/usr/local/lib/python3.11/dist-packages/sklearn/linear_model/_sag.py:348: ConvergenceWarning: The max_iter was reached which means the coef_ did not converge\n",
            "  warnings.warn(\n",
            "/usr/local/lib/python3.11/dist-packages/sklearn/linear_model/_sag.py:348: ConvergenceWarning: The max_iter was reached which means the coef_ did not converge\n",
            "  warnings.warn(\n"
          ]
        },
        {
          "output_type": "stream",
          "name": "stdout",
          "text": [
            "Best Parameters: {'solver': 'saga', 'penalty': 'l1', 'C': 1}\n",
            "Best Cross-Validation Accuracy: 0.97\n"
          ]
        },
        {
          "output_type": "stream",
          "name": "stderr",
          "text": [
            "/usr/local/lib/python3.11/dist-packages/sklearn/linear_model/_sag.py:348: ConvergenceWarning: The max_iter was reached which means the coef_ did not converge\n",
            "  warnings.warn(\n",
            "/usr/local/lib/python3.11/dist-packages/sklearn/linear_model/_sag.py:348: ConvergenceWarning: The max_iter was reached which means the coef_ did not converge\n",
            "  warnings.warn(\n",
            "/usr/local/lib/python3.11/dist-packages/sklearn/linear_model/_sag.py:348: ConvergenceWarning: The max_iter was reached which means the coef_ did not converge\n",
            "  warnings.warn(\n",
            "/usr/local/lib/python3.11/dist-packages/sklearn/linear_model/_sag.py:348: ConvergenceWarning: The max_iter was reached which means the coef_ did not converge\n",
            "  warnings.warn(\n",
            "/usr/local/lib/python3.11/dist-packages/sklearn/linear_model/_sag.py:348: ConvergenceWarning: The max_iter was reached which means the coef_ did not converge\n",
            "  warnings.warn(\n"
          ]
        }
      ]
    },
    {
      "cell_type": "markdown",
      "source": [
        "10. Implement One-vs-One (OvO) Multiclass Logistic Regression and print accuracy"
      ],
      "metadata": {
        "id": "yiPV7CfI6Qv-"
      }
    },
    {
      "cell_type": "code",
      "source": [
        "from sklearn.multiclass import OneVsOneClassifier\n",
        "\n",
        "# Using One-vs-One strategy\n",
        "ovo_model = OneVsOneClassifier(LogisticRegression())\n",
        "ovo_model.fit(X_train, y_train)\n",
        "\n",
        "# Predict and calculate accuracy\n",
        "y_pred_ovo = ovo_model.predict(X_test)\n",
        "accuracy_ovo = accuracy_score(y_test, y_pred_ovo)\n",
        "print(f'Model Accuracy with One-vs-One: {accuracy_ovo:.2f}')"
      ],
      "metadata": {
        "colab": {
          "base_uri": "https://localhost:8080/"
        },
        "id": "JQA6s5Y16TsA",
        "outputId": "4a45bee6-9276-442f-a60b-fe5f4e2282a2"
      },
      "execution_count": 14,
      "outputs": [
        {
          "output_type": "stream",
          "name": "stdout",
          "text": [
            "Model Accuracy with One-vs-One: 1.00\n"
          ]
        }
      ]
    },
    {
      "cell_type": "markdown",
      "source": [
        "11. Train a Logistic Regression model and visualize the confusion matrix for binary classification"
      ],
      "metadata": {
        "id": "4zvCvxWq6XRk"
      }
    },
    {
      "cell_type": "code",
      "source": [
        "import matplotlib.pyplot as plt\n",
        "import seaborn as sns\n",
        "from sklearn.metrics import confusion_matrix\n",
        "\n",
        "# Train Logistic Regression\n",
        "model_binary = LogisticRegression()\n",
        "model_binary.fit(X_train, y_train)\n",
        "\n",
        "# Predict\n",
        "y_pred_binary = model_binary.predict(X_test)\n",
        "\n",
        "# Confusion Matrix\n",
        "cm = confusion_matrix(y_test, y_pred_binary)\n",
        "plt.figure(figsize=(8, 6))\n",
        "sns.heatmap(cm, annot=True, fmt='d', cmap='Blues', xticklabels=['Class 0', 'Class 1'], yticklabels=['Class 0', 'Class 1'])\n",
        "plt.ylabel('Actual')\n",
        "plt.xlabel('Predicted')\n",
        "plt.title('Confusion Matrix')\n",
        "plt.show()"
      ],
      "metadata": {
        "colab": {
          "base_uri": "https://localhost:8080/",
          "height": 564
        },
        "id": "VRNI1Wgz6aoe",
        "outputId": "1df1ec06-4cb0-4009-da17-8b9a1f19079f"
      },
      "execution_count": 15,
      "outputs": [
        {
          "output_type": "display_data",
          "data": {
            "text/plain": [
              "<Figure size 800x600 with 2 Axes>"
            ],
            "image/png": "[encoded data removed]"
          },
          "metadata": {}
        }
      ]
    },
    {
      "cell_type": "markdown",
      "source": [
        "12. Evaluate performance using Precision, Recall, and F1-Score"
      ],
      "metadata": {
        "id": "79q4_qn26hfC"
      }
    },
    {
      "cell_type": "code",
      "source": [
        "from sklearn.metrics import classification_report\n",
        "\n",
        "# Train Logistic Regression\n",
        "model_perf = LogisticRegression()\n",
        "model_perf.fit(X_train, y_train)\n",
        "\n",
        "# Predict\n",
        "y_pred_perf = model_perf.predict(X_test)\n",
        "\n",
        "# Classification Report\n",
        "report = classification_report(y_test, y_pred_perf)\n",
        "print(\"Classification Report:\\n\", report)"
      ],
      "metadata": {
        "colab": {
          "base_uri": "https://localhost:8080/"
        },
        "id": "My-e3AwP6vVe",
        "outputId": "606fe0f7-cd15-4612-94c9-13eb0d06b79b"
      },
      "execution_count": 16,
      "outputs": [
        {
          "output_type": "stream",
          "name": "stdout",
          "text": [
            "Classification Report:\n",
            "               precision    recall  f1-score   support\n",
            "\n",
            "      setosa       1.00      1.00      1.00        10\n",
            "  versicolor       1.00      1.00      1.00         9\n",
            "   virginica       1.00      1.00      1.00        11\n",
            "\n",
            "    accuracy                           1.00        30\n",
            "   macro avg       1.00      1.00      1.00        30\n",
            "weighted avg       1.00      1.00      1.00        30\n",
            "\n"
          ]
        }
      ]
    },
    {
      "cell_type": "markdown",
      "source": [
        "13. Train Logistic Regression on imbalanced data and apply class weights to improve model performance"
      ],
      "metadata": {
        "id": "nREEAH_X6ueK"
      }
    },
    {
      "cell_type": "code",
      "source": [
        "# Define class weights for all classes in the target variable\n",
        "class_weights = {'setosa': 1, 'versicolor': 10, 'virginica': 1}  # Adjust weights as needed\n",
        "\n",
        "# Train Logistic Regression with class weights\n",
        "model_weighted = LogisticRegression(class_weight=class_weights)\n",
        "model_weighted.fit(X_train, y_train)\n",
        "\n",
        "# Predict and calculate accuracy\n",
        "y_pred_weighted = model_weighted.predict(X_test)\n",
        "accuracy_weighted = accuracy_score(y_test, y_pred_weighted)\n",
        "print(f'Model Accuracy with Class Weights: {accuracy_weighted:.2f}')\n",
        "\n"
      ],
      "metadata": {
        "colab": {
          "base_uri": "https://localhost:8080/"
        },
        "id": "eznRN2FU7Hk8",
        "outputId": "42a727c0-f14c-40d6-e004-80dcb1324dce"
      },
      "execution_count": 18,
      "outputs": [
        {
          "output_type": "stream",
          "name": "stdout",
          "text": [
            "Model Accuracy with Class Weights: 0.93\n"
          ]
        },
        {
          "output_type": "stream",
          "name": "stderr",
          "text": [
            "/usr/local/lib/python3.11/dist-packages/sklearn/linear_model/_logistic.py:465: ConvergenceWarning: lbfgs failed to converge (status=1):\n",
            "STOP: TOTAL NO. of ITERATIONS REACHED LIMIT.\n",
            "\n",
            "Increase the number of iterations (max_iter) or scale the data as shown in:\n",
            "    https://scikit-learn.org/stable/modules/preprocessing.html\n",
            "Please also refer to the documentation for alternative solver options:\n",
            "    https://scikit-learn.org/stable/modules/linear_model.html#logistic-regression\n",
            "  n_iter_i = _check_optimize_result(\n"
          ]
        }
      ]
    },
    {
      "cell_type": "markdown",
      "source": [
        "14. Apply feature scaling (Standardization) before training a Logistic Regression model. Evaluate its accuracy and compare results with and without scaling"
      ],
      "metadata": {
        "id": "rWr390yM7UnH"
      }
    },
    {
      "cell_type": "code",
      "source": [
        "from sklearn.preprocessing import StandardScaler\n",
        "\n",
        "# Standardize features\n",
        "scaler = StandardScaler()\n",
        "X_train_scaled = scaler.fit_transform(X_train)\n",
        "X_test_scaled = scaler.transform(X_test)\n",
        "\n",
        "# Train Logistic Regression on scaled data\n",
        "model_scaled = LogisticRegression()\n",
        "model_scaled.fit(X_train_scaled, y_train)\n",
        "\n",
        "# Predict and calculate accuracy\n",
        "y_pred_scaled = model_scaled.predict(X_test_scaled)\n",
        "accuracy_scaled = accuracy_score(y_test, y_pred_scaled)\n",
        "print(f'Model Accuracy with Scaling: {accuracy_scaled:.2f}')\n",
        "\n",
        "# Compare with unscaled accuracy\n",
        "print(f'Model Accuracy without Scaling: {accuracy:.2f}')"
      ],
      "metadata": {
        "colab": {
          "base_uri": "https://localhost:8080/"
        },
        "id": "xl8mXwvZ7X_3",
        "outputId": "5980bbe8-4187-407d-c3c4-1656e5145946"
      },
      "execution_count": 19,
      "outputs": [
        {
          "output_type": "stream",
          "name": "stdout",
          "text": [
            "Model Accuracy with Scaling: 1.00\n",
            "Model Accuracy without Scaling: 1.00\n"
          ]
        }
      ]
    },
    {
      "cell_type": "markdown",
      "source": [
        "15. Train Logistic Regression and evaluate its performance using ROC-AUC score"
      ],
      "metadata": {
        "id": "izic1xib7kCS"
      }
    },
    {
      "cell_type": "code",
      "source": [
        "from sklearn.metrics import roc_auc_score\n",
        "\n",
        "# Train Logistic Regression\n",
        "model_auc = LogisticRegression()\n",
        "model_auc.fit(X_train, y_train)\n",
        "\n",
        "# Predict probabilities\n",
        "y_prob_auc = model_auc.predict_proba(X_test)\n",
        "\n",
        "# Assuming 'y_test' has 3 classes (adjust if different)\n",
        "# Calculate ROC-AUC score for multiclass using 'ovr'\n",
        "roc_auc = roc_auc_score(y_test, y_prob_auc, multi_class='ovr')\n",
        "# or roc_auc = roc_auc_score(y_test, y_prob_auc, multi_class='ovo')\n",
        "\n",
        "print(f'ROC-AUC Score: {roc_auc:.2f}')"
      ],
      "metadata": {
        "colab": {
          "base_uri": "https://localhost:8080/"
        },
        "id": "8PgOxTR87xGm",
        "outputId": "81abf607-d9d5-458d-e3ec-f308818751e7"
      },
      "execution_count": 21,
      "outputs": [
        {
          "output_type": "stream",
          "name": "stdout",
          "text": [
            "ROC-AUC Score: 1.00\n"
          ]
        }
      ]
    },
    {
      "cell_type": "markdown",
      "source": [
        "16. Train Logistic Regression using a custom learning rate (C=0.5) and evaluate accuracy"
      ],
      "metadata": {
        "id": "t6InHwYv74Cq"
      }
    },
    {
      "cell_type": "code",
      "source": [
        "# Train Logistic Regression with custom C\n",
        "model_custom_lr = LogisticRegression(C=0.5)\n",
        "model_custom_lr.fit(X_train, y_train)\n",
        "\n",
        "# Predict and calculate accuracy\n",
        "y_pred_custom_lr = model_custom_lr.predict(X_test)\n",
        "accuracy_custom_lr = accuracy_score(y_test, y_pred_custom_lr)\n",
        "print(f'Model Accuracy with Custom Learning Rate: {accuracy_custom_lr:.2f}')"
      ],
      "metadata": {
        "colab": {
          "base_uri": "https://localhost:8080/"
        },
        "id": "ATWAQAWK76VX",
        "outputId": "1cb184a3-08e7-4f7c-9b04-badd74bd595f"
      },
      "execution_count": 22,
      "outputs": [
        {
          "output_type": "stream",
          "name": "stdout",
          "text": [
            "Model Accuracy with Custom Learning Rate: 1.00\n"
          ]
        }
      ]
    },
    {
      "cell_type": "markdown",
      "source": [
        "17. Train Logistic Regression and identify important features based on model coefficients"
      ],
      "metadata": {
        "id": "sjNVzudi7-GV"
      }
    },
    {
      "cell_type": "code",
      "source": [
        "# Train Logistic Regression\n",
        "model_features = LogisticRegression()\n",
        "model_features.fit(X_train, y_train)\n",
        "\n",
        "# Get feature importance\n",
        "importance = model_features.coef_[0]\n",
        "feature_importance = pd.DataFrame({'Feature': X.columns, 'Importance': importance})\n",
        "feature_importance = feature_importance.sort_values(by='Importance', ascending=False)\n",
        "\n",
        "print(\"Feature Importance:\\n\", feature_importance)"
      ],
      "metadata": {
        "colab": {
          "base_uri": "https://localhost:8080/"
        },
        "id": "YDdEHPFF8AMz",
        "outputId": "95049e5e-71f3-4d77-f349-c81f69c5eac4"
      },
      "execution_count": 23,
      "outputs": [
        {
          "output_type": "stream",
          "name": "stdout",
          "text": [
            "Feature Importance:\n",
            "         Feature  Importance\n",
            "1   sepal_width    0.952392\n",
            "0  sepal_length   -0.396341\n",
            "3   petal_width   -1.013516\n",
            "2  petal_length   -2.376290\n"
          ]
        }
      ]
    },
    {
      "cell_type": "markdown",
      "source": [
        "18. Train Logistic Regression and evaluate its performance using Cohen’s Kappa Score"
      ],
      "metadata": {
        "id": "KcM490-S8Cu2"
      }
    },
    {
      "cell_type": "code",
      "source": [
        "from sklearn.metrics import cohen_kappa_score\n",
        "\n",
        "# Train Logistic Regression\n",
        "model_kappa = LogisticRegression()\n",
        "model_kappa.fit(X_train, y_train)\n",
        "\n",
        "# Predict\n",
        "y_pred_kappa = model_kappa.predict(X_test)\n",
        "\n",
        "# Calculate Cohen’s Kappa Score\n",
        "kappa_score = cohen_kappa_score(y_test, y_pred_kappa)\n",
        "print(f'Cohen’s Kappa Score: {kappa_score:.2f}')"
      ],
      "metadata": {
        "colab": {
          "base_uri": "https://localhost:8080/"
        },
        "id": "g9u9Mw5P8EKW",
        "outputId": "ef5c7e78-8641-447d-fc05-abcd93e00d32"
      },
      "execution_count": 25,
      "outputs": [
        {
          "output_type": "stream",
          "name": "stdout",
          "text": [
            "Cohen’s Kappa Score: 1.00\n"
          ]
        }
      ]
    },
    {
      "cell_type": "markdown",
      "source": [
        "19. Train Logistic Regression and visualize the Precision-Recall Curve for binary classification"
      ],
      "metadata": {
        "id": "E2Ts9s7P8Ofy"
      }
    },
    {
      "cell_type": "code",
      "source": [
        "from sklearn.metrics import precision_recall_curve\n",
        "import matplotlib.pyplot as plt\n",
        "import numpy as np\n",
        "\n",
        "# Train Logistic Regression\n",
        "model_pr = LogisticRegression()\n",
        "model_pr.fit(X_train, y_train)\n",
        "\n",
        "# Assuming 'species' has 3 classes: 'setosa', 'versicolor', 'virginica'\n",
        "# Modify this if your classes are different\n",
        "classes = ['setosa', 'versicolor', 'virginica']\n",
        "\n",
        "# Calculate and plot Precision-Recall Curve for each class\n",
        "plt.figure(figsize=(8, 6))\n",
        "\n",
        "for i, class_name in enumerate(classes):\n",
        "    # Get probabilities for the current class\n",
        "    y_scores_pr = model_pr.predict_proba(X_test)[:, i]\n",
        "\n",
        "    # Convert y_test to binary for the current class\n",
        "    y_test_binary = np.where(y_test == class_name, 1, 0)\n",
        "\n",
        "    # Calculate precision and recall\n",
        "    precision, recall, _ = precision_recall_curve(y_test_binary, y_scores_pr)\n",
        "\n",
        "    # Plot the curve\n",
        "    plt.plot(recall, precision, marker='.', label=class_name)\n",
        "\n",
        "plt.title('Precision-Recall Curve for Multiclass')\n",
        "plt.xlabel('Recall')\n",
        "plt.ylabel('Precision')\n",
        "plt.legend()\n",
        "plt.grid()\n",
        "plt.show()"
      ],
      "metadata": {
        "colab": {
          "base_uri": "https://localhost:8080/",
          "height": 564
        },
        "id": "7e6E8lVS8edK",
        "outputId": "b1a2a9bb-9fe1-4f95-c38e-7697205b050c"
      },
      "execution_count": 28,
      "outputs": [
        {
          "output_type": "display_data",
          "data": {
            "text/plain": [
              "<Figure size 800x600 with 1 Axes>"
            ],
            "image/png": "[encoded data removed]"
          },
          "metadata": {}
        }
      ]
    },
    {
      "cell_type": "markdown",
      "source": [
        "20. Train Logistic Regression with different solvers (liblinear, saga, lbfgs) and compare their accuracy"
      ],
      "metadata": {
        "id": "9rqbIIhnzkdt"
      }
    },
    {
      "cell_type": "code",
      "source": [
        "solvers = ['liblinear', 'saga', 'lbfgs']\n",
        "accuracies_solvers = {}\n",
        "\n",
        "for solver in solvers:\n",
        "    model_solver = LogisticRegression(solver=solver)\n",
        "    model_solver.fit(X_train, y_train)\n",
        "    y_pred_solver = model_solver.predict(X_test)\n",
        "    accuracy_solver = accuracy_score(y_test, y_pred_solver)\n",
        "    accuracies_solvers[solver] = accuracy_solver\n",
        "\n",
        "print(\"Accuracy for different solvers:\")\n",
        "for solver, accuracy in accuracies_solvers.items():\n",
        "    print(f'Solver: {solver}, Accuracy: {accuracy:.2f}')"
      ],
      "metadata": {
        "colab": {
          "base_uri": "https://localhost:8080/"
        },
        "id": "QH1UpzCzCd_X",
        "outputId": "f55231bf-8a7e-45bf-af36-628da4df73a3"
      },
      "execution_count": 29,
      "outputs": [
        {
          "output_type": "stream",
          "name": "stdout",
          "text": [
            "Accuracy for different solvers:\n",
            "Solver: liblinear, Accuracy: 1.00\n",
            "Solver: saga, Accuracy: 1.00\n",
            "Solver: lbfgs, Accuracy: 1.00\n"
          ]
        },
        {
          "output_type": "stream",
          "name": "stderr",
          "text": [
            "/usr/local/lib/python3.11/dist-packages/sklearn/linear_model/_sag.py:348: ConvergenceWarning: The max_iter was reached which means the coef_ did not converge\n",
            "  warnings.warn(\n"
          ]
        }
      ]
    },
    {
      "cell_type": "markdown",
      "source": [
        "21. Train Logistic Regression and evaluate its performance using Matthews Correlation Coefficient (MCC)"
      ],
      "metadata": {
        "id": "ol3Pf3RaCjlU"
      }
    },
    {
      "cell_type": "code",
      "source": [
        "from sklearn.metrics import matthews_corrcoef\n",
        "\n",
        "# Train Logistic Regression\n",
        "model_mcc = LogisticRegression()\n",
        "model_mcc.fit(X_train, y_train)\n",
        "\n",
        "# Predict\n",
        "y_pred_mcc = model_mcc.predict(X_test)\n",
        "\n",
        "# Calculate Matthews Correlation Coefficient\n",
        "mcc_score = matthews_corrcoef(y_test, y_pred_mcc)\n",
        "print(f'Matthews Correlation Coefficient: {mcc_score:.2f}')"
      ],
      "metadata": {
        "colab": {
          "base_uri": "https://localhost:8080/"
        },
        "id": "SykaTYe-CnJ6",
        "outputId": "55221e4c-c5cc-42f3-ea07-a3746296a1f5"
      },
      "execution_count": 30,
      "outputs": [
        {
          "output_type": "stream",
          "name": "stdout",
          "text": [
            "Matthews Correlation Coefficient: 1.00\n"
          ]
        }
      ]
    },
    {
      "cell_type": "markdown",
      "source": [
        "22. Train Logistic Regression on both raw and standardized data. Compare their accuracy to see the impact of feature scaling"
      ],
      "metadata": {
        "id": "wdu055xhCqq2"
      }
    },
    {
      "cell_type": "code",
      "source": [
        "# Train on raw data\n",
        "model_raw = LogisticRegression()\n",
        "model_raw.fit(X_train, y_train)\n",
        "y_pred_raw = model_raw.predict(X_test)\n",
        "accuracy_raw = accuracy_score(y_test, y_pred_raw)\n",
        "\n",
        "# Train on standardized data\n",
        "scaler = StandardScaler()\n",
        "X_train_scaled = scaler.fit_transform(X_train)\n",
        "X_test_scaled = scaler.transform(X_test)\n",
        "\n",
        "model_scaled = LogisticRegression()\n",
        "model_scaled.fit(X_train_scaled, y_train)\n",
        "y_pred_scaled = model_scaled.predict(X_test_scaled)\n",
        "accuracy_scaled = accuracy_score(y_test, y_pred_scaled)\n",
        "\n",
        "print(f'Accuracy on Raw Data: {accuracy_raw:.2f}')\n",
        "print(f'Accuracy on Scaled Data: {accuracy_scaled:.2f}')"
      ],
      "metadata": {
        "colab": {
          "base_uri": "https://localhost:8080/"
        },
        "id": "zO-yD_9UCt9P",
        "outputId": "15e5f6f5-eb6f-4069-f307-de4a0f9c6ec6"
      },
      "execution_count": 31,
      "outputs": [
        {
          "output_type": "stream",
          "name": "stdout",
          "text": [
            "Accuracy on Raw Data: 1.00\n",
            "Accuracy on Scaled Data: 1.00\n"
          ]
        }
      ]
    },
    {
      "cell_type": "markdown",
      "source": [
        "23. Train Logistic Regression and find the optimal C (regularization strength) using cross-validation"
      ],
      "metadata": {
        "id": "PL746nqLCv2_"
      }
    },
    {
      "cell_type": "code",
      "source": [
        "from sklearn.model_selection import GridSearchCV\n",
        "\n",
        "# Define the parameter grid\n",
        "param_grid = {'C': [0.01, 0.1, 1, 10, 100]}\n",
        "\n",
        "# Grid Search\n",
        "grid_search = GridSearchCV(LogisticRegression(), param_grid, cv=5)\n",
        "grid_search.fit(X_train, y_train)\n",
        "\n",
        "# Best parameters and accuracy\n",
        "best_c = grid_search.best_params_['C']\n",
        "best_accuracy_cv = grid_search.best_score_\n",
        "print(f'Optimal C: {best_c}')\n",
        "print(f'Best Cross-Validation Accuracy: {best_accuracy_cv:.2f}')"
      ],
      "metadata": {
        "colab": {
          "base_uri": "https://localhost:8080/"
        },
        "id": "SxF3Va9EC0Dn",
        "outputId": "978b04ff-2413-402a-fcd1-e9f9b0659420"
      },
      "execution_count": 32,
      "outputs": [
        {
          "output_type": "stream",
          "name": "stderr",
          "text": [
            "/usr/local/lib/python3.11/dist-packages/sklearn/linear_model/_logistic.py:465: ConvergenceWarning: lbfgs failed to converge (status=1):\n",
            "STOP: TOTAL NO. of ITERATIONS REACHED LIMIT.\n",
            "\n",
            "Increase the number of iterations (max_iter) or scale the data as shown in:\n",
            "    https://scikit-learn.org/stable/modules/preprocessing.html\n",
            "Please also refer to the documentation for alternative solver options:\n",
            "    https://scikit-learn.org/stable/modules/linear_model.html#logistic-regression\n",
            "  n_iter_i = _check_optimize_result(\n",
            "/usr/local/lib/python3.11/dist-packages/sklearn/linear_model/_logistic.py:465: ConvergenceWarning: lbfgs failed to converge (status=1):\n",
            "STOP: TOTAL NO. of ITERATIONS REACHED LIMIT.\n",
            "\n",
            "Increase the number of iterations (max_iter) or scale the data as shown in:\n",
            "    https://scikit-learn.org/stable/modules/preprocessing.html\n",
            "Please also refer to the documentation for alternative solver options:\n",
            "    https://scikit-learn.org/stable/modules/linear_model.html#logistic-regression\n",
            "  n_iter_i = _check_optimize_result(\n",
            "/usr/local/lib/python3.11/dist-packages/sklearn/linear_model/_logistic.py:465: ConvergenceWarning: lbfgs failed to converge (status=1):\n",
            "STOP: TOTAL NO. of ITERATIONS REACHED LIMIT.\n",
            "\n",
            "Increase the number of iterations (max_iter) or scale the data as shown in:\n",
            "    https://scikit-learn.org/stable/modules/preprocessing.html\n",
            "Please also refer to the documentation for alternative solver options:\n",
            "    https://scikit-learn.org/stable/modules/linear_model.html#logistic-regression\n",
            "  n_iter_i = _check_optimize_result(\n",
            "/usr/local/lib/python3.11/dist-packages/sklearn/linear_model/_logistic.py:465: ConvergenceWarning: lbfgs failed to converge (status=1):\n",
            "STOP: TOTAL NO. of ITERATIONS REACHED LIMIT.\n",
            "\n",
            "Increase the number of iterations (max_iter) or scale the data as shown in:\n",
            "    https://scikit-learn.org/stable/modules/preprocessing.html\n",
            "Please also refer to the documentation for alternative solver options:\n",
            "    https://scikit-learn.org/stable/modules/linear_model.html#logistic-regression\n",
            "  n_iter_i = _check_optimize_result(\n",
            "/usr/local/lib/python3.11/dist-packages/sklearn/linear_model/_logistic.py:465: ConvergenceWarning: lbfgs failed to converge (status=1):\n",
            "STOP: TOTAL NO. of ITERATIONS REACHED LIMIT.\n",
            "\n",
            "Increase the number of iterations (max_iter) or scale the data as shown in:\n",
            "    https://scikit-learn.org/stable/modules/preprocessing.html\n",
            "Please also refer to the documentation for alternative solver options:\n",
            "    https://scikit-learn.org/stable/modules/linear_model.html#logistic-regression\n",
            "  n_iter_i = _check_optimize_result(\n"
          ]
        },
        {
          "output_type": "stream",
          "name": "stdout",
          "text": [
            "Optimal C: 1\n",
            "Best Cross-Validation Accuracy: 0.97\n"
          ]
        },
        {
          "output_type": "stream",
          "name": "stderr",
          "text": [
            "/usr/local/lib/python3.11/dist-packages/sklearn/linear_model/_logistic.py:465: ConvergenceWarning: lbfgs failed to converge (status=1):\n",
            "STOP: TOTAL NO. of ITERATIONS REACHED LIMIT.\n",
            "\n",
            "Increase the number of iterations (max_iter) or scale the data as shown in:\n",
            "    https://scikit-learn.org/stable/modules/preprocessing.html\n",
            "Please also refer to the documentation for alternative solver options:\n",
            "    https://scikit-learn.org/stable/modules/linear_model.html#logistic-regression\n",
            "  n_iter_i = _check_optimize_result(\n",
            "/usr/local/lib/python3.11/dist-packages/sklearn/linear_model/_logistic.py:465: ConvergenceWarning: lbfgs failed to converge (status=1):\n",
            "STOP: TOTAL NO. of ITERATIONS REACHED LIMIT.\n",
            "\n",
            "Increase the number of iterations (max_iter) or scale the data as shown in:\n",
            "    https://scikit-learn.org/stable/modules/preprocessing.html\n",
            "Please also refer to the documentation for alternative solver options:\n",
            "    https://scikit-learn.org/stable/modules/linear_model.html#logistic-regression\n",
            "  n_iter_i = _check_optimize_result(\n",
            "/usr/local/lib/python3.11/dist-packages/sklearn/linear_model/_logistic.py:465: ConvergenceWarning: lbfgs failed to converge (status=1):\n",
            "STOP: TOTAL NO. of ITERATIONS REACHED LIMIT.\n",
            "\n",
            "Increase the number of iterations (max_iter) or scale the data as shown in:\n",
            "    https://scikit-learn.org/stable/modules/preprocessing.html\n",
            "Please also refer to the documentation for alternative solver options:\n",
            "    https://scikit-learn.org/stable/modules/linear_model.html#logistic-regression\n",
            "  n_iter_i = _check_optimize_result(\n",
            "/usr/local/lib/python3.11/dist-packages/sklearn/linear_model/_logistic.py:465: ConvergenceWarning: lbfgs failed to converge (status=1):\n",
            "STOP: TOTAL NO. of ITERATIONS REACHED LIMIT.\n",
            "\n",
            "Increase the number of iterations (max_iter) or scale the data as shown in:\n",
            "    https://scikit-learn.org/stable/modules/preprocessing.html\n",
            "Please also refer to the documentation for alternative solver options:\n",
            "    https://scikit-learn.org/stable/modules/linear_model.html#logistic-regression\n",
            "  n_iter_i = _check_optimize_result(\n"
          ]
        }
      ]
    },
    {
      "cell_type": "markdown",
      "source": [
        "24. Train Logistic Regression, save the trained model using joblib, and load it again to make predictions"
      ],
      "metadata": {
        "id": "v0V_KwdeDEbr"
      }
    },
    {
      "cell_type": "code",
      "source": [
        "import joblib\n",
        "\n",
        "# Train Logistic Regression\n",
        "model_save = LogisticRegression()\n",
        "model_save.fit(X_train, y_train)\n",
        "\n",
        "# Save the model\n",
        "joblib.dump(model_save, 'logistic_regression_model.joblib')\n",
        "\n",
        "# Load the model\n",
        "loaded_model = joblib.load('logistic_regression_model.joblib')\n",
        "\n",
        "# Make predictions with the loaded model\n",
        "y_pred_loaded = loaded_model.predict(X_test)\n",
        "accuracy_loaded = accuracy_score(y_test, y_pred_loaded)\n",
        "print(f'Accuracy of Loaded Model: {accuracy_loaded:.2f}')"
      ],
      "metadata": {
        "colab": {
          "base_uri": "https://localhost:8080/"
        },
        "id": "-sVBzYlXC1Zy",
        "outputId": "869406b8-9de4-4143-8ca4-a91c147b3171"
      },
      "execution_count": 33,
      "outputs": [
        {
          "output_type": "stream",
          "name": "stdout",
          "text": [
            "Accuracy of Loaded Model: 1.00\n"
          ]
        }
      ]
    },
    {
      "cell_type": "markdown",
      "source": [],
      "metadata": {
        "id": "UlhUJxUjDJf-"
      }
    },
    {
      "cell_type": "code",
      "source": [],
      "metadata": {
        "id": "oriBfm-gCqaR"
      },
      "execution_count": null,
      "outputs": []
    }
  ]
}