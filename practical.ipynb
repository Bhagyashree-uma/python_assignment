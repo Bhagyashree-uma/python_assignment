{
  "nbformat": 4,
  "nbformat_minor": 0,
  "metadata": {
    "colab": {
      "provenance": []
    },
    "kernelspec": {
      "name": "python3",
      "display_name": "Python 3"
    },
    "language_info": {
      "name": "python"
    }
  },
  "cells": [
    {
      "cell_type": "markdown",
      "source": [
        "1. Write a Python function that takes a list of numbers as input and returns the sum of all even numbers in\n",
        "the list.\n",
        "\n"
      ],
      "metadata": {
        "id": "f7B1ugN-GXJH"
      }
    },
    {
      "cell_type": "code",
      "source": [
        "def sum_of_even_numbers(numbers):\n",
        "    return sum(num for num in numbers if num % 2 == 0)\n",
        "\n",
        "# Example usage\n",
        "print(sum_of_even_numbers([1, 2, 3, 4, 5, 6]))"
      ],
      "metadata": {
        "colab": {
          "base_uri": "https://localhost:8080/"
        },
        "id": "NDWaQGmLGYUB",
        "outputId": "c2e431b3-7d8d-47d8-a852-1e1220ae1614"
      },
      "execution_count": null,
      "outputs": [
        {
          "output_type": "stream",
          "name": "stdout",
          "text": [
            "12\n"
          ]
        }
      ]
    },
    {
      "cell_type": "markdown",
      "source": [
        "2.Create a Python function that accepts a string and returns the reverse of that string."
      ],
      "metadata": {
        "id": "q8nsCNcsGia4"
      }
    },
    {
      "cell_type": "code",
      "source": [
        "def reverse_string(s):\n",
        "    return s[::-1]\n",
        "\n",
        "# Example usage\n",
        "print(reverse_string(\"Hello, World!\"))  # Output: \"!dlroW ,olleH\""
      ],
      "metadata": {
        "colab": {
          "base_uri": "https://localhost:8080/"
        },
        "id": "wnHYLv_LGn0i",
        "outputId": "573e1ad8-e11b-43c4-f99d-beb4656e228c"
      },
      "execution_count": null,
      "outputs": [
        {
          "output_type": "stream",
          "name": "stdout",
          "text": [
            "!dlroW ,olleH\n"
          ]
        }
      ]
    },
    {
      "cell_type": "markdown",
      "source": [
        " 3.Implement a Python function that takes a list of integers and returns a new list containing the squares of\n",
        "each number."
      ],
      "metadata": {
        "id": "L2mTPIgSGqok"
      }
    },
    {
      "cell_type": "code",
      "source": [
        "def square_numbers(numbers):\n",
        "    return [num ** 2 for num in numbers]\n",
        "\n",
        "# Example usage\n",
        "print(square_numbers([1, 2, 3, 4, 5]))  # Output: [1, 4, 9, 16, 25]"
      ],
      "metadata": {
        "colab": {
          "base_uri": "https://localhost:8080/"
        },
        "id": "rbWogUiUGtUM",
        "outputId": "9dfa3749-715f-4eb0-cd32-d0a8b1495f88"
      },
      "execution_count": null,
      "outputs": [
        {
          "output_type": "stream",
          "name": "stdout",
          "text": [
            "[1, 4, 9, 16, 25]\n"
          ]
        }
      ]
    },
    {
      "cell_type": "markdown",
      "source": [
        "Write a Python function that checks if a given number is prime or not from 1 to 200"
      ],
      "metadata": {
        "id": "y5Ro1AbLGxIQ"
      }
    },
    {
      "cell_type": "code",
      "source": [
        "def is_prime(n):\n",
        "    if n <= 1:\n",
        "        return False\n",
        "    for i in range(2, int(n**0.5) + 1):\n",
        "        if n % i == 0:\n",
        "            return False\n",
        "    return True\n",
        "\n",
        "# Check for prime numbers from 1 to 200\n",
        "primes = [num for num in range(1, 201) if is_prime(num)]\n",
        "print(primes)"
      ],
      "metadata": {
        "colab": {
          "base_uri": "https://localhost:8080/"
        },
        "id": "Ik0ed1ixG1Qm",
        "outputId": "efcf0116-c126-4274-c5c5-b7107cb4a8c4"
      },
      "execution_count": null,
      "outputs": [
        {
          "output_type": "stream",
          "name": "stdout",
          "text": [
            "[2, 3, 5, 7, 11, 13, 17, 19, 23, 29, 31, 37, 41, 43, 47, 53, 59, 61, 67, 71, 73, 79, 83, 89, 97, 101, 103, 107, 109, 113, 127, 131, 137, 139, 149, 151, 157, 163, 167, 173, 179, 181, 191, 193, 197, 199]\n"
          ]
        }
      ]
    },
    {
      "cell_type": "markdown",
      "source": [
        "Create an iterator class in Python that generates the Fibonacci sequence up to a specified number of\n",
        "terms."
      ],
      "metadata": {
        "id": "JTqRpRRiG8MU"
      }
    },
    {
      "cell_type": "code",
      "source": [
        "class FibonacciIterator:\n",
        "    def __init__(self, n):\n",
        "        self.n = n\n",
        "        self.a, self.b = 0, 1\n",
        "        self.count = 0\n",
        "\n",
        "    def __iter__(self):\n",
        "        return self\n",
        "\n",
        "    def __next__(self):\n",
        "        if self.count < self.n:\n",
        "            result = self.a\n",
        "            self.a, self.b = self.b, self.a + self.b\n",
        "            self.count += 1\n",
        "            return result\n",
        "        else:\n",
        "            raise StopIteration\n",
        "\n",
        "# Example usage\n",
        "fibonacci = FibonacciIterator(10)\n",
        "print(list(fibonacci))  # Output: First 10 Fibonacci numbers"
      ],
      "metadata": {
        "colab": {
          "base_uri": "https://localhost:8080/"
        },
        "id": "8-e7ZeoAIPbr",
        "outputId": "df3720d8-d18e-4c81-a1bb-1a96725a2f32"
      },
      "execution_count": null,
      "outputs": [
        {
          "output_type": "stream",
          "name": "stdout",
          "text": [
            "[0, 1, 1, 2, 3, 5, 8, 13, 21, 34]\n"
          ]
        }
      ]
    },
    {
      "cell_type": "markdown",
      "source": [
        "6. Write a generator function in Python that yields the powers of 2 up to a given exponent"
      ],
      "metadata": {
        "id": "P1cEAjeNHFBw"
      }
    },
    {
      "cell_type": "code",
      "source": [
        "def powers_of_two(exponent):\n",
        "    for i in range(exponent + 1):\n",
        "        yield 2 ** i\n",
        "\n",
        "# Example usage\n",
        "print(list(powers_of_two(5)))  # Output: [1, 2, 4, 8, 16, 32]"
      ],
      "metadata": {
        "colab": {
          "base_uri": "https://localhost:8080/"
        },
        "id": "-DHICACfHIRY",
        "outputId": "6fa324b4-fc85-4020-b8bd-3daeda79d1eb"
      },
      "execution_count": null,
      "outputs": [
        {
          "output_type": "stream",
          "name": "stdout",
          "text": [
            "[1, 2, 4, 8, 16, 32]\n"
          ]
        }
      ]
    },
    {
      "cell_type": "markdown",
      "source": [
        " Implement a generator function that reads a file line by line and yields each line as a string."
      ],
      "metadata": {
        "id": "QH3HKN4-HLRx"
      }
    },
    {
      "cell_type": "code",
      "source": [
        "def read_file_lines(file_path):\n",
        "    with open(file_path, 'r') as file:\n",
        "        for line in file:\n",
        "            yield line.strip()\n",
        "\n",
        "# Example usage (assuming 'example.txt' exists)\n",
        "# for line in read_file_lines('example.txt'):\n",
        "#     print(line)"
      ],
      "metadata": {
        "id": "Io-YcZriIVWj"
      },
      "execution_count": null,
      "outputs": []
    },
    {
      "cell_type": "markdown",
      "source": [
        " Use a lambda function in Python to sort a list of tuples based on the second element of each tuple.\n",
        "\n"
      ],
      "metadata": {
        "id": "7xOVNhsBHaf_"
      }
    },
    {
      "cell_type": "code",
      "source": [
        "\n",
        "data = [(1, 'one'), (3, 'three'), (2, 'two')]\n",
        "sorted_data = sorted(data, key=lambda x: x[1])\n",
        "print(sorted_data)  # Output: [(1, 'one'), (3, 'three'), (2, 'two')]"
      ],
      "metadata": {
        "colab": {
          "base_uri": "https://localhost:8080/"
        },
        "id": "lw36mpqoHh_E",
        "outputId": "c63020be-2d93-4997-9407-8fdd3a691744"
      },
      "execution_count": null,
      "outputs": [
        {
          "output_type": "stream",
          "name": "stdout",
          "text": [
            "[(1, 'one'), (3, 'three'), (2, 'two')]\n"
          ]
        }
      ]
    },
    {
      "cell_type": "markdown",
      "source": [
        "Write a Python program that uses `map()` to convert a list of temperatures from Celsius to Fahrenheit"
      ],
      "metadata": {
        "id": "mVZyqHnYIkpC"
      }
    },
    {
      "cell_type": "code",
      "source": [
        "def celsius_to_fahrenheit(celsius):\n",
        "    return list(map(lambda x: (x * 9/5) + 32, celsius))\n",
        "\n",
        "# Example usage\n",
        "temperatures_celsius = [0, 20, 37, 100]\n",
        "print(celsius_to_fahrenheit(temperatures_celsius))  # Output: [32.0, 68.0, 98.6, 212.0]"
      ],
      "metadata": {
        "colab": {
          "base_uri": "https://localhost:8080/"
        },
        "id": "YvCirhGPInXa",
        "outputId": "b5604923-2961-478c-871b-6b925465cba2"
      },
      "execution_count": null,
      "outputs": [
        {
          "output_type": "stream",
          "name": "stdout",
          "text": [
            "[32.0, 68.0, 98.6, 212.0]\n"
          ]
        }
      ]
    },
    {
      "cell_type": "markdown",
      "source": [
        " Create a Python program that uses `filter()` to remove all the vowels from a given string."
      ],
      "metadata": {
        "id": "HNu5iMwCIrCa"
      }
    },
    {
      "cell_type": "code",
      "source": [
        "def remove_vowels(s):\n",
        "    vowels = \"aeiouAEIOU\"\n",
        "    return ''.join(filter(lambda x: x not in vowels, s))\n",
        "\n",
        "# Example usage\n",
        "print(remove_vowels(\"Hello, World!\"))  # Output: \"Hll, Wrld!\""
      ],
      "metadata": {
        "id": "Hc3Ph3WRIr58"
      },
      "execution_count": null,
      "outputs": []
    },
    {
      "cell_type": "markdown",
      "source": [],
      "metadata": {
        "id": "CsAwJkFqIwXF"
      }
    },
    {
      "cell_type": "code",
      "source": [
        "# List of orders\n",
        "orders = [\n",
        "    [34587, \"Book titled and Mark Lutz\", 4, 40.95],\n",
        "    [98762, \"Programming Python Mark Lutz\", 5, 56.80],\n",
        "    [77226, \"Headfirst Python Paul Barry\", 3, 32.95],\n",
        "    [88112, \"Einfuhrung in Python3, Bernd\", 3, 24.99]\n",
        "]\n",
        "\n",
        "# Function to calculate total price with condition\n",
        "def calculate_order_totals(orders):\n",
        "    return list(map(lambda order: (\n",
        "        order[0],\n",
        "        (order[2] * order[3]) + (10 if (order[2] * order[3]) < 100 else 0)\n",
        "    ), orders))\n",
        "\n",
        "# Get the result\n",
        "order_totals = calculate_order_totals(orders)\n",
        "\n",
        "# Print the result\n",
        "print(order_totals)"
      ],
      "metadata": {
        "colab": {
          "base_uri": "https://localhost:8080/"
        },
        "id": "qt-BnYKrKfKV",
        "outputId": "f0da5a1d-4bf4-4b80-e33f-1e507412115d"
      },
      "execution_count": null,
      "outputs": [
        {
          "output_type": "stream",
          "name": "stdout",
          "text": [
            "[(34587, 163.8), (98762, 284.0), (77226, 108.85000000000001), (88112, 84.97)]\n"
          ]
        }
      ]
    }
  ]
}