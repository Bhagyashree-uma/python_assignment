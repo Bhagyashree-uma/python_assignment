{
  "nbformat": 4,
  "nbformat_minor": 0,
  "metadata": {
    "colab": {
      "provenance": []
    },
    "kernelspec": {
      "name": "python3",
      "display_name": "Python 3"
    },
    "language_info": {
      "name": "python"
    }
  },
  "cells": [
    {
      "cell_type": "code",
      "execution_count": null,
      "metadata": {
        "id": "7qMuNWGrdtRH"
      },
      "outputs": [],
      "source": []
    },
    {
      "cell_type": "markdown",
      "source": [
        "1. Discuss string slicing and provide examples?\n",
        "*  String is immutable\n",
        "*  string is a sequence of character, represents and manipulate textual data\n",
        "*   Characters are presented using numerical values each character is assigned a unique value\n",
        "**Slicing Strings**\n",
        "You can return a range of characters by using the slice syntax.\n",
        "Specify the start index and the end index, separated by a colon, to return a part of the string.\n",
        "\n",
        "\n",
        "\n"
      ],
      "metadata": {
        "id": "z8HU9y_Kdy0e"
      }
    },
    {
      "cell_type": "code",
      "source": [
        "string1=\"I am a good student \"\n",
        "string1[0:4]\n"
      ],
      "metadata": {
        "colab": {
          "base_uri": "https://localhost:8080/",
          "height": 36
        },
        "id": "oFUjYnr1fH2V",
        "outputId": "f96a17cc-37ac-4461-8ffd-236c040ee549"
      },
      "execution_count": null,
      "outputs": [
        {
          "output_type": "execute_result",
          "data": {
            "text/plain": [
              "'I am'"
            ],
            "application/vnd.google.colaboratory.intrinsic+json": {
              "type": "string"
            }
          },
          "metadata": {},
          "execution_count": 2
        }
      ]
    },
    {
      "cell_type": "code",
      "source": [
        "string1[:-3]"
      ],
      "metadata": {
        "colab": {
          "base_uri": "https://localhost:8080/",
          "height": 36
        },
        "id": "Ds41RsTlfc_Y",
        "outputId": "11acbcec-df15-4d71-fa2d-b8e094711e75"
      },
      "execution_count": null,
      "outputs": [
        {
          "output_type": "execute_result",
          "data": {
            "text/plain": [
              "'I am a good stude'"
            ],
            "application/vnd.google.colaboratory.intrinsic+json": {
              "type": "string"
            }
          },
          "metadata": {},
          "execution_count": 3
        }
      ]
    },
    {
      "cell_type": "code",
      "source": [
        "string=\"hello world\"\n",
        "string[0:5:2]"
      ],
      "metadata": {
        "colab": {
          "base_uri": "https://localhost:8080/",
          "height": 36
        },
        "id": "PZclOxO0fmGY",
        "outputId": "c6ac66df-845b-41aa-c64a-e1514f770b00"
      },
      "execution_count": null,
      "outputs": [
        {
          "output_type": "execute_result",
          "data": {
            "text/plain": [
              "'hlo'"
            ],
            "application/vnd.google.colaboratory.intrinsic+json": {
              "type": "string"
            }
          },
          "metadata": {},
          "execution_count": 4
        }
      ]
    },
    {
      "cell_type": "code",
      "source": [
        "string[::-1]"
      ],
      "metadata": {
        "colab": {
          "base_uri": "https://localhost:8080/",
          "height": 36
        },
        "id": "6tH1Ur2TfzVf",
        "outputId": "edecd5c5-79a6-455b-c8dd-713e6384dc10"
      },
      "execution_count": null,
      "outputs": [
        {
          "output_type": "execute_result",
          "data": {
            "text/plain": [
              "'dlrow olleh'"
            ],
            "application/vnd.google.colaboratory.intrinsic+json": {
              "type": "string"
            }
          },
          "metadata": {},
          "execution_count": 5
        }
      ]
    },
    {
      "cell_type": "markdown",
      "source": [
        "2, Explain the key features of lists in Python.\n",
        "*  List ordered collection of items\n",
        "*  List is a heterogeneous can store any type of data\n",
        "*   List are mutable\n",
        "*   List item\n",
        "\n",
        "\n",
        "\n"
      ],
      "metadata": {
        "id": "TQy3twaHgFRw"
      }
    },
    {
      "cell_type": "code",
      "source": [
        "playlist=[]\n",
        "playlist.append(\"ye\")\n",
        "playlist.append(\"tune\")\n",
        "playlist.append(\"kya\")\n",
        "print(playlist)\n"
      ],
      "metadata": {
        "colab": {
          "base_uri": "https://localhost:8080/"
        },
        "id": "NNBpVs3og5k0",
        "outputId": "fb8dbc21-ab1c-417e-8501-d812700ff007"
      },
      "execution_count": null,
      "outputs": [
        {
          "output_type": "stream",
          "name": "stdout",
          "text": [
            "['ye', 'tune', 'kya']\n"
          ]
        }
      ]
    },
    {
      "cell_type": "code",
      "source": [
        "list=[\"manago\",\"brinjal\",\"banna\",\"apple\"]\n",
        "print(list)"
      ],
      "metadata": {
        "colab": {
          "base_uri": "https://localhost:8080/"
        },
        "id": "VkM-X-mFivez",
        "outputId": "58afcc06-2215-4fd0-a1d7-4e304d88ac71"
      },
      "execution_count": null,
      "outputs": [
        {
          "output_type": "stream",
          "name": "stdout",
          "text": [
            "['manago', 'brinjal', 'banna', 'apple']\n"
          ]
        }
      ]
    },
    {
      "cell_type": "code",
      "source": [
        "list.insert(2,\"carrot\")\n",
        "print(list)\n"
      ],
      "metadata": {
        "colab": {
          "base_uri": "https://localhost:8080/"
        },
        "id": "Qwe6VfZBjI1V",
        "outputId": "c0e80d5e-f621-4daa-b764-5207ced7af38"
      },
      "execution_count": null,
      "outputs": [
        {
          "output_type": "stream",
          "name": "stdout",
          "text": [
            "['manago', 'brinjal', 'carrot', 'banna', 'apple']\n"
          ]
        }
      ]
    },
    {
      "cell_type": "code",
      "source": [
        "list=[\"manago\",\"brinjal\",\"banna\",\"apple\"]\n",
        "brother_list=[\"manago\",\"brinjal\",\"banana\",\"apple\"]\n",
        "list.extend(brother_list)\n",
        "print(list)"
      ],
      "metadata": {
        "colab": {
          "base_uri": "https://localhost:8080/"
        },
        "id": "6JAPzG4xjYWn",
        "outputId": "40d17de7-5264-4080-c6af-fe6967cb0814"
      },
      "execution_count": null,
      "outputs": [
        {
          "output_type": "stream",
          "name": "stdout",
          "text": [
            "['manago', 'brinjal', 'banna', 'apple', 'manago', 'brinjal', 'banana', 'apple']\n"
          ]
        }
      ]
    },
    {
      "cell_type": "markdown",
      "source": [
        "3.Describe how to access, modify, and delete elements in a list with examples.\n"
      ],
      "metadata": {
        "id": "XtElj9_sjx3j"
      }
    },
    {
      "cell_type": "code",
      "source": [
        "book_list=[\"history\",\"maths\",\"science\",\"english\"]\n",
        "print(book_list)"
      ],
      "metadata": {
        "colab": {
          "base_uri": "https://localhost:8080/"
        },
        "id": "dsoXweoCkazP",
        "outputId": "22312838-7784-4d6f-cfc7-ed44e94f741b"
      },
      "execution_count": null,
      "outputs": [
        {
          "output_type": "stream",
          "name": "stdout",
          "text": [
            "['history', 'maths', 'science', 'english']\n"
          ]
        }
      ]
    },
    {
      "cell_type": "code",
      "source": [
        "book_list[1]"
      ],
      "metadata": {
        "colab": {
          "base_uri": "https://localhost:8080/",
          "height": 36
        },
        "id": "SMyMCIFflEuH",
        "outputId": "cbea2fa6-83be-44d6-e4d2-f04986dd9fbd"
      },
      "execution_count": null,
      "outputs": [
        {
          "output_type": "execute_result",
          "data": {
            "text/plain": [
              "'maths'"
            ],
            "application/vnd.google.colaboratory.intrinsic+json": {
              "type": "string"
            }
          },
          "metadata": {},
          "execution_count": 16
        }
      ]
    },
    {
      "cell_type": "code",
      "source": [
        "book_list[1]=\"computer\"\n",
        "print(book_list)"
      ],
      "metadata": {
        "colab": {
          "base_uri": "https://localhost:8080/"
        },
        "id": "hBpQTvOzlN4x",
        "outputId": "d91df850-ac33-416a-a0f1-48496e66cfa9"
      },
      "execution_count": null,
      "outputs": [
        {
          "output_type": "stream",
          "name": "stdout",
          "text": [
            "['history', 'computer', 'science', 'english']\n"
          ]
        }
      ]
    },
    {
      "cell_type": "code",
      "source": [
        "book_list.remove(\"computer\")\n",
        "print(book_list)"
      ],
      "metadata": {
        "colab": {
          "base_uri": "https://localhost:8080/"
        },
        "id": "34QWo7bkllgr",
        "outputId": "30bbecbe-cb44-4e6b-b954-ebedf4e0cbfa"
      },
      "execution_count": null,
      "outputs": [
        {
          "output_type": "stream",
          "name": "stdout",
          "text": [
            "['history', 'science', 'english']\n"
          ]
        }
      ]
    },
    {
      "cell_type": "code",
      "source": [
        "book_list.pop(1)\n",
        "print(book_list)"
      ],
      "metadata": {
        "colab": {
          "base_uri": "https://localhost:8080/"
        },
        "id": "IvV7WFfylvin",
        "outputId": "bf259009-b7de-42e3-9140-e02db0e4725e"
      },
      "execution_count": null,
      "outputs": [
        {
          "output_type": "stream",
          "name": "stdout",
          "text": [
            "['history', 'english']\n"
          ]
        }
      ]
    },
    {
      "cell_type": "code",
      "source": [
        "book_list.clear()\n",
        "print(book_list)"
      ],
      "metadata": {
        "colab": {
          "base_uri": "https://localhost:8080/"
        },
        "id": "2WNsqjOsl6s8",
        "outputId": "4c6bb86e-65c1-4eda-ffa4-bface0d4f52a"
      },
      "execution_count": null,
      "outputs": [
        {
          "output_type": "stream",
          "name": "stdout",
          "text": [
            "[]\n"
          ]
        }
      ]
    },
    {
      "cell_type": "markdown",
      "source": [
        "4 Compare and contrast tuples and lists with examples.\n",
        "List is a container that contains different types of objects.list are mutable\n",
        "Tuple is also similar to a list but it contains immutable objects and they are stored within parentheses.Those objects that cannot be modified by any means are called as immutable."
      ],
      "metadata": {
        "id": "fcL8CW8mmEtg"
      }
    },
    {
      "cell_type": "code",
      "source": [
        "# List example\n",
        "my_list = [1, 2, 3]\n",
        "my_list[0] = 10  # Modifying the first element\n",
        "my_list.append(4)  # Adding an element\n",
        "print(my_list)\n",
        "\n",
        "# Tuple example\n",
        "my_tuple = (1, 2, 3)\n",
        "# my_tuple[0] = 10  # This would raise a TypeError\n",
        "# my_tuple.append(4)  # This would also raise an AttributeError\n",
        "print(my_tuple)"
      ],
      "metadata": {
        "colab": {
          "base_uri": "https://localhost:8080/"
        },
        "id": "1JuT3sJenZtJ",
        "outputId": "a318479e-7c61-4a53-89c1-cc55a51d433c"
      },
      "execution_count": null,
      "outputs": [
        {
          "output_type": "stream",
          "name": "stdout",
          "text": [
            "[10, 2, 3, 4]\n",
            "(1, 2, 3)\n"
          ]
        }
      ]
    },
    {
      "cell_type": "code",
      "source": [
        "# List\n",
        "my_list = [1, 2, 3]\n",
        "\n",
        "# Tuple\n",
        "my_tuple = (1, 2, 3)"
      ],
      "metadata": {
        "id": "O7bRQN45nfic"
      },
      "execution_count": null,
      "outputs": []
    },
    {
      "cell_type": "code",
      "source": [
        "# List of tasks\n",
        "tasks = ['task1', 'task2', 'task3']\n",
        "tasks.append('task4')  # Adding a new task\n",
        "print(tasks)\n",
        "\n",
        "# Tuple of coordinates\n",
        "coordinates = (10.0, 20.0)  # Immutable\n",
        "print(coordinates)"
      ],
      "metadata": {
        "colab": {
          "base_uri": "https://localhost:8080/"
        },
        "id": "bpMkJhPYnlA9",
        "outputId": "02b1c7d5-318e-4fec-af49-c6f6ed8f288f"
      },
      "execution_count": null,
      "outputs": [
        {
          "output_type": "stream",
          "name": "stdout",
          "text": [
            "['task1', 'task2', 'task3', 'task4']\n",
            "(10.0, 20.0)\n"
          ]
        }
      ]
    },
    {
      "cell_type": "markdown",
      "source": [
        "5.Describe the key features of sets and provide examples of their use.\n",
        "-Set are unordered and unique collection of elements.\n",
        "-Sets does not allow duplicate elements.\n",
        "-Indexing will not work.\n",
        "-Sets are mutable.\n",
        "-Sets are unhasable type."
      ],
      "metadata": {
        "id": "QuoFyfv-m_oZ"
      }
    },
    {
      "cell_type": "code",
      "source": [
        "s={1,1,2,2,3,3,3,4,4,4,5,5,7,7,\"UMA\",\"UMA\",\"UMA\",\"uma\",\"uma\"}\n",
        "s"
      ],
      "metadata": {
        "colab": {
          "base_uri": "https://localhost:8080/"
        },
        "id": "K9k6RHpsn3Er",
        "outputId": "85afbfe4-3559-4ec3-fea9-f17d7501268b"
      },
      "execution_count": null,
      "outputs": [
        {
          "output_type": "execute_result",
          "data": {
            "text/plain": [
              "{1, 2, 3, 4, 5, 7, 'UMA', 'uma'}"
            ]
          },
          "metadata": {},
          "execution_count": 21
        }
      ]
    },
    {
      "cell_type": "code",
      "source": [
        "s.add(258)\n",
        "s"
      ],
      "metadata": {
        "colab": {
          "base_uri": "https://localhost:8080/"
        },
        "id": "T9MdW4cAoft0",
        "outputId": "ecbc1a7d-d2f6-4cb4-e777-b952a67bc711"
      },
      "execution_count": null,
      "outputs": [
        {
          "output_type": "execute_result",
          "data": {
            "text/plain": [
              "{1, 2, 258, 3, 4, 5, 7, 'UMA', 'uma'}"
            ]
          },
          "metadata": {},
          "execution_count": 23
        }
      ]
    },
    {
      "cell_type": "code",
      "source": [
        "s.remove(3)\n",
        "s"
      ],
      "metadata": {
        "colab": {
          "base_uri": "https://localhost:8080/"
        },
        "id": "GJvjLaZhop7P",
        "outputId": "1793e9c2-a3fb-4193-a683-1c9946417783"
      },
      "execution_count": null,
      "outputs": [
        {
          "output_type": "execute_result",
          "data": {
            "text/plain": [
              "{1, 2, 258, 4, 5, 7, 'UMA', 'uma'}"
            ]
          },
          "metadata": {},
          "execution_count": 24
        }
      ]
    },
    {
      "cell_type": "code",
      "source": [
        "s.clear()\n",
        "s"
      ],
      "metadata": {
        "colab": {
          "base_uri": "https://localhost:8080/"
        },
        "id": "hwfonVMFoxFX",
        "outputId": "4227b4e8-403f-4f0b-9839-79b8f56b6850"
      },
      "execution_count": null,
      "outputs": [
        {
          "output_type": "execute_result",
          "data": {
            "text/plain": [
              "set()"
            ]
          },
          "metadata": {},
          "execution_count": 25
        }
      ]
    },
    {
      "cell_type": "code",
      "source": [
        "s1={\"hiking\",\"reading\",\"coding\"}\n",
        "s2={\"coding\",\"photography\",\"travelling\"}\n",
        "s1|s2\n"
      ],
      "metadata": {
        "colab": {
          "base_uri": "https://localhost:8080/"
        },
        "id": "djt8bwcAo89-",
        "outputId": "83483926-8861-4c2b-8c95-a9223ee9b0d5"
      },
      "execution_count": null,
      "outputs": [
        {
          "output_type": "execute_result",
          "data": {
            "text/plain": [
              "{'coding', 'hiking', 'photography', 'reading', 'travelling'}"
            ]
          },
          "metadata": {},
          "execution_count": 27
        }
      ]
    },
    {
      "cell_type": "code",
      "source": [
        "s1^s2"
      ],
      "metadata": {
        "colab": {
          "base_uri": "https://localhost:8080/"
        },
        "id": "53VD4AN3pfe6",
        "outputId": "456ddd2d-00b6-480d-b46d-400bb5a6d7ea"
      },
      "execution_count": null,
      "outputs": [
        {
          "output_type": "execute_result",
          "data": {
            "text/plain": [
              "{'hiking', 'photography', 'reading', 'travelling'}"
            ]
          },
          "metadata": {},
          "execution_count": 28
        }
      ]
    },
    {
      "cell_type": "code",
      "source": [
        "s1-s2"
      ],
      "metadata": {
        "colab": {
          "base_uri": "https://localhost:8080/"
        },
        "id": "l-mKWDvtppQQ",
        "outputId": "0bd514a2-c4e8-416b-b616-01b665c26a72"
      },
      "execution_count": null,
      "outputs": [
        {
          "output_type": "execute_result",
          "data": {
            "text/plain": [
              "{'hiking', 'reading'}"
            ]
          },
          "metadata": {},
          "execution_count": 29
        }
      ]
    },
    {
      "cell_type": "code",
      "source": [
        "s1&s2"
      ],
      "metadata": {
        "colab": {
          "base_uri": "https://localhost:8080/"
        },
        "id": "xLBY96zRpt2B",
        "outputId": "c9851a61-fdab-47ed-9c96-fc2b566ede2a"
      },
      "execution_count": null,
      "outputs": [
        {
          "output_type": "execute_result",
          "data": {
            "text/plain": [
              "{'coding'}"
            ]
          },
          "metadata": {},
          "execution_count": 30
        }
      ]
    },
    {
      "cell_type": "markdown",
      "source": [
        "6.Discuss the use cases of tuples and sets in Python programming.\n",
        "\n",
        "\n",
        "*  Tuples are ordered collection of elements and heterogeneous\n",
        "* Tuples are immutable\n",
        "* Set art on adult and unique collection of elements\n",
        "* Set doesnt allow duplicate elements\n"
      ],
      "metadata": {
        "id": "obzbd4sfp0Ds"
      }
    },
    {
      "cell_type": "code",
      "source": [
        "t=(\"pw\",\"uma\",1,2,2.3,True,3+5j)\n",
        "t"
      ],
      "metadata": {
        "colab": {
          "base_uri": "https://localhost:8080/"
        },
        "id": "DJnB0wOTqmyx",
        "outputId": "84449651-1d3c-4587-d1ce-68d00099eb51"
      },
      "execution_count": null,
      "outputs": [
        {
          "output_type": "execute_result",
          "data": {
            "text/plain": [
              "('pw', 'uma', 1, 2, 2.3, True, (3+5j))"
            ]
          },
          "metadata": {},
          "execution_count": 32
        }
      ]
    },
    {
      "cell_type": "code",
      "source": [
        "t.count(2)"
      ],
      "metadata": {
        "colab": {
          "base_uri": "https://localhost:8080/"
        },
        "id": "EujabVyTrFlH",
        "outputId": "a700f4da-0af8-4743-f22a-b69956081779"
      },
      "execution_count": null,
      "outputs": [
        {
          "output_type": "execute_result",
          "data": {
            "text/plain": [
              "1"
            ]
          },
          "metadata": {},
          "execution_count": 33
        }
      ]
    },
    {
      "cell_type": "code",
      "source": [
        "t.index(2)\n"
      ],
      "metadata": {
        "colab": {
          "base_uri": "https://localhost:8080/"
        },
        "id": "DQVWOHrPrLVI",
        "outputId": "10c0c007-30cb-483e-8384-025629d48873"
      },
      "execution_count": null,
      "outputs": [
        {
          "output_type": "execute_result",
          "data": {
            "text/plain": [
              "3"
            ]
          },
          "metadata": {},
          "execution_count": 34
        }
      ]
    },
    {
      "cell_type": "code",
      "source": [
        "print(t*2)"
      ],
      "metadata": {
        "colab": {
          "base_uri": "https://localhost:8080/"
        },
        "id": "YuBBi8Q5rRdH",
        "outputId": "99f45b5d-ac7d-49b6-f35f-f685f7e3f2a3"
      },
      "execution_count": null,
      "outputs": [
        {
          "output_type": "stream",
          "name": "stdout",
          "text": [
            "('pw', 'uma', 1, 2, 2.3, True, (3+5j), 'pw', 'uma', 1, 2, 2.3, True, (3+5j))\n"
          ]
        }
      ]
    },
    {
      "cell_type": "code",
      "source": [
        "t1=(1,2,3,4,46,50,123,1264)\n",
        "min(t1)"
      ],
      "metadata": {
        "colab": {
          "base_uri": "https://localhost:8080/"
        },
        "id": "xOfVQzs2rZea",
        "outputId": "25d7f6b2-2821-4de2-8948-b1ea04055029"
      },
      "execution_count": null,
      "outputs": [
        {
          "output_type": "execute_result",
          "data": {
            "text/plain": [
              "1"
            ]
          },
          "metadata": {},
          "execution_count": 36
        }
      ]
    },
    {
      "cell_type": "code",
      "source": [
        "max(t1)"
      ],
      "metadata": {
        "colab": {
          "base_uri": "https://localhost:8080/"
        },
        "id": "Dx2uzA4vrnhc",
        "outputId": "7bd1c652-a6b0-4fd3-c288-30f42358abad"
      },
      "execution_count": null,
      "outputs": [
        {
          "output_type": "execute_result",
          "data": {
            "text/plain": [
              "1264"
            ]
          },
          "metadata": {},
          "execution_count": 37
        }
      ]
    },
    {
      "cell_type": "code",
      "source": [
        "t[::-1]"
      ],
      "metadata": {
        "colab": {
          "base_uri": "https://localhost:8080/"
        },
        "id": "PiSqxdS-ruCk",
        "outputId": "d00233fd-a972-4d51-921f-f1546b2032ad"
      },
      "execution_count": null,
      "outputs": [
        {
          "output_type": "execute_result",
          "data": {
            "text/plain": [
              "((3+5j), True, 2.3, 2, 1, 'uma', 'pw')"
            ]
          },
          "metadata": {},
          "execution_count": 38
        }
      ]
    },
    {
      "cell_type": "code",
      "source": [
        "s={1,1,2,2,3,3,3,4,4,4,5,5,7,7,\"UMA\",\"UMA\",\"UMA\",\"uma\",\"uma\"}\n",
        "s"
      ],
      "metadata": {
        "colab": {
          "base_uri": "https://localhost:8080/"
        },
        "id": "2DiTFA4Iryfh",
        "outputId": "9e310e19-6a1e-4fcc-d924-938a6f17f014"
      },
      "execution_count": null,
      "outputs": [
        {
          "output_type": "execute_result",
          "data": {
            "text/plain": [
              "{1, 2, 3, 4, 5, 7, 'UMA', 'uma'}"
            ]
          },
          "metadata": {},
          "execution_count": 3
        }
      ]
    },
    {
      "cell_type": "code",
      "source": [
        "if 3 in s:\n",
        "    s.remove(3)\n",
        "    print(s)\n",
        "    s.add(3)\n",
        "    print(s)\n",
        "\n"
      ],
      "metadata": {
        "colab": {
          "base_uri": "https://localhost:8080/"
        },
        "id": "yAOp3eSosJTI",
        "outputId": "a2eae3f9-3695-4fa9-ac9b-a5eaa84f30ed"
      },
      "execution_count": null,
      "outputs": [
        {
          "output_type": "stream",
          "name": "stdout",
          "text": [
            "{1, 2, 4, 5, 'uma', 7, 'UMA'}\n",
            "{1, 2, 3, 4, 5, 'uma', 7, 'UMA'}\n"
          ]
        }
      ]
    },
    {
      "cell_type": "markdown",
      "source": [
        "7.Describe how to add, modify, and delete items in a dictionary with examples.\n",
        "a dictionary is a mutable, unordered collection of key-value pairs.\n",
        " we can easily add, modify, and delete items in a dictionary."
      ],
      "metadata": {
        "id": "9V4sZ5ABlgE1"
      }
    },
    {
      "cell_type": "code",
      "source": [
        "my_dict = {}\n",
        "\n",
        "# Add items\n",
        "my_dict['name'] = 'Alice'\n",
        "my_dict['age'] = 30\n",
        "print(my_dict)"
      ],
      "metadata": {
        "colab": {
          "base_uri": "https://localhost:8080/"
        },
        "id": "Gskr25JvlzZm",
        "outputId": "54814a3d-bad1-4acf-c22c-11092063cea7"
      },
      "execution_count": null,
      "outputs": [
        {
          "output_type": "stream",
          "name": "stdout",
          "text": [
            "{'name': 'Alice', 'age': 30}\n"
          ]
        }
      ]
    },
    {
      "cell_type": "code",
      "source": [
        "# Add multiple items\n",
        "my_dict.update({'city': 'New York', 'job': 'Engineer'})\n",
        "\n",
        "print(my_dict)"
      ],
      "metadata": {
        "colab": {
          "base_uri": "https://localhost:8080/"
        },
        "id": "50bfJlesmACV",
        "outputId": "fc1bb7fe-ef3b-42c5-d266-2daed1bbe47d"
      },
      "execution_count": null,
      "outputs": [
        {
          "output_type": "stream",
          "name": "stdout",
          "text": [
            "{'name': 'Alice', 'age': 30, 'city': 'New York', 'job': 'Engineer'}\n"
          ]
        }
      ]
    },
    {
      "cell_type": "code",
      "source": [
        "# Modify an existing item\n",
        "my_dict['age'] = 31\n",
        "\n",
        "print(my_dict)"
      ],
      "metadata": {
        "colab": {
          "base_uri": "https://localhost:8080/"
        },
        "id": "pIarh-u5mD5K",
        "outputId": "d0c826dd-aa2a-4cce-a5fd-2dd9b3e701a4"
      },
      "execution_count": null,
      "outputs": [
        {
          "output_type": "stream",
          "name": "stdout",
          "text": [
            "{'name': 'Alice', 'age': 31, 'city': 'New York', 'job': 'Engineer'}\n"
          ]
        }
      ]
    },
    {
      "cell_type": "code",
      "source": [
        "# Delete an item using del\n",
        "del my_dict['job']\n",
        "\n",
        "print(my_dict)"
      ],
      "metadata": {
        "colab": {
          "base_uri": "https://localhost:8080/"
        },
        "id": "laHdW3RymHdr",
        "outputId": "692256ca-22ef-4654-cd9a-841890d32eac"
      },
      "execution_count": null,
      "outputs": [
        {
          "output_type": "stream",
          "name": "stdout",
          "text": [
            "{'name': 'Alice', 'age': 31, 'city': 'New York'}\n"
          ]
        }
      ]
    },
    {
      "cell_type": "code",
      "source": [
        "# Delete an item using pop\n",
        "age = my_dict.pop('age')\n",
        "\n",
        "print(my_dict)\n",
        "print(age)"
      ],
      "metadata": {
        "colab": {
          "base_uri": "https://localhost:8080/"
        },
        "id": "quEdR3emmMYj",
        "outputId": "bb1bfbe3-6cf4-4487-c025-f5234b946386"
      },
      "execution_count": null,
      "outputs": [
        {
          "output_type": "stream",
          "name": "stdout",
          "text": [
            "{'name': 'Alice', 'city': 'New York'}\n",
            "31\n"
          ]
        }
      ]
    },
    {
      "cell_type": "markdown",
      "source": [
        "\n",
        " 8.Discuss the importance of dictionary keys being immutable and provide examples.\n",
        " -Dictionary keys must be immutable types. This means that the keys cannot be changed after they are created. The immutability of dictionary keys is essential for several reasons:\n",
        "\n",
        "1. Hashing and Performance\n",
        "Dictionaries in Python are implemented using hash tables. When a key is added to a dictionary, it is hashed to determine its position in the table. If keys were mutable, their hash values could change over time, leading to inconsistencies and errors when trying to access or modify dictionary entries."
      ],
      "metadata": {
        "id": "S-Ir9zHQmd__"
      }
    },
    {
      "cell_type": "code",
      "source": [
        "# Using a tuple (immutable) as a key\n",
        "my_dict = {(1, 2): 'Point A'}\n",
        "\n",
        "# Accessing the value\n",
        "print(my_dict[(1, 2)])"
      ],
      "metadata": {
        "colab": {
          "base_uri": "https://localhost:8080/"
        },
        "id": "Bh9JyJmImxiR",
        "outputId": "91677dec-8340-493f-ccf2-c7251d17be2f"
      },
      "execution_count": null,
      "outputs": [
        {
          "output_type": "stream",
          "name": "stdout",
          "text": [
            "Point A\n"
          ]
        }
      ]
    },
    {
      "cell_type": "code",
      "source": [
        "# Valid dictionary with immutable keys\n",
        "my_dict = {\n",
        "    'name': 'Alice',\n",
        "    42: 'The Answer',\n",
        "    (1, 2): 'Coordinates',\n",
        "    frozenset([1, 2, 3]): 'Immutable Set'\n",
        "}\n",
        "\n",
        "print(my_dict)"
      ],
      "metadata": {
        "colab": {
          "base_uri": "https://localhost:8080/"
        },
        "id": "6wxTg1V6m3t6",
        "outputId": "806c2a13-b1e7-4a54-ba1e-1ceadbf7d7dd"
      },
      "execution_count": null,
      "outputs": [
        {
          "output_type": "stream",
          "name": "stdout",
          "text": [
            "{'name': 'Alice', 42: 'The Answer', (1, 2): 'Coordinates', frozenset({1, 2, 3}): 'Immutable Set'}\n"
          ]
        }
      ]
    }
  ]
}