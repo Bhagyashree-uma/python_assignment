{
  "nbformat": 4,
  "nbformat_minor": 0,
  "metadata": {
    "colab": {
      "provenance": [],
      "toc_visible": true
    },
    "kernelspec": {
      "name": "python3",
      "display_name": "Python 3"
    },
    "language_info": {
      "name": "python"
    }
  },
  "cells": [
    {
      "cell_type": "markdown",
      "source": [
        "1. Explain the key features of Python that make it a popular choice for programming?\n",
        "-A programming language is a formal language for creating instructions for a computer to follow .\n",
        "The key features of python that make it a popular choice for programming are:-\n",
        ".Easy of learning:- Python syntax is designed to be easy to read and write which makes it a very user friendly for beginners. The use of indentation to define code block enhance readability and encourage clean coding practice\n",
        ". Flexible and multi approach:- Python support multiple programming including procedural, Upset oriented and functional programming. This flexibility allows developers to choose the style that best suits their project.\n",
        ". Vast collection of libraries and tools:- Python hacks a lot of libraries and frameworks that facilitates rapid development. Libraries like Numpy Pandas are popular data analysis.\n",
        ". Strong community support:- Python has a loss and active community of developers this means there are lots of resources and girls available that makes it easier to find help and share knowledge.\n",
        ". Education and research:- Button is widely used in academic for teaching programming data analysis and scientific computing.\n",
        "Python helps in robotics ,chat gpt and embedded devices.\n"
      ],
      "metadata": {
        "id": "4Fguy7IWyHFb"
      }
    },
    {
      "cell_type": "markdown",
      "source": [
        "2.Describe the role of predefined keywords in Python and provide examples of how they are used in a program?\n",
        "\n",
        "-Keywords are predefined words that holds a special meaning and have specific purpose.\n",
        "Keywords form the backbone of python syntax and are essential for writing functional and structured code.\n",
        "Control flow keywords:- This keyboards are used to control the flow of execution In a program\n",
        ".if- use for Conditional statement\n",
        ". elif- Used for additional conditions in an if statement\n",
        ".else- Used to define an alternative block of code if the if condition is false\n",
        ".for- iterate over a sequence of element.\n",
        ".while- repeatedly execute a block of code until a condition is made\n",
        ".break- Exist the loop. The condition is meat it will break loop\n",
        ". Continue- Skip the current iteration of a loop and continues with the next iteration.\n",
        ". return- Exist a function and optionally returns value\n",
        "Boolean and none keyward:-\n",
        ".true- Represents the Boolean value true\n",
        ".false- Represents the Boolean value false\n",
        ".none- Represents the absence of value or a null value\n"
      ],
      "metadata": {
        "id": "NkPufpzNyFhq"
      }
    },
    {
      "cell_type": "code",
      "source": [
        "a=10\n",
        "b=23\n",
        "if b>a:\n",
        "    print(\"a is greater than b\")\n",
        "elif a == b:\n",
        "    print (\"a is equal to b\")\n",
        "else:\n",
        "    print (\"b is greater than a\")\n",
        "\n",
        "\n"
      ],
      "metadata": {
        "colab": {
          "base_uri": "https://localhost:8080/"
        },
        "id": "nrFBn-YZqk4F",
        "outputId": "de553667-9a23-43bf-8505-c553ae8d4c14"
      },
      "execution_count": null,
      "outputs": [
        {
          "output_type": "stream",
          "name": "stdout",
          "text": [
            "a is greater than b\n"
          ]
        }
      ]
    },
    {
      "cell_type": "code",
      "source": [
        "season = [\"summer\", \"winter\", \"rainy\"]\n",
        "for x in season:\n",
        "  if x == \"winter\":\n",
        "    break\n",
        "  print(x)\n"
      ],
      "metadata": {
        "colab": {
          "base_uri": "https://localhost:8080/"
        },
        "id": "Rcu5C_SgrKBu",
        "outputId": "2a0c1726-58da-4b68-9747-b016ea24f27e"
      },
      "execution_count": null,
      "outputs": [
        {
          "output_type": "stream",
          "name": "stdout",
          "text": [
            "summer\n"
          ]
        }
      ]
    },
    {
      "cell_type": "code",
      "source": [
        "a = [\"1\", \"pw skills\", \"8\"]\n",
        "for x in a:\n",
        "  print(x)\n"
      ],
      "metadata": {
        "colab": {
          "base_uri": "https://localhost:8080/"
        },
        "id": "ufjFArHhsLtD",
        "outputId": "07dd6385-276e-49d8-8c4d-5bd051999ee5"
      },
      "execution_count": null,
      "outputs": [
        {
          "output_type": "stream",
          "name": "stdout",
          "text": [
            "1\n",
            "pw skills\n",
            "8\n"
          ]
        }
      ]
    },
    {
      "cell_type": "markdown",
      "source": [
        " 3.Compare and contrast mutable and immutable objects in Python with examples?\n",
        "-Objects Which state or value can be changed after they  are created are called as mutable.\n",
        "It is also called item assignment\n",
        "List is a mutable object.\n",
        "\n",
        "Objects Which state or value cannot be changed after they  are created are called as immutable.\n",
        "It doesnot support item assignment\n",
        "\n",
        "string is a mutable object.\n",
        "\n"
      ],
      "metadata": {
        "id": "mA7NsNxKsLa8"
      }
    },
    {
      "cell_type": "code",
      "source": [
        "list (range (0,10))\n"
      ],
      "metadata": {
        "colab": {
          "base_uri": "https://localhost:8080/"
        },
        "id": "_0nMqGMmsm5b",
        "outputId": "78fe966a-e147-4379-be5e-7ff3798ef2c4"
      },
      "execution_count": null,
      "outputs": [
        {
          "output_type": "execute_result",
          "data": {
            "text/plain": [
              "[0, 1, 2, 3, 4, 5, 6, 7, 8, 9]"
            ]
          },
          "metadata": {},
          "execution_count": 14
        }
      ]
    },
    {
      "cell_type": "code",
      "source": [
        "Name=input(\"please enter your name\")"
      ],
      "metadata": {
        "id": "morPa1PbzELM"
      },
      "execution_count": null,
      "outputs": []
    },
    {
      "cell_type": "markdown",
      "source": [
        "4. Discuss the different types of operators in Python and provide examples of how they are used?\n",
        "Operators:- Special keyword/ symbols that are used to perform operation on value or variables\n"
      ],
      "metadata": {
        "id": "mtcbrVpCzgJY"
      }
    },
    {
      "cell_type": "markdown",
      "source": [
        "1.\tArithmetic operator this operator are used to perform basic mathematical operations.\n",
        "+,-,*,/,%,**\n"
      ],
      "metadata": {
        "id": "3B4KVmxBzltM"
      }
    },
    {
      "cell_type": "code",
      "source": [
        "a=3\n",
        "b=4\n",
        "print(a+b)\n",
        "print(a-b)\n",
        "print(a*b)\n",
        "print(a/b)\n",
        "print(a//b)\n",
        "print(a%b)\n",
        "print(a**b)"
      ],
      "metadata": {
        "colab": {
          "base_uri": "https://localhost:8080/"
        },
        "id": "ITnmaxoitdWI",
        "outputId": "522ea4ec-6274-40ea-9cf4-420769042b22"
      },
      "execution_count": null,
      "outputs": [
        {
          "output_type": "stream",
          "name": "stdout",
          "text": [
            "7\n",
            "-1\n",
            "12\n",
            "0.75\n",
            "0\n",
            "3\n",
            "81\n"
          ]
        }
      ]
    },
    {
      "cell_type": "markdown",
      "source": [
        "2.\tComparison- this operator are used to compare two values and return a Boolean result\n",
        "==,!=,>,<,>=,<=\n"
      ],
      "metadata": {
        "id": "uDnA2Yvxztn4"
      }
    },
    {
      "cell_type": "code",
      "source": [
        "a = 5\n",
        "\n",
        "b = 2\n",
        "\n",
        "# equal to operator\n",
        "print('a == b =', a == b)\n",
        "\n",
        "# not equal to operator\n",
        "print('a != b =', a != b)\n",
        "\n",
        "# greater than operator\n",
        "print('a > b =', a > b)\n",
        "\n",
        "# less than operator\n",
        "print('a < b =', a < b)\n",
        "\n",
        "# greater than or equal to operator\n",
        "print('a >= b =', a >= b)\n",
        "\n",
        "# less than or equal to operator\n",
        "print('a <= b =', a <= b)\n",
        "\n"
      ],
      "metadata": {
        "colab": {
          "base_uri": "https://localhost:8080/"
        },
        "id": "JXF6fYV3uCiO",
        "outputId": "478da282-92be-407c-b4bc-e5e424177c87"
      },
      "execution_count": null,
      "outputs": [
        {
          "output_type": "stream",
          "name": "stdout",
          "text": [
            "a == b = False\n",
            "a != b = True\n",
            "a > b = True\n",
            "a < b = False\n",
            "a >= b = True\n",
            "a <= b = False\n"
          ]
        }
      ]
    },
    {
      "cell_type": "markdown",
      "source": [
        "3.\tLogical operator- These operator are used to combine conditional statements. Example-  and,or,not"
      ],
      "metadata": {
        "id": "yoB2Meep0Xo7"
      }
    },
    {
      "cell_type": "code",
      "source": [
        "X = True\n",
        "Y = False\n",
        "print(X and Y)\n"
      ],
      "metadata": {
        "colab": {
          "base_uri": "https://localhost:8080/"
        },
        "id": "inSsop4JuOmo",
        "outputId": "e513310e-a2db-44b1-bde7-05704244845e"
      },
      "execution_count": null,
      "outputs": [
        {
          "output_type": "stream",
          "name": "stdout",
          "text": [
            "False\n"
          ]
        }
      ]
    },
    {
      "cell_type": "markdown",
      "source": [
        "4.\tBitwise operator- These operators perform operation on binary representations of integers . Example- &,~,|,<<,>>"
      ],
      "metadata": {
        "id": "dnNRO1_T0jCL"
      }
    },
    {
      "cell_type": "markdown",
      "source": [
        "5.Assignment operator- This operator are used to assign value to the variable . Example- =,+=,-=,*=,/="
      ],
      "metadata": {
        "id": "pC0zQLPM0pEo"
      }
    },
    {
      "cell_type": "code",
      "source": [
        "C=6\n",
        "print(\"the value of c is\",C)"
      ],
      "metadata": {
        "colab": {
          "base_uri": "https://localhost:8080/"
        },
        "id": "2X34ZoStwHFi",
        "outputId": "f1e058a1-134c-4189-e2cc-9c621eb0a8f9"
      },
      "execution_count": null,
      "outputs": [
        {
          "output_type": "stream",
          "name": "stdout",
          "text": [
            "the value of c is 6\n"
          ]
        }
      ]
    },
    {
      "cell_type": "markdown",
      "source": [
        "6.\tMembership operator- This operator aims to taste for membership in sequence such as string, list. Example- in,not in"
      ],
      "metadata": {
        "id": "PT-jL4Xf0ux0"
      }
    },
    {
      "cell_type": "code",
      "source": [
        "my_list = [1,2,3,4,5,6]\n",
        "print(3 in my_list)"
      ],
      "metadata": {
        "colab": {
          "base_uri": "https://localhost:8080/"
        },
        "id": "ItHuF3-8wnTH",
        "outputId": "e15504ca-508e-4340-f28c-922413ab3d92"
      },
      "execution_count": null,
      "outputs": [
        {
          "output_type": "stream",
          "name": "stdout",
          "text": [
            "True\n"
          ]
        }
      ]
    },
    {
      "cell_type": "code",
      "source": [],
      "metadata": {
        "id": "ZKa7ECpz1Mj3"
      },
      "execution_count": null,
      "outputs": []
    },
    {
      "cell_type": "markdown",
      "source": [
        "7.\tIdentity operator- this operator used to check if two variables refers to the same object in memory. Example- is,is not"
      ],
      "metadata": {
        "id": "jHQshyur07Uw"
      }
    },
    {
      "cell_type": "markdown",
      "source": [
        " 5.Explain the concept of type casting in Python with examples?\n",
        "-Typecasting the process of changing the data type of value object.\n",
        " we need typecasting while executing /computation using operators there can be mismatch between object .\n",
        "\n",
        "2 Type of typecasting:-\n",
        "\n",
        "*   implicit type casting-Interpreter automatically changes variable's data type without user List item\n",
        "*   explicit type casting- Convert data type using inbuilt function like Str,int , Float BoolList item\n",
        "\n",
        "\n",
        "\n"
      ],
      "metadata": {
        "id": "SoFqB25x1Ua4"
      }
    },
    {
      "cell_type": "code",
      "source": [
        "#implicit\n",
        "a='2'\n",
        "b=3\n",
        "int(a)+b\n"
      ],
      "metadata": {
        "colab": {
          "base_uri": "https://localhost:8080/"
        },
        "id": "r9d7Lw12wuyg",
        "outputId": "91b4a0ee-98fb-4d53-9347-2b9e620e9b91"
      },
      "execution_count": null,
      "outputs": [
        {
          "output_type": "execute_result",
          "data": {
            "text/plain": [
              "5"
            ]
          },
          "metadata": {},
          "execution_count": 37
        }
      ]
    },
    {
      "cell_type": "code",
      "source": [
        "#explicit\n",
        "bool(-5)"
      ],
      "metadata": {
        "colab": {
          "base_uri": "https://localhost:8080/"
        },
        "id": "iOTtL_cAwzyD",
        "outputId": "491ab158-b738-4b5c-b435-e3832a51d698"
      },
      "execution_count": null,
      "outputs": [
        {
          "output_type": "execute_result",
          "data": {
            "text/plain": [
              "True"
            ]
          },
          "metadata": {},
          "execution_count": 39
        }
      ]
    },
    {
      "cell_type": "markdown",
      "source": [
        "6.How do conditional statements work in Python? Illustrate with examples?\n",
        "Conditional statements helps to code decision based on some precondition\n",
        "If statement\n",
        "If condition true:\n",
        "      Block of code will be excuted\n",
        "(indentation is necessary if it is not there it will throw an error)\n",
        "Types of conditional statement\n",
        "If ,if-else,if-elif-else\n"
      ],
      "metadata": {
        "id": "FT-13GHG3mjf"
      }
    },
    {
      "cell_type": "code",
      "source": [
        "weather=\"sunny\"\n",
        "if weather==\"rainy\":\n",
        "  print(\"I will play cricket\")\n",
        "else:\n",
        "  weather=\"sunny\"\n",
        "  if weather==\"rainy\":\n",
        "    print(\"I will play cricket\")\n",
        "  else:\n",
        "    print(\"I will watch tv\")"
      ],
      "metadata": {
        "colab": {
          "base_uri": "https://localhost:8080/"
        },
        "id": "kjQJTgyuxCAO",
        "outputId": "e2c7c7e0-b585-45d5-b846-0edd668b4246"
      },
      "execution_count": null,
      "outputs": [
        {
          "output_type": "stream",
          "name": "stdout",
          "text": [
            "I will watch tv\n"
          ]
        }
      ]
    },
    {
      "cell_type": "markdown",
      "source": [
        "7.Describe the different types of loops in Python and their use cases with examples?\n",
        "Loops:- it allows you to execute a block of code repeatedly\n",
        "Two types of loops:-\n",
        "While loop and for loop\n",
        "While loop:- repeatedly executed a block of code until a condition is met\n"
      ],
      "metadata": {
        "id": "k_P6aKSF32Rs"
      }
    },
    {
      "cell_type": "code",
      "source": [
        "n=7\n",
        "i=1\n",
        "while i<n\n",
        "print(i)\n",
        "i=i+1\n"
      ],
      "metadata": {
        "id": "k9VoRQFU361X"
      },
      "execution_count": null,
      "outputs": []
    },
    {
      "cell_type": "markdown",
      "source": [
        ".for loop-iterate over a sequence of elements"
      ],
      "metadata": {
        "id": "fVNH7r3w4IQr"
      }
    },
    {
      "cell_type": "code",
      "source": [
        "l=[1,2,\"ajay\",\"pwskills\"]\n",
        "for  i in l:\n",
        "    print(i)"
      ],
      "metadata": {
        "colab": {
          "base_uri": "https://localhost:8080/"
        },
        "id": "BwgYA03FxuC0",
        "outputId": "ac2b6ce6-83a4-40eb-e317-b26e55f893af"
      },
      "execution_count": null,
      "outputs": [
        {
          "output_type": "stream",
          "name": "stdout",
          "text": [
            "1\n",
            "2\n",
            "ajay\n",
            "pwskills\n"
          ]
        }
      ]
    }
  ]
}