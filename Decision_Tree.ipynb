{
  "nbformat": 4,
  "nbformat_minor": 0,
  "metadata": {
    "colab": {
      "provenance": []
    },
    "kernelspec": {
      "name": "python3",
      "display_name": "Python 3"
    },
    "language_info": {
      "name": "python"
    }
  },
  "cells": [
    {
      "cell_type": "markdown",
      "source": [
        "1. What is a Decision Tree, and how does it work?\n",
        "\n",
        "A Decision Tree is a supervised machine learning algorithm used for classification and regression tasks. It works by recursively splitting the data into subsets based on the value of input features, creating a tree-like structure. Each internal node represents a feature, each branch represents a decision rule, and each leaf node represents an outcome (class label or value). The tree is built by selecting the best feature to split the data at each node, aiming to maximize the separation of classes or minimize the prediction error.\n",
        "\n",
        "2. What are impurity measures in Decision Trees?\n",
        "\n",
        "Impurity measures are metrics used to evaluate the quality of a split in a Decision Tree. They quantify how mixed the classes are in a node. Common impurity measures include:\n",
        "\n",
        "Gini Impurity: Measures the probability of misclassifying a randomly chosen element.\n",
        "Entropy: Measures the amount of disorder or uncertainty in the data.\n",
        "Mean Squared Error (MSE): Used for regression tasks to measure the average squared difference between predicted and actual values.\n",
        "\n",
        "3. What is the mathematical formula for Gini Impurity?\n",
        "\n",
        "The Gini Impurity for a node is calculated as follows:\n",
        "\n",
        "[ Gini = 1 - \\sum_{i=1}^{C} p_i^2 ]\n",
        "\n",
        "Where:\n",
        "\n",
        "( C ) is the number of classes.\n",
        "( p_i ) is the proportion of instances of class ( i ) in the node.\n",
        "\n",
        "4. What is the mathematical formula for Entropy?\n",
        "\n",
        "The Entropy for a node is calculated using the formula:\n",
        "\n",
        "[ Entropy = -\\sum_{i=1}^{C} p_i \\log_2(p_i) ]\n",
        "\n",
        "Where:\n",
        "\n",
        "( C ) is the number of classes.\n",
        "( p_i ) is the proportion of instances of class ( i ) in the node.\n",
        "\n",
        "5. What is Information Gain, and how is it used in Decision Trees?\n",
        "\n",
        "Information Gain measures the reduction in entropy or impurity after a dataset is split on a feature. It is calculated as the difference between the entropy of the parent node and the weighted average entropy of the child nodes:\n",
        "\n",
        "[ Information\\ Gain = Entropy(parent) - \\sum_{j} \\left( \\frac{N_j}{N} \\times Entropy(child_j) \\right) ]\n",
        "\n",
        "Where:\n",
        "\n",
        "( N ) is the total number of instances in the parent node.\n",
        "( N_j ) is the number of instances in child node ( j ).\n",
        "In Decision Trees, features with the highest Information Gain are selected for splitting the nodes.\n",
        "\n",
        "6. What is the difference between Gini Impurity and Entropy?\n",
        "\n",
        "Gini Impurity is faster to compute and tends to create more balanced trees, while Entropy provides a more informative measure of impurity.\n",
        "Both measures can lead to similar results, but they may select different features for splitting in some cases. Gini Impurity is often preferred in practice due to its computational efficiency.\n",
        "\n",
        "7. What is the mathematical explanation behind Decision Trees?\n",
        "\n",
        "Decision Trees use a recursive partitioning approach to divide the dataset into subsets based on feature values. The algorithm evaluates each feature using impurity measures (like Gini or Entropy) to determine the best split at each node. The process continues until a stopping criterion is met, such as reaching a maximum depth, having a minimum number of samples in a node, or achieving a certain level of purity.\n",
        "\n",
        "8. What is Pre-Pruning in Decision Trees?\n",
        "\n",
        "Pre-Pruning (or early stopping) involves halting the growth of the tree before it reaches its full depth. This is done by setting conditions such as:\n",
        "\n",
        "Maximum depth of the tree.\n",
        "Minimum number of samples required to split a node.\n",
        "Minimum impurity decrease required to make a split.\n",
        "Pre-pruning helps prevent overfitting by limiting the complexity of the model.\n",
        "\n",
        "9. What is Post-Pruning in Decision Trees?\n",
        "\n",
        "Post-Pruning involves allowing the tree to grow fully and then removing nodes that do not provide significant predictive power. This is typically done by evaluating the performance of the tree on a validation set and removing branches that do not improve accuracy. Post-pruning can lead to a simpler model that generalizes better to unseen data.\n",
        "\n",
        "10. What is the difference between Pre-Pruning and Post-Pruning?\n",
        "\n",
        "Pre-Pruning stops the tree from growing too complex during the training phase, while Post-Pruning allows the tree to grow fully and then simplifies it afterward.\n",
        "Pre-pruning can be more efficient in terms of computation, while post-pruning often results in a more accurate model since it considers the entire dataset before making pruning decisions.\n",
        "\n",
        "11. What is a Decision Tree Regressor?\n",
        "\n",
        "A Decision Tree Regressor is a variant of Decision Trees used for regression tasks. Instead of predicting class labels, it predicts continuous values. The tree splits the data based on feature values to minimize the variance in the target variable within each leaf node. The prediction for a new instance is typically the average of the target values in the leaf node where the instance falls.\n",
        "\n",
        "12. What are the advantages and disadvantages of Decision Trees?\n",
        "Advantages:\n",
        "\n",
        "Easy to understand and interpret, as they mimic human decision-making.\n",
        "Require little data preprocessing (no need for feature scaling or normalization).\n",
        "Can handle both numerical and categorical data.\n",
        "Capable of modeling complex relationships.\n",
        "Disadvantages:\n",
        "\n",
        "Prone to overfitting, especially with deep trees.\n",
        "Sensitive to small changes in the data, which can lead to different tree structures.\n",
        "Can be biased towards features with more levels (in categorical variables).\n",
        "\n",
        "13. How does a Decision Tree handle missing values?\n",
        "\n",
        "Decision Trees can handle missing values in several ways:\n",
        "\n",
        "Surrogate Splits: When a feature is missing, the tree can use another feature to make a split.\n",
        "Imputation: Missing values can be filled in with the mean, median, or mode of the feature.\n",
        "Separate Branch: A separate branch can be created for instances with missing values, allowing the tree to continue functioning without losing data.\n",
        "\n",
        "14. How does a Decision Tree handle categorical features?\n",
        "\n",
        "Decision Trees can handle categorical features by creating branches for each category. When splitting on a categorical feature, the algorithm evaluates the best way to partition the data based on the categories present. This allows the tree to effectively model relationships involving categorical variables without requiring any special encoding.\n",
        "\n",
        "15. What are some real-world applications of Decision Trees?\n",
        "\n",
        "Decision Trees are widely used in various fields, including:\n",
        "\n",
        "Finance: Credit scoring and risk assessment.\n",
        "Healthcare: Diagnosing diseases based on patient data.\n",
        "Marketing: Customer segmentation and targeting.\n",
        "Manufacturing: Quality control and fault diagnosis.\n",
        "Retail: Predicting customer behavior and sales forecasting. ### 16. What is the role of Decision Trees in ensemble methods? Decision Trees serve as the foundational building blocks for several ensemble methods, such as Random Forests and Gradient Boosting. In these methods, multiple Decision Trees are combined to improve predictive performance and reduce overfitting. Each tree in an ensemble contributes to the final prediction, either through averaging (in regression) or majority voting (in classification), leading to more robust models."
      ],
      "metadata": {
        "id": "oP1cwafXJWln"
      }
    },
    {
      "cell_type": "markdown",
      "source": [
        "1. Train a Decision Tree Classifier on the Iris dataset and print the model accuracy"
      ],
      "metadata": {
        "id": "Ul_k2wsgKKTP"
      }
    },
    {
      "cell_type": "code",
      "source": [
        "import pandas as pd\n",
        "from sklearn.datasets import load_iris\n",
        "from sklearn.model_selection import train_test_split\n",
        "from sklearn.tree import DecisionTreeClassifier\n",
        "from sklearn.metrics import accuracy_score\n",
        "\n",
        "# Load the Iris dataset\n",
        "iris = load_iris()\n",
        "X = iris.data\n",
        "y = iris.target\n",
        "\n",
        "# Split the dataset\n",
        "X_train, X_test, y_train, y_test = train_test_split(X, y, test_size=0.2, random_state=42)\n",
        "\n",
        "# Train a Decision Tree Classifier\n",
        "model = DecisionTreeClassifier()\n",
        "model.fit(X_train, y_train)\n",
        "\n",
        "# Predict and calculate accuracy\n",
        "y_pred = model.predict(X_test)\n",
        "accuracy = accuracy_score(y_test, y_pred)\n",
        "print(f'Model Accuracy: {accuracy:.2f}')"
      ],
      "metadata": {
        "colab": {
          "base_uri": "https://localhost:8080/"
        },
        "id": "-8tTgS7bKK6V",
        "outputId": "eec5ea12-e207-4b87-b692-3bff67f0c0f9"
      },
      "execution_count": 1,
      "outputs": [
        {
          "output_type": "stream",
          "name": "stdout",
          "text": [
            "Model Accuracy: 1.00\n"
          ]
        }
      ]
    },
    {
      "cell_type": "markdown",
      "source": [
        "2. Train a Decision Tree Classifier using Gini Impurity as the criterion and print the feature importances"
      ],
      "metadata": {
        "id": "vBkKBWlKKVS-"
      }
    },
    {
      "cell_type": "code",
      "source": [
        "# Train a Decision Tree Classifier using Gini Impurity\n",
        "model_gini = DecisionTreeClassifier(criterion='gini')\n",
        "model_gini.fit(X_train, y_train)\n",
        "\n",
        "# Print feature importances\n",
        "feature_importances = model_gini.feature_importances_\n",
        "print(\"Feature Importances (Gini Impurity):\", feature_importances)"
      ],
      "metadata": {
        "colab": {
          "base_uri": "https://localhost:8080/"
        },
        "id": "Azyn76qjKYT8",
        "outputId": "c5a379c3-d4f5-4138-caea-21b1433e8770"
      },
      "execution_count": 2,
      "outputs": [
        {
          "output_type": "stream",
          "name": "stdout",
          "text": [
            "Feature Importances (Gini Impurity): [0.         0.01667014 0.90614339 0.07718647]\n"
          ]
        }
      ]
    },
    {
      "cell_type": "markdown",
      "source": [
        "3. Train a Decision Tree Classifier using Entropy as the splitting criterion and print the model accuracy\n"
      ],
      "metadata": {
        "id": "D5urDpq8KbV4"
      }
    },
    {
      "cell_type": "code",
      "source": [
        "# Train a Decision Tree Classifier using Entropy\n",
        "model_entropy = DecisionTreeClassifier(criterion='entropy')\n",
        "model_entropy.fit(X_train, y_train)\n",
        "\n",
        "# Predict and calculate accuracy\n",
        "y_pred_entropy = model_entropy.predict(X_test)\n",
        "accuracy_entropy = accuracy_score(y_test, y_pred_entropy)\n",
        "print(f'Model Accuracy (Entropy): {accuracy_entropy:.2f}')"
      ],
      "metadata": {
        "colab": {
          "base_uri": "https://localhost:8080/"
        },
        "id": "oQUUvJYcKcxC",
        "outputId": "46d09705-9db5-43b7-e4f6-7d235de7f9af"
      },
      "execution_count": 3,
      "outputs": [
        {
          "output_type": "stream",
          "name": "stdout",
          "text": [
            "Model Accuracy (Entropy): 1.00\n"
          ]
        }
      ]
    },
    {
      "cell_type": "markdown",
      "source": [
        "4. Train a Decision Tree Regressor on a housing dataset and evaluate using Mean Squared Error (MSE)"
      ],
      "metadata": {
        "id": "3s9Fkn9XKe-e"
      }
    },
    {
      "cell_type": "code",
      "source": [
        "from sklearn.tree import DecisionTreeRegressor\n",
        "from sklearn.metrics import mean_squared_error\n",
        "from sklearn.datasets import fetch_california_housing # Importing fetch_california_housing instead of load_boston\n",
        "import pandas as pd\n",
        "from sklearn.model_selection import train_test_split\n",
        "\n",
        "\n",
        "# Load the California housing dataset instead of the Boston housing dataset\n",
        "housing = fetch_california_housing()\n",
        "X_reg = housing.data\n",
        "y_reg = housing.target\n",
        "\n",
        "\n",
        "# Split the dataset\n",
        "X_train_reg, X_test_reg, y_train_reg, y_test_reg = train_test_split(X_reg, y_reg, test_size=0.2, random_state=42)\n",
        "\n",
        "# Train a Decision Tree Regressor\n",
        "regressor = DecisionTreeRegressor()\n",
        "regressor.fit(X_train_reg, y_train_reg)\n",
        "\n",
        "# Predict and calculate MSE\n",
        "y_pred_reg = regressor.predict(X_test_reg)\n",
        "mse = mean_squared_error(y_test_reg, y_pred_reg)\n",
        "print(f'Mean Squared Error: {mse:.2f}')"
      ],
      "metadata": {
        "colab": {
          "base_uri": "https://localhost:8080/"
        },
        "id": "GDJ7SuaIKqdd",
        "outputId": "991fd584-44c8-4ddf-d015-d6ddaa9fe5e9"
      },
      "execution_count": 5,
      "outputs": [
        {
          "output_type": "stream",
          "name": "stdout",
          "text": [
            "Mean Squared Error: 0.49\n"
          ]
        }
      ]
    },
    {
      "cell_type": "markdown",
      "source": [
        "6. Train a Decision Tree Classifier with a maximum depth of 3 and compare its accuracy with a fully grown tree\n",
        "python\n"
      ],
      "metadata": {
        "id": "XpC5M0yXKt21"
      }
    },
    {
      "cell_type": "code",
      "source": [
        "# Train a Decision Tree Classifier with max_depth=3\n",
        "model_depth_3 = DecisionTreeClassifier(max_depth=3)\n",
        "model_depth_3.fit(X_train, y_train)\n",
        "\n",
        "# Predict and calculate accuracy\n",
        "y_pred_depth_3 = model_depth_3.predict(X_test)\n",
        "accuracy_depth_3 = accuracy_score(y_test, y_pred_depth_3)\n",
        "\n",
        "# Compare with the fully grown tree\n",
        "accuracy_full_tree = accuracy_score(y_test, y_pred)\n",
        "\n",
        "print(f'Model Accuracy (Max Depth 3): {accuracy_depth_3:.2f}')\n",
        "print(f'Model Accuracy (Fully Grown Tree): {accuracy:.2f}')"
      ],
      "metadata": {
        "colab": {
          "base_uri": "https://localhost:8080/"
        },
        "id": "i1CB5kZNKvVJ",
        "outputId": "5852bb15-c437-40df-ffee-c87fd45c239b"
      },
      "execution_count": 6,
      "outputs": [
        {
          "output_type": "stream",
          "name": "stdout",
          "text": [
            "Model Accuracy (Max Depth 3): 1.00\n",
            "Model Accuracy (Fully Grown Tree): 1.00\n"
          ]
        }
      ]
    },
    {
      "cell_type": "markdown",
      "source": [
        "7. Train a Decision Tree Classifier using min_samples_split=5 and compare its accuracy with a default tree"
      ],
      "metadata": {
        "id": "QT5tyLo8KyF4"
      }
    },
    {
      "cell_type": "code",
      "source": [
        "# Train a Decision Tree Classifier with min_samples_split=5\n",
        "model_min_samples_split = DecisionTreeClassifier(min_samples_split=5)\n",
        "model_min_samples_split.fit(X_train, y_train)\n",
        "\n",
        "# Predict and calculate accuracy\n",
        "y_pred_min_samples_split = model_min_samples_split.predict(X_test)\n",
        "accuracy_min_samples_split = accuracy_score(y_test, y_pred_min_samples_split)\n",
        "\n",
        "# Compare with the default tree\n",
        "accuracy_default_tree = accuracy_score(y_test, y_pred)\n",
        "\n",
        "print(f'Model Accuracy (min_samples_split=5): {accuracy_min_samples_split:.2f}')\n",
        "print(f'Model Accuracy (Default Tree): {accuracy_default_tree:.2f}')\n",
        "y_pred_min_samples_split = model_min_samples_split.predict(X_test)\n",
        "accuracy_min_samples_split = accuracy_score(y_test, y_pred_min_samples_split)\n",
        "\n",
        "# Compare with the default tree\n",
        "accuracy_default_tree = accuracy_score(y_test, y_pred)\n",
        "\n",
        "print(f'Model Accuracy (min_samples_split=5): {accuracy_min_samples_split:.2f}')\n",
        "print(f'Model Accuracy (Default Tree): {accuracy:.2f}')"
      ],
      "metadata": {
        "colab": {
          "base_uri": "https://localhost:8080/"
        },
        "id": "zFdSIHnyKzfx",
        "outputId": "086437af-3291-4473-b0be-7215b2ba9865"
      },
      "execution_count": 8,
      "outputs": [
        {
          "output_type": "stream",
          "name": "stdout",
          "text": [
            "Model Accuracy (min_samples_split=5): 1.00\n",
            "Model Accuracy (Default Tree): 1.00\n",
            "Model Accuracy (min_samples_split=5): 1.00\n",
            "Model Accuracy (Default Tree): 1.00\n"
          ]
        }
      ]
    },
    {
      "cell_type": "markdown",
      "source": [
        "8. Apply feature scaling before training a Decision Tree Classifier and compare its accuracy with unscaled data"
      ],
      "metadata": {
        "id": "P4mX-DocLCVy"
      }
    },
    {
      "cell_type": "code",
      "source": [
        "from sklearn.preprocessing import StandardScaler\n",
        "\n",
        "# Scale the features\n",
        "scaler = StandardScaler()\n",
        "X_train_scaled = scaler.fit_transform(X_train)\n",
        "X_test_scaled = scaler.transform(X_test)\n",
        "\n",
        "# Train a Decision Tree Classifier on scaled data\n",
        "model_scaled = DecisionTreeClassifier()\n",
        "model_scaled.fit(X_train_scaled, y_train)\n",
        "\n",
        "# Predict and calculate accuracy\n",
        "y_pred_scaled = model_scaled.predict(X_test_scaled)\n",
        "accuracy_scaled = accuracy_score(y_test, y_pred_scaled)\n",
        "\n",
        "print(f'Model Accuracy (Scaled Data): {accuracy_scaled:.2f}')\n",
        "print(f'Model Accuracy (Unscaled Data): {accuracy:.2f}')"
      ],
      "metadata": {
        "colab": {
          "base_uri": "https://localhost:8080/"
        },
        "id": "elTen_rJLDyf",
        "outputId": "36f116d9-6e16-4f9c-c6ee-57df4fe92bdb"
      },
      "execution_count": 9,
      "outputs": [
        {
          "output_type": "stream",
          "name": "stdout",
          "text": [
            "Model Accuracy (Scaled Data): 1.00\n",
            "Model Accuracy (Unscaled Data): 1.00\n"
          ]
        }
      ]
    },
    {
      "cell_type": "markdown",
      "source": [
        "9. Train a Decision Tree Classifier using One-vs-Rest (OvR) strategy for multiclass classification"
      ],
      "metadata": {
        "id": "V-LCx62tLGpw"
      }
    },
    {
      "cell_type": "code",
      "source": [
        "from sklearn.multiclass import OneVsRestClassifier\n",
        "\n",
        "# Train a Decision Tree Classifier using One-vs-Rest strategy\n",
        "ovr_model = OneVsRestClassifier(DecisionTreeClassifier())\n",
        "ovr_model.fit(X_train, y_train)\n",
        "\n",
        "# Predict and calculate accuracy\n",
        "y_pred_ovr = ovr_model.predict(X_test)\n",
        "accuracy_ovr = accuracy_score(y_test, y_pred_ovr)\n",
        "\n",
        "print(f'Model Accuracy (One-vs-Rest): {accuracy_ovr:.2f}')"
      ],
      "metadata": {
        "colab": {
          "base_uri": "https://localhost:8080/"
        },
        "id": "0esXRAJzLIAo",
        "outputId": "8e3b2d66-e518-47b8-acd3-ad4d644087a0"
      },
      "execution_count": 10,
      "outputs": [
        {
          "output_type": "stream",
          "name": "stdout",
          "text": [
            "Model Accuracy (One-vs-Rest): 1.00\n"
          ]
        }
      ]
    },
    {
      "cell_type": "markdown",
      "source": [
        "10. Train a Decision Tree Classifier and display the feature importance scores"
      ],
      "metadata": {
        "id": "8wH7hVIrLLPe"
      }
    },
    {
      "cell_type": "code",
      "source": [
        "# Train a Decision Tree Classifier\n",
        "model_importance = DecisionTreeClassifier()\n",
        "model_importance.fit(X_train, y_train)\n",
        "\n",
        "# Display feature importance scores\n",
        "importance_scores = model_importance.feature_importances_\n",
        "for i, score in enumerate(importance_scores):\n",
        "    print(f'Feature {iris.feature_names[i]}: {score:.4f}')"
      ],
      "metadata": {
        "colab": {
          "base_uri": "https://localhost:8080/"
        },
        "id": "0wWSlKFKLMyc",
        "outputId": "17384d0b-cc57-4197-fb3a-1bd0d35705d0"
      },
      "execution_count": 11,
      "outputs": [
        {
          "output_type": "stream",
          "name": "stdout",
          "text": [
            "Feature sepal length (cm): 0.0167\n",
            "Feature sepal width (cm): 0.0000\n",
            "Feature petal length (cm): 0.4059\n",
            "Feature petal width (cm): 0.5774\n"
          ]
        }
      ]
    },
    {
      "cell_type": "markdown",
      "source": [
        "11. Train a Decision Tree Regressor with max_depth=5 and compare its performance with an unrestricted tree\n",
        "python\n"
      ],
      "metadata": {
        "id": "nrHuj5CELP15"
      }
    },
    {
      "cell_type": "code",
      "source": [
        "# Train a Decision Tree Regressor with max_depth=5\n",
        "regressor_depth_5 = DecisionTreeRegressor(max_depth=5)\n",
        "regressor_depth_5.fit(X_train_reg, y_train_reg)\n",
        "\n",
        "# Predict and calculate MSE for the restricted tree\n",
        "y_pred_depth_5 = regressor_depth_5.predict(X_test_reg)\n",
        "mse_depth_5 = mean_squared_error(y_test_reg, y_pred_depth_5)\n",
        "\n",
        "# Predict and calculate MSE for the unrestricted tree\n",
        "y_pred_unrestricted = regressor.predict(X_test_reg)\n",
        "mse_unrestricted = mean_squared_error(y_test_reg, y_pred_unrestricted)\n",
        "\n",
        "print(f'Mean Squared Error (max_depth=5): {mse_depth_5:.2f}')\n",
        "print(f'Mean Squared Error (Unrestricted Tree): {mse_unrestricted:.2f}')"
      ],
      "metadata": {
        "colab": {
          "base_uri": "https://localhost:8080/"
        },
        "id": "mQtaE_4oLRGi",
        "outputId": "f4137675-a0a8-4db4-cd68-e8393dc08cfa"
      },
      "execution_count": 12,
      "outputs": [
        {
          "output_type": "stream",
          "name": "stdout",
          "text": [
            "Mean Squared Error (max_depth=5): 0.52\n",
            "Mean Squared Error (Unrestricted Tree): 0.49\n"
          ]
        }
      ]
    },
    {
      "cell_type": "markdown",
      "source": [
        "12. Train a Decision Tree Classifier, apply Cost Complexity Pruning (CCP), and visualize its effect on accuracy"
      ],
      "metadata": {
        "id": "aKrFDE9qLTue"
      }
    },
    {
      "cell_type": "code",
      "source": [
        "# Train a Decision Tree Classifier\n",
        "model_ccp = DecisionTreeClassifier()\n",
        "model_ccp.fit(X_train, y_train)\n",
        "\n",
        "# Apply Cost Complexity Pruning\n",
        "path = model_ccp.cost_complexity_pruning_path(X_train, y_train)\n",
        "ccp_alphas, impurities = path.ccp_alphas, path.impurities\n",
        "\n",
        "# Train pruned trees and evaluate accuracy\n",
        "accuracies = []\n",
        "for ccp_alpha in ccp_alphas:\n",
        "    pruned_tree = DecisionTreeClassifier(ccp_alpha=ccp_alpha)\n",
        "    pruned_tree.fit(X_train, y_train)\n",
        "    y_pred_pruned = pruned_tree.predict(X_test)\n",
        "    accuracies.append(accuracy_score(y_test, y_pred_pruned))\n",
        "\n",
        "# Visualize the effect of pruning on accuracy\n",
        "import matplotlib.pyplot as plt\n",
        "\n",
        "plt.plot(ccp_alphas, accuracies, marker='o')\n",
        "plt.xlabel('CCP Alpha')\n",
        "plt.ylabel('Accuracy')\n",
        "plt.title('Effect of Cost Complexity Pruning on Accuracy')\n",
        "plt.show()"
      ],
      "metadata": {
        "colab": {
          "base_uri": "https://localhost:8080/",
          "height": 472
        },
        "id": "ziTHeYhRLU4W",
        "outputId": "1d13e361-0393-48f7-c644-6c926d73c86c"
      },
      "execution_count": 13,
      "outputs": [
        {
          "output_type": "display_data",
          "data": {
            "text/plain": [
              "<Figure size 640x480 with 1 Axes>"
            ],
            "image/png": "[encoded data removed]"
          },
          "metadata": {}
        }
      ]
    },
    {
      "cell_type": "markdown",
      "source": [
        "13. Train a Decision Tree Classifier and evaluate its performance using Precision, Recall, and F1-Score"
      ],
      "metadata": {
        "id": "n8V4g5zXLXhQ"
      }
    },
    {
      "cell_type": "code",
      "source": [
        "from sklearn.metrics import precision_score, recall_score, f1_score\n",
        "\n",
        "# Train a Decision Tree Classifier\n",
        "model_metrics = DecisionTreeClassifier()\n",
        "model_metrics.fit(X_train, y_train)\n",
        "\n",
        "# Predict\n",
        "y_pred_metrics = model_metrics.predict(X_test)\n",
        "\n",
        "# Calculate Precision, Recall, and F1-Score\n",
        "precision = precision_score(y_test, y_pred_metrics, average='weighted')\n",
        "recall = recall_score(y_test, y_pred_metrics, average='weighted')\n",
        "f1 = f1_score(y_test, y_pred_metrics, average='weighted')\n",
        "\n",
        "print(f'Precision: {precision:.2f}')\n",
        "print(f'Recall: {recall:.2f}')\n",
        "print(f'F1-Score: {f1:.2f}')"
      ],
      "metadata": {
        "colab": {
          "base_uri": "https://localhost:8080/"
        },
        "id": "cQ3XYAnXLYsb",
        "outputId": "159c913e-8b6d-4b28-8447-4c9c6d397a01"
      },
      "execution_count": 14,
      "outputs": [
        {
          "output_type": "stream",
          "name": "stdout",
          "text": [
            "Precision: 1.00\n",
            "Recall: 1.00\n",
            "F1-Score: 1.00\n"
          ]
        }
      ]
    },
    {
      "cell_type": "markdown",
      "source": [
        "14. Train a Decision Tree Classifier and visualize the confusion matrix using seaborn\n",
        "python"
      ],
      "metadata": {
        "id": "k1uEZcozLddF"
      }
    },
    {
      "cell_type": "code",
      "source": [
        "from sklearn.metrics import confusion_matrix\n",
        "import seaborn as sns\n",
        "\n",
        "# Train a Decision Tree Classifier\n",
        "model_confusion = DecisionTreeClassifier()\n",
        "model_confusion.fit(X_train, y_train)\n",
        "\n",
        "# Predict\n",
        "y_pred_confusion = model_confusion.predict(X_test)\n",
        "\n",
        "# Create confusion matrix\n",
        "cm = confusion_matrix(y_test, y_pred_confusion)\n",
        "\n",
        "# Visualize confusion matrix\n",
        "plt.figure(figsize=(8, 6))\n",
        "sns.heatmap(cm, annot=True, fmt='d', cmap='Blues', xticklabels=iris.target_names, yticklabels=iris.target_names)\n",
        "plt.ylabel('Actual')\n",
        "plt.xlabel('Predicted')\n",
        "plt.title('Confusion Matrix')\n",
        "plt.show()"
      ],
      "metadata": {
        "colab": {
          "base_uri": "https://localhost:8080/",
          "height": 564
        },
        "id": "6DGGta3nLdBq",
        "outputId": "0052dc66-9616-49af-a0a3-44183e0cb71e"
      },
      "execution_count": 15,
      "outputs": [
        {
          "output_type": "display_data",
          "data": {
            "text/plain": [
              "<Figure size 800x600 with 2 Axes>"
            ],
            "image/png": "[encoded data removed]"
          },
          "metadata": {}
        }
      ]
    },
    {
      "cell_type": "markdown",
      "source": [
        "15. Train a Decision Tree Classifier and use GridSearchCV to find the optimal values for max_depth and min_samples_split"
      ],
      "metadata": {
        "id": "W_exmsKZLiCe"
      }
    },
    {
      "cell_type": "code",
      "source": [
        "from sklearn.model_selection import GridSearchCV\n",
        "\n",
        "# Define the parameter grid\n",
        "param_grid = {\n",
        "    'max_depth': [None, 2, 3, 4, 5, 6, 7, 8, 9, 10],\n",
        "    'min_samples_split': [2, 3, 4, 5, 6]\n",
        "}\n",
        "\n",
        "# Create a Decision Tree Classifier\n",
        "model_grid = DecisionTreeClassifier()\n",
        "\n",
        "# Perform Grid Search\n",
        "grid_search = GridSearchCV(model_grid, param_grid, cv=5)\n",
        "grid_search.fit(X_train, y_train)\n",
        "\n",
        "# Print the best parameters and best score\n",
        "print(f'Best Parameters: {grid_search.best_params_}')\n",
        "print(f'Best Cross-Validation Score: {grid_search.best_score_:.2f}')"
      ],
      "metadata": {
        "colab": {
          "base_uri": "https://localhost:8080/"
        },
        "id": "6gx5RQySLjOH",
        "outputId": "6389fd7c-7a2d-415d-eefd-73226f5a64ed"
      },
      "execution_count": 16,
      "outputs": [
        {
          "output_type": "stream",
          "name": "stdout",
          "text": [
            "Best Parameters: {'max_depth': None, 'min_samples_split': 2}\n",
            "Best Cross-Validation Score: 0.95\n"
          ]
        }
      ]
    }
  ]
}