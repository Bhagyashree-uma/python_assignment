{
  "nbformat": 4,
  "nbformat_minor": 0,
  "metadata": {
    "colab": {
      "provenance": []
    },
    "kernelspec": {
      "name": "python3",
      "display_name": "Python 3"
    },
    "language_info": {
      "name": "python"
    }
  },
  "cells": [
    {
      "cell_type": "code",
      "execution_count": null,
      "metadata": {
        "id": "9fF7BrkJOq3n"
      },
      "outputs": [],
      "source": [
        "What are the five key concepts of Object-Oriented Programming (OOP)?"
      ]
    },
    {
      "cell_type": "markdown",
      "source": [
        "The five key concepts of Object-Oriented Programming (OOP) are:\n",
        "\n",
        "Encapsulation: This principle involves bundling the data (attributes) and methods (functions) that operate on the data into a single unit known as an object. Encapsulation helps to restrict direct access to some of an object's components, which can prevent the accidental modification of data. It promotes modularity and helps in maintaining the integrity of the data.\n",
        "\n",
        "Abstraction: Abstraction is the concept of hiding the complex reality while exposing only the necessary parts. It allows programmers to focus on interactions at a higher level without needing to understand all the details of the implementation. Abstraction can be achieved through abstract classes and interfaces.\n",
        "\n",
        "Inheritance: Inheritance is a mechanism that allows one class (the subclass or derived class) to inherit the properties and behaviors (methods) of another class (the superclass or base class). This promotes code reusability and establishes a hierarchical relationship between classes, allowing for the creation of more specific classes based on general ones.\n",
        "\n",
        "Polymorphism: Polymorphism allows objects of different classes to be treated as objects of a common superclass. It enables a single interface to represent different underlying forms (data types). The two types of polymorphism are compile-time (or static) polymorphism, achieved through method overloading, and runtime (or dynamic) polymorphism, achieved through method overriding.\n",
        "\n",
        "Composition: Composition is a design principle that models a \"has-a\" relationship. It involves building complex types by combining objects of other types. This allows for more flexible and maintainable code, as the composed objects can be reused in different contexts without inheritance."
      ],
      "metadata": {
        "id": "lNiPNUtfO-H4"
      }
    },
    {
      "cell_type": "markdown",
      "source": [
        " Write a Python class for a `Car` with attributes for `make`, `model`, and `year`. Include a method to display\n",
        "the car's information."
      ],
      "metadata": {
        "id": "vux0qyajPOIb"
      }
    },
    {
      "cell_type": "code",
      "source": [],
      "metadata": {
        "id": "0Mm1ZXzlPO4K"
      },
      "execution_count": null,
      "outputs": []
    },
    {
      "cell_type": "code",
      "source": [
        "class Car:\n",
        "    def __init__(self, make, model, year):\n",
        "        \"\"\"Initialize the attributes of the Car class.\"\"\"\n",
        "        self.make = make\n",
        "        self.model = model\n",
        "        self.year = year\n",
        "\n",
        "    def display_info(self):\n",
        "        \"\"\"Display the car's information.\"\"\"\n",
        "        print(f\"Car Information: {self.year} {self.make} {self.model}\")\n",
        "\n",
        "# Example usage:\n",
        "if __name__ == \"__main__\":\n",
        "    my_car = Car(\"Toyota\", \"Camry\", 2022)\n",
        "    my_car.display_info()"
      ],
      "metadata": {
        "colab": {
          "base_uri": "https://localhost:8080/"
        },
        "id": "LqJdn3nWPQpg",
        "outputId": "251b8fca-f955-4d08-93bf-fbdc466bb3f5"
      },
      "execution_count": 1,
      "outputs": [
        {
          "output_type": "stream",
          "name": "stdout",
          "text": [
            "Car Information: 2022 Toyota Camry\n"
          ]
        }
      ]
    },
    {
      "cell_type": "markdown",
      "source": [
        "__init__ Method: This is the constructor method that initializes the attributes make, model, and year when a new Car object is created.\n",
        "display_info Method: This method prints out the car's information in a formatted string.\n",
        "Example Usage: An example at the bottom creates an instance of the Car class and calls the display_info method to display the car's details."
      ],
      "metadata": {
        "id": "pPayp-IWPsPL"
      }
    },
    {
      "cell_type": "markdown",
      "source": [
        " Explain the difference between instance methods and class methods. Provide an example of each.\n",
        "\n",
        "\n"
      ],
      "metadata": {
        "id": "vcZLXmmTPw33"
      }
    },
    {
      "cell_type": "markdown",
      "source": [
        "Instance Methods\n",
        "Definition: Instance methods are functions that operate on an instance of a class. They can access and modify the instance's attributes and are defined with at least one parameter, usually named self, which refers to the instance itself.\n",
        "Access: They can access instance variables (attributes) and other instance methods.\n",
        "Usage: Used when you need to perform operations that are specific to a particular instance of the class."
      ],
      "metadata": {
        "id": "7cTfQI9KP9rN"
      }
    },
    {
      "cell_type": "code",
      "source": [
        "class Dog:\n",
        "    def __init__(self, name):\n",
        "        self.name = name\n",
        "\n",
        "    def bark(self):\n",
        "        return f\"{self.name} says woof!\"\n",
        "\n",
        "# Example usage\n",
        "my_dog = Dog(\"Buddy\")\n",
        "print(my_dog.bark())  # Output: Buddy says woof!"
      ],
      "metadata": {
        "colab": {
          "base_uri": "https://localhost:8080/"
        },
        "id": "jWLCdIsQQBAy",
        "outputId": "fc421e0a-7af7-493e-abba-2854fe5c6090"
      },
      "execution_count": 2,
      "outputs": [
        {
          "output_type": "stream",
          "name": "stdout",
          "text": [
            "Buddy says woof!\n"
          ]
        }
      ]
    },
    {
      "cell_type": "markdown",
      "source": [
        "Class Methods\n",
        "Definition: Class methods are functions that operate on the class itself rather than on instances of the class. They are defined using the @classmethod decorator and take at least one parameter, usually named cls, which refers to the class itself.\n",
        "Access: They can access class variables (attributes) and other class methods but cannot access instance variables directly.\n",
        "Usage: Used when you need to perform operations that pertain to the class as a whole, rather than to any specific instance."
      ],
      "metadata": {
        "id": "Q2ftiUnMQHr6"
      }
    },
    {
      "cell_type": "code",
      "source": [
        "class Dog:\n",
        "    species = \"Canis lupus familiaris\"  # Class variable\n",
        "\n",
        "    def __init__(self, name):\n",
        "        self.name = name\n",
        "\n",
        "    @classmethod\n",
        "    def get_species(cls):\n",
        "        return cls.species\n",
        "\n",
        "# Example usage\n",
        "print(Dog.get_species())  # Output: Canis lupus familiaris"
      ],
      "metadata": {
        "colab": {
          "base_uri": "https://localhost:8080/"
        },
        "id": "aj0yhzaBQK7t",
        "outputId": "1e4d427d-2b23-4c5a-db51-4021dc5ff10d"
      },
      "execution_count": 3,
      "outputs": [
        {
          "output_type": "stream",
          "name": "stdout",
          "text": [
            "Canis lupus familiaris\n"
          ]
        }
      ]
    },
    {
      "cell_type": "markdown",
      "source": [
        ". How does Python implement method overloading? Give an example"
      ],
      "metadata": {
        "id": "X-rA2HOkQVFA"
      }
    },
    {
      "cell_type": "markdown",
      "source": [
        "Python does not support method overloading in the same way that some other programming languages (like Java or C++) do. In those languages, you can define multiple methods with the same name but different parameter types or counts. However, in Python, if you define a method with the same name multiple times in a class, the last definition will override the previous ones.\n",
        "\n",
        "That said, you can achieve similar functionality through default arguments, variable-length arguments, or by checking the types of arguments within a single method. Here’s how you can implement a form of method overloading in Python:"
      ],
      "metadata": {
        "id": "cu5GtBEmQdTM"
      }
    },
    {
      "cell_type": "code",
      "source": [
        "class MathOperations:\n",
        "    def add(self, a, b=0, c=0):\n",
        "        \"\"\"Add two or three numbers.\"\"\"\n",
        "        return a + b + c\n",
        "\n",
        "# Example usage\n",
        "math_op = MathOperations()\n",
        "print(math_op.add(5, 10))\n",
        "print(math_op.add(5, 10, 15))\n",
        "print(math_op.add(5))"
      ],
      "metadata": {
        "colab": {
          "base_uri": "https://localhost:8080/"
        },
        "id": "OZ3_XJ5CQlCi",
        "outputId": "4828a235-c92c-41c2-af00-cabd54a9d490"
      },
      "execution_count": 4,
      "outputs": [
        {
          "output_type": "stream",
          "name": "stdout",
          "text": [
            "15\n",
            "30\n",
            "5\n"
          ]
        }
      ]
    },
    {
      "cell_type": "code",
      "source": [
        "class MathOperations:\n",
        "    def add(self, *args):\n",
        "        \"\"\"Add a variable number of arguments.\"\"\"\n",
        "        return sum(args)\n",
        "\n",
        "# Example usage\n",
        "math_op = MathOperations()\n",
        "print(math_op.add(5, 10))\n",
        "print(math_op.add(5, 10, 15))\n",
        "print(math_op.add(5, 10, 15, 20, 25))\n",
        "print(math_op.add(5))"
      ],
      "metadata": {
        "colab": {
          "base_uri": "https://localhost:8080/"
        },
        "id": "27XJIY1AQvmU",
        "outputId": "10a31a6a-5a00-4826-a185-292fb02a9ed7"
      },
      "execution_count": 5,
      "outputs": [
        {
          "output_type": "stream",
          "name": "stdout",
          "text": [
            "15\n",
            "30\n",
            "75\n",
            "5\n"
          ]
        }
      ]
    },
    {
      "cell_type": "markdown",
      "source": [
        "Using Default Arguments: In the first example, the add method can take two or three arguments. If the second and third arguments are not provided, they default to 0. This allows the method to be called with different numbers of arguments.\n",
        "\n",
        "Using Variable-Length Arguments: In the second example, the add method uses *args, which allows it to accept any number of positional arguments. Inside the method, sum(args)"
      ],
      "metadata": {
        "id": "p1mVwtOYQ6bj"
      }
    },
    {
      "cell_type": "markdown",
      "source": [
        "Using Default Arguments: In the first example, the add method can take two or three arguments. If the second and third arguments are not provided, they default to 0. This allows the method to be called with different numbers of arguments.\n",
        "\n",
        "Using Variable-Length Arguments: In the second example, the add method uses *args, which allows it to accept any number of positional arguments. Inside the method, sum(args)"
      ],
      "metadata": {
        "id": "eT9ozgnnQ-uc"
      }
    },
    {
      "cell_type": "markdown",
      "source": [
        ". What are the three types of access modifiers in Python? How are they denoted?"
      ],
      "metadata": {
        "id": "iDLahb4-RGLY"
      }
    },
    {
      "cell_type": "markdown",
      "source": [
        "In Python, access modifiers are used to define the visibility and accessibility of class members (attributes and methods). While Python does not enforce strict access control like some other programming languages (such as Java or C++), it does provide conventions to indicate the intended access level. The three main types of access modifiers in Python are:\n",
        "\n",
        "1. Public Access Modifier\n",
        "Definition: Public members are accessible from anywhere, both inside and outside the class. By default, all members of a class are public unless specified otherwise.\n",
        "Denotation: Public members are defined without any leading underscores."
      ],
      "metadata": {
        "id": "MqPVHt9TRMC8"
      }
    },
    {
      "cell_type": "code",
      "source": [
        "class MyClass:\n",
        "    def __init__(self):\n",
        "        self.public_attribute = \"I am public\"\n",
        "\n",
        "    def public_method(self):\n",
        "        return \"This is a public method\"\n",
        "\n",
        "# Example usage\n",
        "obj = MyClass()\n",
        "print(obj.public_attribute)  # Accessible\n",
        "print(obj.public_method())    # Accessible"
      ],
      "metadata": {
        "colab": {
          "base_uri": "https://localhost:8080/"
        },
        "id": "QykaqUl0RPEi",
        "outputId": "3ff61209-5caa-4e89-f6e9-e7b6381fe9c7"
      },
      "execution_count": 6,
      "outputs": [
        {
          "output_type": "stream",
          "name": "stdout",
          "text": [
            "I am public\n",
            "This is a public method\n"
          ]
        }
      ]
    },
    {
      "cell_type": "markdown",
      "source": [
        " Protected Access Modifier\n",
        "Definition: Protected members are intended to be accessible only within the class and its subclasses. They are not meant to be accessed from outside the class hierarchy.\n",
        "Denotation: Protected members are defined with a single leading underscore (_)."
      ],
      "metadata": {
        "id": "oB3SvcDSRSb6"
      }
    },
    {
      "cell_type": "code",
      "source": [
        "class MyClass:\n",
        "    def __init__(self):\n",
        "        self._protected_attribute = \"I am protected\"\n",
        "\n",
        "    def _protected_method(self):\n",
        "        return \"This is a protected method\"\n",
        "\n",
        "class SubClass(MyClass):\n",
        "    def access_protected(self):\n",
        "        return self._protected_attribute\n",
        "\n",
        "# Example usage\n",
        "obj = SubClass()\n",
        "print(obj.access_protected())\n",
        "# print(obj._protected_attribute)"
      ],
      "metadata": {
        "colab": {
          "base_uri": "https://localhost:8080/"
        },
        "id": "Iw6nJwg4RUhG",
        "outputId": "4d5f50c6-e483-4523-8ade-d1016dc25755"
      },
      "execution_count": 7,
      "outputs": [
        {
          "output_type": "stream",
          "name": "stdout",
          "text": [
            "I am protected\n"
          ]
        }
      ]
    },
    {
      "cell_type": "markdown",
      "source": [
        "Private Access Modifier\n",
        "Definition: Private members are intended to be accessible only within the class they are defined in. They cannot be accessed from outside the class, including subclasses.\n",
        "Denotation: Private members are defined with a double leading underscore (__).\n",
        "Example:"
      ],
      "metadata": {
        "id": "o9QQEMcFReNW"
      }
    },
    {
      "cell_type": "code",
      "source": [
        "class MyClass:\n",
        "    def __init__(self):\n",
        "        self.__private_attribute = \"I am private\"\n",
        "\n",
        "    def __private_method(self):\n",
        "        return \"This is a private method\"\n",
        "\n",
        "    def access_private(self):\n",
        "        return self.__private_attribute  # Accessible within the class\n",
        "\n",
        "# Example usage\n",
        "obj = MyClass()\n",
        "print(obj.access_private())  # Accessible through a public method\n",
        "# print(obj.__private_attribute)  # Raises AttributeError\n",
        "# print(obj.__private_method())    # Raises AttributeError"
      ],
      "metadata": {
        "colab": {
          "base_uri": "https://localhost:8080/"
        },
        "id": "OkD7sfMYRdHw",
        "outputId": "7709617d-58ff-45d2-fa7f-e35953b221e6"
      },
      "execution_count": 8,
      "outputs": [
        {
          "output_type": "stream",
          "name": "stdout",
          "text": [
            "I am private\n"
          ]
        }
      ]
    },
    {
      "cell_type": "markdown",
      "source": [
        " Describe the five types of inheritance in Python. Provide a simple example of multiple inheritance.\n",
        "\n",
        "\n"
      ],
      "metadata": {
        "id": "_CpfTsPLRlf8"
      }
    },
    {
      "cell_type": "markdown",
      "source": [
        " In Python, inheritance allows a class (called a child or derived class) to inherit attributes and methods from another class (called a parent or base class). Python supports several types of inheritance, which can be categorized as follows:\n",
        "\n",
        "1. Single Inheritance\n",
        "In single inheritance, a derived class inherits from a single base class.\n",
        "\n",
        "Example:\n",
        "\n"
      ],
      "metadata": {
        "id": "6_2ivhGIRxPo"
      }
    },
    {
      "cell_type": "code",
      "source": [
        "class Parent:\n",
        "    def show(self):\n",
        "        return \"This is the parent class.\"\n",
        "\n",
        "class Child(Parent):\n",
        "    def display(self):\n",
        "        return \"This is the child class.\"\n",
        "\n",
        "# Usage\n",
        "child = Child()\n",
        "print(child.show())\n",
        "print(child.display())"
      ],
      "metadata": {
        "colab": {
          "base_uri": "https://localhost:8080/"
        },
        "id": "6DBRCG-VR4ho",
        "outputId": "1b7336dc-bd3b-43fd-acd8-360ebf88e1a8"
      },
      "execution_count": 9,
      "outputs": [
        {
          "output_type": "stream",
          "name": "stdout",
          "text": [
            "This is the parent class.\n",
            "This is the child class.\n"
          ]
        }
      ]
    },
    {
      "cell_type": "markdown",
      "source": [
        " Multiple Inheritance\n",
        "In multiple inheritance, a derived class inherits from more than one base class. This allows the derived class to combine behaviors from multiple classes."
      ],
      "metadata": {
        "id": "9-qpvo2gR--Y"
      }
    },
    {
      "cell_type": "code",
      "source": [
        "class Father:\n",
        "    def skills(self):\n",
        "        return \"Gardening, Carpentry\"\n",
        "\n",
        "class Mother:\n",
        "    def skills(self):\n",
        "        return \"Cooking, Painting\"\n",
        "\n",
        "class Child(Father, Mother):\n",
        "    def display_skills(self):\n",
        "        return f\"Father's skills: {self.skills()}\\nMother's skills: {Mother.skills(self)}\"\n",
        "\n",
        "# Usage\n",
        "child = Child()\n",
        "print(child.display_skills())"
      ],
      "metadata": {
        "colab": {
          "base_uri": "https://localhost:8080/"
        },
        "id": "B0oMVDgySBbT",
        "outputId": "0803ce6d-29a7-4da6-b35a-0ea947053c97"
      },
      "execution_count": 10,
      "outputs": [
        {
          "output_type": "stream",
          "name": "stdout",
          "text": [
            "Father's skills: Gardening, Carpentry\n",
            "Mother's skills: Cooking, Painting\n"
          ]
        }
      ]
    },
    {
      "cell_type": "code",
      "source": [],
      "metadata": {
        "id": "5pw0JTWFRwrM"
      },
      "execution_count": null,
      "outputs": []
    },
    {
      "cell_type": "markdown",
      "source": [
        "Multilevel Inheritance\n",
        "In multilevel inheritance, a class is derived from another derived class. This creates a chain of inheritance."
      ],
      "metadata": {
        "id": "4vnsFz-tSEZ0"
      }
    },
    {
      "cell_type": "code",
      "source": [
        "class Grandparent:\n",
        "    def show(self):\n",
        "        return \"This is the grandparent class.\"\n",
        "\n",
        "class Parent(Grandparent):\n",
        "    def display(self):\n",
        "        return \"This is the parent class.\"\n",
        "\n",
        "class Child(Parent):\n",
        "    def greet(self):\n",
        "        return \"This is the child class.\"\n",
        "\n",
        "# Usage\n",
        "child = Child()\n",
        "print(child.show())     # Output: This is the grandparent class.\n",
        "print(child.display())  # Output: This is the parent class.\n",
        "print(child.greet())    # Output: This is the child class."
      ],
      "metadata": {
        "colab": {
          "base_uri": "https://localhost:8080/"
        },
        "id": "v_n0PsyfSGAT",
        "outputId": "9fc3933a-429d-483f-bf10-dbf7adca1171"
      },
      "execution_count": 11,
      "outputs": [
        {
          "output_type": "stream",
          "name": "stdout",
          "text": [
            "This is the grandparent class.\n",
            "This is the parent class.\n",
            "This is the child class.\n"
          ]
        }
      ]
    },
    {
      "cell_type": "markdown",
      "source": [
        " Hierarchical Inheritance\n",
        "In hierarchical inheritance, multiple classes inherit from a single base class"
      ],
      "metadata": {
        "id": "_Rt6vhIqSJd4"
      }
    },
    {
      "cell_type": "code",
      "source": [
        "class Animal:\n",
        "    def speak(self):\n",
        "        return \"Animal speaks\"\n",
        "\n",
        "class Dog(Animal):\n",
        "    def bark(self):\n",
        "        return \"Dog barks\"\n",
        "\n",
        "class Cat(Animal):\n",
        "    def meow(self):\n",
        "        return \"Cat meows\"\n",
        "\n",
        "# Usage\n",
        "dog = Dog()\n",
        "cat = Cat()\n",
        "print(dog.speak())\n",
        "print(cat.speak())\n",
        "print(dog.bark())\n",
        "print(cat.meow())"
      ],
      "metadata": {
        "colab": {
          "base_uri": "https://localhost:8080/"
        },
        "id": "tbNLnuoRSK16",
        "outputId": "094e472e-8a42-4070-8837-01bd303f0eab"
      },
      "execution_count": 12,
      "outputs": [
        {
          "output_type": "stream",
          "name": "stdout",
          "text": [
            "Animal speaks\n",
            "Animal speaks\n",
            "Dog barks\n",
            "Cat meows\n"
          ]
        }
      ]
    },
    {
      "cell_type": "markdown",
      "source": [
        "Hybrid Inheritance\n",
        "Hybrid inheritance is a combination of two or more types of inheritance. It can include a mix of single, multiple, multilevel, and hierarchical inheritance."
      ],
      "metadata": {
        "id": "0GVKr2grSSNc"
      }
    },
    {
      "cell_type": "code",
      "source": [
        "class Base:\n",
        "    def base_method(self):\n",
        "        return \"Base method\"\n",
        "\n",
        "class Derived1(Base):\n",
        "    def derived1_method(self):\n",
        "        return \"Derived1 method\"\n",
        "\n",
        "class Derived2(Base):\n",
        "    def derived2_method(self):\n",
        "        return \"Derived2 method\"\n",
        "\n",
        "class MultiDerived(Derived1, Derived2):\n",
        "    def multi_derived_method(self):\n",
        "        return \"MultiDerived method\"\n",
        "\n",
        "# Usage\n",
        "obj = MultiDerived()\n",
        "print(obj.base_method())\n",
        "print(obj.derived1_method())\n",
        "print(obj.derived2_method())\n",
        "print(obj.multi_derived_method())"
      ],
      "metadata": {
        "colab": {
          "base_uri": "https://localhost:8080/"
        },
        "id": "Q-pwO0M-SUAe",
        "outputId": "57ca3a6e-aaa4-4017-ba49-5901ab4eafd3"
      },
      "execution_count": 13,
      "outputs": [
        {
          "output_type": "stream",
          "name": "stdout",
          "text": [
            "Base method\n",
            "Derived1 method\n",
            "Derived2 method\n",
            "MultiDerived method\n"
          ]
        }
      ]
    },
    {
      "cell_type": "markdown",
      "source": [
        " What is the Method Resolution Order (MRO) in Python? How can you retrieve it programmatically?"
      ],
      "metadata": {
        "id": "viPbXzd1SfFW"
      }
    },
    {
      "cell_type": "markdown",
      "source": [
        "Method Resolution Order (MRO) in Python\n",
        "Method Resolution Order (MRO) is a mechanism in Python that determines the order in which base classes are searched when executing a method or accessing an attribute. This is particularly important in the context of multiple inheritance, where a class can inherit from multiple parent classes. The MRO defines the order in which these classes are traversed to find methods and attributes.\n",
        "\n",
        "Python uses the C3 linearization algorithm (also known as C3 superclass linearization) to compute the MRO. This algorithm ensures a consistent order of method resolution while maintaining the following rules:\n",
        "\n",
        "A class appears before its parents.\n",
        "If a class appears as a parent in multiple places, it should only appear once in the MRO.\n",
        "The order of parent classes is preserved.\n",
        "How to Retrieve MRO Programmatically\n",
        "You can retrieve the MRO of a class using the __mro__ attribute or the mro() method. Both will give you the same result."
      ],
      "metadata": {
        "id": "7RtNTF-aSoap"
      }
    },
    {
      "cell_type": "code",
      "source": [
        "class A:\n",
        "    pass\n",
        "\n",
        "class B(A):\n",
        "    pass\n",
        "\n",
        "class C(A):\n",
        "    pass\n",
        "\n",
        "class D(B, C):\n",
        "    pass\n",
        "\n",
        "# Retrieve MRO\n",
        "print(D.__mro__)\n",
        "print(D.mro())"
      ],
      "metadata": {
        "colab": {
          "base_uri": "https://localhost:8080/"
        },
        "id": "qtVgS_y-Su48",
        "outputId": "2dcb9a62-a119-4463-a6ce-1e48aa6afd56"
      },
      "execution_count": 14,
      "outputs": [
        {
          "output_type": "stream",
          "name": "stdout",
          "text": [
            "(<class '__main__.D'>, <class '__main__.B'>, <class '__main__.C'>, <class '__main__.A'>, <class 'object'>)\n",
            "[<class '__main__.D'>, <class '__main__.B'>, <class '__main__.C'>, <class '__main__.A'>, <class 'object'>]\n"
          ]
        }
      ]
    },
    {
      "cell_type": "markdown",
      "source": [
        ". Create an abstract base class `Shape` with an abstract method `area()`. Then create two subclasses\n",
        "`Circle` and `Rectangle` that implement the `area()` method."
      ],
      "metadata": {
        "id": "wPw7P29RS-tG"
      }
    },
    {
      "cell_type": "code",
      "source": [
        "from abc import ABC, abstractmethod\n",
        "import math\n",
        "\n",
        "# Abstract Base Class\n",
        "class Shape(ABC):\n",
        "    @abstractmethod\n",
        "    def area(self):\n",
        "        pass\n",
        "\n",
        "# Subclass for Circle\n",
        "class Circle(Shape):\n",
        "    def __init__(self, radius):\n",
        "        self.radius = radius\n",
        "\n",
        "    def area(self):\n",
        "        return math.pi * (self.radius ** 2)\n",
        "\n",
        "# Subclass for Rectangle\n",
        "class Rectangle(Shape):\n",
        "    def __init__(self, width, height):\n",
        "        self.width = width\n",
        "        self.height = height\n",
        "\n",
        "    def area(self):\n",
        "        return self.width * self.height\n",
        "\n",
        "# Example Usage\n",
        "if __name__ == \"__main__\":\n",
        "    circle = Circle(5)\n",
        "    rectangle = Rectangle(4, 6)\n",
        "\n",
        "    print(f\"Area of Circle: {circle.area():.2f}\")\n",
        "    print(f\"Area of Rectangle: {rectangle.area():.2f}\")"
      ],
      "metadata": {
        "colab": {
          "base_uri": "https://localhost:8080/"
        },
        "id": "bIxhsmAkTJYF",
        "outputId": "4abdcff9-0fde-4784-be8f-de1be502c269"
      },
      "execution_count": 15,
      "outputs": [
        {
          "output_type": "stream",
          "name": "stdout",
          "text": [
            "Area of Circle: 78.54\n",
            "Area of Rectangle: 24.00\n"
          ]
        }
      ]
    },
    {
      "cell_type": "markdown",
      "source": [
        "Demonstrate polymorphism by creating a function that can work with different shape objects to calculate\n",
        "and print their areas.\n",
        "\n",
        "\n"
      ],
      "metadata": {
        "id": "waLE0FMcTTEQ"
      }
    },
    {
      "cell_type": "markdown",
      "source": [
        "Polymorphism in Python allows different classes to be treated as instances of the same class through a common interface. This is particularly useful when you have multiple classes that implement the same method. In the context of the Shape class and its subclasses (Circle and Rectangle), we can create a function that takes a Shape object and calculates its area, regardless of the specific type of shape."
      ],
      "metadata": {
        "id": "_ihq9IwuTmHQ"
      }
    },
    {
      "cell_type": "code",
      "source": [
        "from abc import ABC, abstractmethod\n",
        "import math\n",
        "\n",
        "# Abstract Base Class\n",
        "class Shape(ABC):\n",
        "    @abstractmethod\n",
        "    def area(self):\n",
        "        pass\n",
        "\n",
        "# Subclass for Circle\n",
        "class Circle(Shape):\n",
        "    def __init__(self, radius):\n",
        "        self.radius = radius\n",
        "\n",
        "    def area(self):\n",
        "        return math.pi * (self.radius ** 2)\n",
        "\n",
        "# Subclass for Rectangle\n",
        "class Rectangle(Shape):\n",
        "    def __init__(self, width, height):\n",
        "        self.width = width\n",
        "        self.height = height\n",
        "\n",
        "    def area(self):\n",
        "        return self.width * self.height\n",
        "\n",
        "# Function to calculate and print area\n",
        "def print_area(shape: Shape):\n",
        "    print(f\"Area: {shape.area():.2f}\")\n",
        "\n",
        "# Example Usage\n",
        "if __name__ == \"__main__\":\n",
        "    shapes = [\n",
        "        Circle(5),\n",
        "        Rectangle(4, 6)\n",
        "    ]\n",
        "\n",
        "    for shape in shapes:\n",
        "        print_area(shape)"
      ],
      "metadata": {
        "colab": {
          "base_uri": "https://localhost:8080/"
        },
        "id": "eJMQV4O-TpJi",
        "outputId": "f8d5c6ef-7ea5-46b6-e307-5f55acf2a518"
      },
      "execution_count": 16,
      "outputs": [
        {
          "output_type": "stream",
          "name": "stdout",
          "text": [
            "Area: 78.54\n",
            "Area: 24.00\n"
          ]
        }
      ]
    },
    {
      "cell_type": "markdown",
      "source": [
        " Implement encapsulation in a `BankAccount` class with private attributes for `balance` and\n",
        "`account_number`. Include methods for deposit, withdrawal, and balance inquiry"
      ],
      "metadata": {
        "id": "zy3QlnDXTuxs"
      }
    },
    {
      "cell_type": "markdown",
      "source": [
        " Implement encapsulation in a `BankAccount` class with private attributes for `balance` and\n",
        "`account_number`. Include methods for deposit, withdrawal, and balance inquiry"
      ],
      "metadata": {
        "id": "RrgFa4EPTztq"
      }
    },
    {
      "cell_type": "code",
      "source": [
        "class BankAccount:\n",
        "    def __init__(self, account_number, initial_balance=0.0):\n",
        "        self.__account_number = account_number  # Private attribute\n",
        "        self.__balance = initial_balance         # Private attribute\n",
        "\n",
        "    def deposit(self, amount):\n",
        "        \"\"\"Deposit money into the account.\"\"\"\n",
        "        if amount > 0:\n",
        "            self.__balance += amount\n",
        "            print(f\"Deposited: ${amount:.2f}. New balance: ${self.__balance:.2f}.\")\n",
        "        else:\n",
        "            print(\"Deposit amount must be positive.\")\n",
        "\n",
        "    def withdraw(self, amount):\n",
        "        \"\"\"Withdraw money from the account.\"\"\"\n",
        "        if amount > 0:\n",
        "            if amount <= self.__balance:\n",
        "                self.__balance -= amount\n",
        "                print(f\"Withdrew: ${amount:.2f}. New balance: ${self.__balance:.2f}.\")\n",
        "            else:\n",
        "                print(\"Insufficient funds for this withdrawal.\")\n",
        "        else:\n",
        "            print(\"Withdrawal amount must be positive.\")\n",
        "\n",
        "    def get_balance(self):\n",
        "        \"\"\"Return the current balance.\"\"\"\n",
        "        return self.__balance\n",
        "\n",
        "    def get_account_number(self):\n",
        "        \"\"\"Return the account number.\"\"\"\n",
        "        return self.__account_number\n",
        "\n",
        "# Example Usage\n",
        "if __name__ == \"__main__\":\n",
        "    # Create a BankAccount instance\n",
        "    account = BankAccount(\"123456789\", 1000.0)\n",
        "\n",
        "    # Perform some operations\n",
        "    account.deposit(500)          # Deposit money\n",
        "    account.withdraw(200)         # Withdraw money\n",
        "    account.withdraw(2000)        # Attempt to withdraw more than balance\n",
        "    print(f\"Current Balance: ${account.get_balance():.2f}\")  # Balance inquiry\n",
        "    print(f\"Account Number: {account.get_account_number()}\")  # Get account number"
      ],
      "metadata": {
        "colab": {
          "base_uri": "https://localhost:8080/"
        },
        "id": "BjojDmE3T2-x",
        "outputId": "0ddde976-6a18-4820-bdaf-4edabf5abd52"
      },
      "execution_count": 17,
      "outputs": [
        {
          "output_type": "stream",
          "name": "stdout",
          "text": [
            "Deposited: $500.00. New balance: $1500.00.\n",
            "Withdrew: $200.00. New balance: $1300.00.\n",
            "Insufficient funds for this withdrawal.\n",
            "Current Balance: $1300.00\n",
            "Account Number: 123456789\n"
          ]
        }
      ]
    },
    {
      "cell_type": "markdown",
      "source": [
        "Write a class that overrides the `__str__` and `__add__` magic methods. What will these methods allow\n",
        "you to do?"
      ],
      "metadata": {
        "id": "6ODXME6CT8E2"
      }
    },
    {
      "cell_type": "markdown",
      "source": [
        "In Python, magic methods (also known as dunder methods) allow you to define how instances of your classes behave with built-in operations. The __str__ method is used to define a string representation of an object, while the __add__ method allows you to define the behavior of the addition operator (+) for instances of your class.\n",
        "\n",
        "Implementation\n",
        "Let's create a class called Vector that represents a mathematical vector in two dimensions. We will override the __str__ method to provide a readable string representation of the vector and the __add__ method to enable vector addition."
      ],
      "metadata": {
        "id": "kqXy7mvKUCVu"
      }
    },
    {
      "cell_type": "code",
      "source": [
        "class Vector:\n",
        "    def __init__(self, x, y):\n",
        "        self.x = x\n",
        "        self.y = y\n",
        "\n",
        "    def __str__(self):\n",
        "        \"\"\"Return a string representation of the vector.\"\"\"\n",
        "        return f\"Vector({self.x}, {self.y})\"\n",
        "\n",
        "    def __add__(self, other):\n",
        "        \"\"\"Return the sum of two vectors.\"\"\"\n",
        "        if isinstance(other, Vector):\n",
        "            return Vector(self.x + other.x, self.y + other.y)\n",
        "        return NotImplemented\n",
        "\n",
        "# Example Usage\n",
        "if __name__ == \"__main__\":\n",
        "    v1 = Vector(2, 3)\n",
        "    v2 = Vector(5, 7)\n",
        "\n",
        "    print(v1)  # Calls the __str__ method\n",
        "    print(v2)  # Calls the __str__ method\n",
        "\n",
        "    v3 = v1 + v2  # Calls the __add__ method\n",
        "    print(v3)  # Calls the __str__ method for the result"
      ],
      "metadata": {
        "colab": {
          "base_uri": "https://localhost:8080/"
        },
        "id": "vtx-fULKUD7t",
        "outputId": "80d16157-c8a6-4f40-8863-5bec1c5fd2fb"
      },
      "execution_count": 18,
      "outputs": [
        {
          "output_type": "stream",
          "name": "stdout",
          "text": [
            "Vector(2, 3)\n",
            "Vector(5, 7)\n",
            "Vector(7, 10)\n"
          ]
        }
      ]
    },
    {
      "cell_type": "markdown",
      "source": [
        "Create a decorator that measures and prints the execution time of a function"
      ],
      "metadata": {
        "id": "6FqW5KjcUIKI"
      }
    },
    {
      "cell_type": "code",
      "source": [
        "import time\n",
        "from functools import wraps\n",
        "\n",
        "def timing_decorator(func):\n",
        "    @wraps(func)  # This preserves the original function's metadata\n",
        "    def wrapper(*args, **kwargs):\n",
        "        start_time = time.time()  # Record the start time\n",
        "        result = func(*args, **kwargs)  # Call the original function\n",
        "        end_time = time.time()  # Record the end time\n",
        "        execution_time = end_time - start_time  # Calculate the execution time\n",
        "        print(f\"Execution time of {func.__name__}: {execution_time:.4f} seconds\")\n",
        "        return result  # Return the result of the original function\n",
        "    return wrapper\n",
        "\n",
        "# Example Usage\n",
        "@timing_decorator\n",
        "def example_function(n):\n",
        "    \"\"\"A function that simulates a time-consuming task.\"\"\"\n",
        "    total = 0\n",
        "    for i in range(n):\n",
        "        total += i\n",
        "    return total\n",
        "\n",
        "if __name__ == \"__main__\":\n",
        "    result = example_function(1000000)  # Call the decorated function\n",
        "    print(f\"Result: {result}\")"
      ],
      "metadata": {
        "colab": {
          "base_uri": "https://localhost:8080/"
        },
        "id": "8fT06K1PUWWh",
        "outputId": "4114c50b-8fc9-428f-f1ac-70489ae84990"
      },
      "execution_count": 19,
      "outputs": [
        {
          "output_type": "stream",
          "name": "stdout",
          "text": [
            "Execution time of example_function: 0.0696 seconds\n",
            "Result: 499999500000\n"
          ]
        }
      ]
    },
    {
      "cell_type": "markdown",
      "source": [
        ". Explain the concept of the Diamond Problem in multiple inheritance. How does Python resolve it?"
      ],
      "metadata": {
        "id": "uo7tBHpLUMCB"
      }
    },
    {
      "cell_type": "markdown",
      "source": [
        "The Diamond Problem is a common issue that arises in object-oriented programming languages that support multiple inheritance. It occurs when a class inherits from two classes that both inherit from a common base class. This creates a diamond-shaped inheritance structure, leading to ambiguity regarding which superclass method or attribute should be inherited by the subclass.\n",
        "\n",
        "Diamond Problem Illustration"
      ],
      "metadata": {
        "id": "YoPic1ApUe9F"
      }
    },
    {
      "cell_type": "markdown",
      "source": [
        "        A\n",
        "       / \\\n",
        "      B   C\n",
        "       \\ /\n",
        "        D"
      ],
      "metadata": {
        "id": "TF3XBcJQUh3C"
      }
    },
    {
      "cell_type": "markdown",
      "source": [
        "n this example:\n",
        "\n",
        "Class A is the base class.\n",
        "Classes B and C both inherit from A.\n",
        "Class D inherits from both B and C.\n",
        "The problem arises when class D tries to access a method or attribute that is defined in class A. The ambiguity comes from whether the method or attribute should be inherited from B or C, since both B and C inherit from A."
      ],
      "metadata": {
        "id": "y7yJtSaZUlXN"
      }
    },
    {
      "cell_type": "markdown",
      "source": [
        "Python's Resolution of the Diamond Problem\n",
        "Python uses a method resolution order (MRO) to resolve the diamond problem. The MRO is a linearization of the class hierarchy that determines the order in which classes are searched when looking for a method or attribute. Python uses the C3 linearization algorithm for this purpose.\n",
        "\n",
        "Key Points of Python's Approach:\n",
        "C3 Linearization:\n",
        "\n",
        "Python's MRO is determined using the C3 linearization algorithm, which ensures that the order of inheritance is respected and that classes appear before their parents in the resolution order.\n",
        "This means that if a class inherits from multiple classes, Python will look at the class itself first, then its parents, following the order specified in the class definition.\n",
        "Single Inheritance Preference:\n",
        "\n",
        "If a class inherits from multiple classes, Python will give priority to the first class listed in the inheritance declaration when resolving methods or attributes.\n",
        "Using super():\n",
        "\n",
        "Python provides the super() function, which can be used to call methods from a parent class in a way that respects the MRO. This allows for a more controlled method resolution in cases of multiple inheritance."
      ],
      "metadata": {
        "id": "yOwoOzpRUo8R"
      }
    },
    {
      "cell_type": "code",
      "source": [
        "class A:\n",
        "    def greet(self):\n",
        "        print(\"Hello from A\")\n",
        "\n",
        "class B(A):\n",
        "    def greet(self):\n",
        "        print(\"Hello from B\")\n",
        "        super().greet()  # Calls A's greet\n",
        "\n",
        "class C(A):\n",
        "    def greet(self):\n",
        "        print(\"Hello from C\")\n",
        "        super().greet()  # Calls A's greet\n",
        "\n",
        "class D(B, C):\n",
        "    def greet(self):\n",
        "        print(\"Hello from D\")\n",
        "        super().greet()  # Calls B's greet, which calls C's greet, then A's greet\n",
        "\n",
        "# Example Usage\n",
        "d = D()\n",
        "d.greet()\n",
        "\n",
        "# Check the Method Resolution Order\n",
        "print(D.mro())"
      ],
      "metadata": {
        "colab": {
          "base_uri": "https://localhost:8080/"
        },
        "id": "nO3gZA3gUqvz",
        "outputId": "5946c53b-c13c-4f3c-abba-b8e4c334cd99"
      },
      "execution_count": 20,
      "outputs": [
        {
          "output_type": "stream",
          "name": "stdout",
          "text": [
            "Hello from D\n",
            "Hello from B\n",
            "Hello from C\n",
            "Hello from A\n",
            "[<class '__main__.D'>, <class '__main__.B'>, <class '__main__.C'>, <class '__main__.A'>, <class 'object'>]\n"
          ]
        }
      ]
    },
    {
      "cell_type": "markdown",
      "source": [
        " Write a class method that keeps track of the number of instances created from a class"
      ],
      "metadata": {
        "id": "rmODlrbMUvKU"
      }
    },
    {
      "cell_type": "code",
      "source": [
        "class InstanceCounter:\n",
        "    # Class variable to keep track of the number of instances\n",
        "    instance_count = 0\n",
        "\n",
        "    def __init__(self):\n",
        "        # Increment the instance count every time a new instance is created\n",
        "        InstanceCounter.instance_count += 1\n",
        "\n",
        "    @classmethod\n",
        "    def get_instance_count(cls):\n",
        "        \"\"\"Class method to get the current instance count.\"\"\"\n",
        "        return cls.instance_count\n",
        "\n",
        "# Example Usage\n",
        "if __name__ == \"__main__\":\n",
        "    obj1 = InstanceCounter()\n",
        "    obj2 = InstanceCounter()\n",
        "    obj3 = InstanceCounter()\n",
        "\n",
        "    print(f\"Number of instances created: {InstanceCounter.get_instance_count()}\")"
      ],
      "metadata": {
        "colab": {
          "base_uri": "https://localhost:8080/"
        },
        "id": "mXRZDWnxUzhG",
        "outputId": "6e1af89b-533e-4202-d3cb-eac93e37f001"
      },
      "execution_count": 21,
      "outputs": [
        {
          "output_type": "stream",
          "name": "stdout",
          "text": [
            "Number of instances created: 3\n"
          ]
        }
      ]
    },
    {
      "cell_type": "markdown",
      "source": [
        "Implement a static method in a class that checks if a given year is a leap year"
      ],
      "metadata": {
        "id": "a_jUOeGPU3th"
      }
    },
    {
      "cell_type": "code",
      "source": [
        "class YearChecker:\n",
        "    @staticmethod\n",
        "    def is_leap_year(year):\n",
        "        \"\"\"Check if the given year is a leap year.\"\"\"\n",
        "        if (year % 4 == 0 and year % 100 != 0) or (year % 400 == 0):\n",
        "            return True\n",
        "        return False\n",
        "\n",
        "# Example Usage\n",
        "if __name__ == \"__main__\":\n",
        "    years_to_check = [2000, 2001, 1900, 2024, 2023]\n",
        "    for year in years_to_check:\n",
        "        if YearChecker.is_leap_year(year):\n",
        "            print(f\"{year} is a leap year.\")\n",
        "        else:\n",
        "            print(f\"{year} is not a leap year.\")"
      ],
      "metadata": {
        "colab": {
          "base_uri": "https://localhost:8080/"
        },
        "id": "vNRo8SJ2VAe4",
        "outputId": "d6fd6656-9a91-4bcb-f091-83115830e646"
      },
      "execution_count": 22,
      "outputs": [
        {
          "output_type": "stream",
          "name": "stdout",
          "text": [
            "2000 is a leap year.\n",
            "2001 is not a leap year.\n",
            "1900 is not a leap year.\n",
            "2024 is a leap year.\n",
            "2023 is not a leap year.\n"
          ]
        }
      ]
    }
  ]
}